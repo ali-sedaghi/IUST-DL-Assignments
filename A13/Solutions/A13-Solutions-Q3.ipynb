{
  "nbformat": 4,
  "nbformat_minor": 0,
  "metadata": {
    "colab": {
      "name": "HW13_Q3.ipynb",
      "provenance": [],
      "collapsed_sections": [],
      "toc_visible": true
    },
    "kernelspec": {
      "name": "python3",
      "display_name": "Python 3"
    },
    "accelerator": "GPU"
  },
  "cells": [
    {
      "cell_type": "code",
      "metadata": {
        "id": "05e4mKftC8BP"
      },
      "source": [
        "#@title Student Information\n",
        "#@markdown Enter the following info and run the cell:\n",
        "Name = \"Ali Sedaghi\" #@param {type:\"string\"}\n",
        "StudentNumber = 97521378 #@param {type:\"integer\"}"
      ],
      "execution_count": 1,
      "outputs": []
    },
    {
      "cell_type": "markdown",
      "metadata": {
        "id": "Tf-jnHngag-m"
      },
      "source": [
        "#Imports"
      ]
    },
    {
      "cell_type": "code",
      "metadata": {
        "id": "dJBzDr12K3bf"
      },
      "source": [
        "%%capture\n",
        "!pip install transformers"
      ],
      "execution_count": 2,
      "outputs": []
    },
    {
      "cell_type": "code",
      "metadata": {
        "id": "-0twGcAkFWiG"
      },
      "source": [
        "import tensorflow as tf\n",
        "tf.config.run_functions_eagerly(True)\n",
        "import tensorflow_datasets as tfds\n",
        "\n",
        "from functools import reduce\n",
        "import tarfile\n",
        "import numpy as np\n",
        "import re\n",
        "\n",
        "import IPython\n",
        "from IPython.display import clear_output \n",
        "import matplotlib.pyplot as plt\n",
        "import pandas as pd\n",
        "\n",
        "from transformers import TFBertModel, BertTokenizer\n",
        "%matplotlib inline"
      ],
      "execution_count": 3,
      "outputs": []
    },
    {
      "cell_type": "code",
      "metadata": {
        "colab": {
          "base_uri": "https://localhost:8080/"
        },
        "id": "FGw9iBLGU9Cu",
        "outputId": "addcb81f-ef93-4b02-f80d-e8e3dfc3f37a"
      },
      "source": [
        "!nvidia-smi # check if gpu mode is selected"
      ],
      "execution_count": 4,
      "outputs": [
        {
          "output_type": "stream",
          "name": "stdout",
          "text": [
            "Thu Jan  6 15:17:36 2022       \n",
            "+-----------------------------------------------------------------------------+\n",
            "| NVIDIA-SMI 495.44       Driver Version: 460.32.03    CUDA Version: 11.2     |\n",
            "|-------------------------------+----------------------+----------------------+\n",
            "| GPU  Name        Persistence-M| Bus-Id        Disp.A | Volatile Uncorr. ECC |\n",
            "| Fan  Temp  Perf  Pwr:Usage/Cap|         Memory-Usage | GPU-Util  Compute M. |\n",
            "|                               |                      |               MIG M. |\n",
            "|===============================+======================+======================|\n",
            "|   0  Tesla K80           Off  | 00000000:00:04.0 Off |                    0 |\n",
            "| N/A   56C    P8    33W / 149W |      0MiB / 11441MiB |      0%      Default |\n",
            "|                               |                      |                  N/A |\n",
            "+-------------------------------+----------------------+----------------------+\n",
            "                                                                               \n",
            "+-----------------------------------------------------------------------------+\n",
            "| Processes:                                                                  |\n",
            "|  GPU   GI   CI        PID   Type   Process name                  GPU Memory |\n",
            "|        ID   ID                                                   Usage      |\n",
            "|=============================================================================|\n",
            "|  No running processes found                                                 |\n",
            "+-----------------------------------------------------------------------------+\n"
          ]
        }
      ]
    },
    {
      "cell_type": "markdown",
      "metadata": {
        "id": "2JqUZuEo8G_p"
      },
      "source": [
        "We will use a dataset consists of questions where a previously given single supporting fact, potentially amongst a set of other irrelevant facts, provides the answer. We first test one of the simplest cases of this, by asking for the location of a person, e.g. “$Mary$ $travelled$ $to$ $the$ $office.$ $Where$ $is$ $Mary?$”. It can be considered the\n",
        "simplest case of some real world QA datasets."
      ]
    },
    {
      "cell_type": "markdown",
      "metadata": {
        "id": "KsvVnfvfGnib"
      },
      "source": [
        "About the dataset: https://research.fb.com/downloads/babi/"
      ]
    },
    {
      "cell_type": "markdown",
      "metadata": {
        "id": "-OlahJ1OrKjd"
      },
      "source": [
        "Lets download the dataset:"
      ]
    },
    {
      "cell_type": "markdown",
      "metadata": {
        "id": "h_dp3WT7FW8E"
      },
      "source": [
        "# 1. LSTM- Q&A\n",
        "\n"
      ]
    },
    {
      "cell_type": "markdown",
      "metadata": {
        "id": "259V3MeC9G55"
      },
      "source": [
        "## 1.2 Preprocessing"
      ]
    },
    {
      "cell_type": "markdown",
      "metadata": {
        "id": "4u_xDAfovXf7"
      },
      "source": [
        "Our model takes a discrete set of inputs $x_{1}, ..., x_{n}$ that are to be stored in the memory, a query $q$, and outputs an answer $a$. Each of the $x_{i}$, $q$, and $a$ contains symbols coming from a dictionary with $V$ words. The model writes all $x$ to the memory up to a fixed buffer size, and then finds a continuous representation for the $x$ and $q$. The continuous representation is then processed via multiple hops to\n",
        "output $a$. This allows backpropagation of the error signal through multiple memory accesses back to the input during training. The overall model is shown in the next figure. During training, all three embedding matrices $A, B$ and $C$, as well as $W$ are jointly learned by minimizing a standard cross-entropy loss between $aˆ$ and the true\n",
        "label $a$. Training is performed using stochastic gradient descent.\n",
        "\n",
        "\n",
        "Delve more deeply into the details: https://arxiv.org/pdf/1503.08895.pdf"
      ]
    },
    {
      "cell_type": "code",
      "metadata": {
        "id": "Tx-wpcdQJfpk"
      },
      "source": [
        "%%capture\n",
        "!wget https://s3.amazonaws.com/text-datasets/babi_tasks_1-20_v1-2.tar.gz\n",
        "!tar -xvzf babi_tasks_1-20_v1-2.tar.gz"
      ],
      "execution_count": 5,
      "outputs": []
    },
    {
      "cell_type": "code",
      "metadata": {
        "id": "tBYgDigJanwz"
      },
      "source": [
        "challenges = [\n",
        "    'qa1_single-supporting-fact',\n",
        "    'qa2_two-supporting-facts',\n",
        "]\n",
        "train_file_path = f'/content/tasks_1-20_v1-2/en-10k/{challenges[0]}_train.txt'\n",
        "test_file_path = f'/content/tasks_1-20_v1-2/en-10k/{challenges[0]}_test.txt'"
      ],
      "execution_count": 6,
      "outputs": []
    },
    {
      "cell_type": "code",
      "metadata": {
        "id": "JCBfH4qrrKjL"
      },
      "source": [
        "def word_tokenizer(sent):\n",
        "    return [ x.strip() for x in re.split('(\\W+)', sent) if x.strip()]"
      ],
      "execution_count": 7,
      "outputs": []
    },
    {
      "cell_type": "markdown",
      "metadata": {
        "id": "_WLJmevS-Dy6"
      },
      "source": [
        "According to the dataset (bAbi tasks), we need to prepare the data for training the model. With the next function we parse the dataset and manufactore it in desired way."
      ]
    },
    {
      "cell_type": "code",
      "metadata": {
        "id": "tzksSX8drKjP"
      },
      "source": [
        "def parse_stories(lines, only_supporting=False, tokenize = True):\n",
        "    '''Parse stories provided in the bAbi tasks format\n",
        "    If only_supporting is true, only the sentences\n",
        "    that support the answer are kept.\n",
        "    '''\n",
        "    data = []\n",
        "    story = []\n",
        "    for line in lines:\n",
        "        line = line.strip()\n",
        "        nid, line = line.split(' ', 1)\n",
        "        nid = int(nid)\n",
        "        if nid == 1:\n",
        "            story = []\n",
        "        if '\\t' in line:\n",
        "            q, a, supporting = line.split('\\t')\n",
        "            if tokenize:\n",
        "                q = word_tokenizer(q)\n",
        "            substory = None\n",
        "            if only_supporting:\n",
        "                # Only select the related substory\n",
        "                supporting = map(int, supporting.split())\n",
        "                substory = [story[i - 1] for i in supporting]\n",
        "            else:\n",
        "                # Provide all the substories\n",
        "                substory = [x for x in story if x]\n",
        "            data.append((substory, q, a))\n",
        "            story.append('')\n",
        "        else:\n",
        "            if tokenize:\n",
        "                sent = word_tokenizer(line)\n",
        "            else:\n",
        "                sent = line\n",
        "            story.append(sent)\n",
        "    return data\n"
      ],
      "execution_count": 8,
      "outputs": []
    },
    {
      "cell_type": "markdown",
      "metadata": {
        "id": "FwkiTJYRJvPe"
      },
      "source": [
        "Now we need to take proper structure of the data: "
      ]
    },
    {
      "cell_type": "code",
      "metadata": {
        "id": "kBc_rzF-rKjT"
      },
      "source": [
        "def get_stories(f, only_supporting=False, max_length=None, tokenize=True):\n",
        "    data = parse_stories(f.readlines(), only_supporting=only_supporting, tokenize=tokenize)\n",
        "    flatten = lambda data: reduce(lambda x, y: x + y, data)\n",
        "    data = [(story[0]+story[1], q, answer) for story, q, answer in data if not max_length or len(flatten(story)) < max_length]\n",
        "    return data"
      ],
      "execution_count": 9,
      "outputs": []
    },
    {
      "cell_type": "markdown",
      "metadata": {
        "id": "FivvTCc8J-GW"
      },
      "source": [
        "Here we need to make the vectors of stories, questions and answers. its too easy:"
      ]
    },
    {
      "cell_type": "code",
      "metadata": {
        "id": "BzEnmDN_rKjW"
      },
      "source": [
        "def vectorize_stories(data, word_idx, story_maxlen, query_maxlen):\n",
        "  \n",
        "    ########################################\n",
        "    #     Put your implementation here     #\n",
        "    ########################################\n",
        "    data_length = len(data)\n",
        "    inputs_train = np.zeros((data_length, story_maxlen))\n",
        "    queries_train = np.zeros((data_length, query_maxlen))\n",
        "    answers_train = np.zeros((data_length, len(word_idx)+1))\n",
        "\n",
        "    i = 0\n",
        "    for input, query, answer in data:\n",
        "        j = 0\n",
        "        for word in input:\n",
        "            inputs_train[i, j] = word_idx[word]\n",
        "            j += 1\n",
        "\n",
        "        j = 0\n",
        "        for word in query:\n",
        "            queries_train[i, j] = word_idx[word]\n",
        "            j += 1\n",
        "\n",
        "        answers_train[i, word_idx[answer]] = 1\n",
        "        i += 1\n",
        "\n",
        "    return inputs_train, queries_train, answers_train"
      ],
      "execution_count": 10,
      "outputs": []
    },
    {
      "cell_type": "markdown",
      "metadata": {
        "id": "B77myra2ZJYK"
      },
      "source": [
        "Its time to extract stories from the dataset, then pass them to the defined functions for parsing and make it usable:"
      ]
    },
    {
      "cell_type": "code",
      "metadata": {
        "id": "Akcwoo3frKjj"
      },
      "source": [
        "train_stories = get_stories(open(train_file_path), tokenize=True)\n",
        "test_stories = get_stories(open(test_file_path), tokenize=True)"
      ],
      "execution_count": 11,
      "outputs": []
    },
    {
      "cell_type": "code",
      "metadata": {
        "id": "kyiMaVRirKjm",
        "colab": {
          "base_uri": "https://localhost:8080/"
        },
        "outputId": "a41c3496-d998-4a4e-8a30-66f82a048a8a"
      },
      "source": [
        "len(train_stories), len(test_stories)"
      ],
      "execution_count": 12,
      "outputs": [
        {
          "output_type": "execute_result",
          "data": {
            "text/plain": [
              "(10000, 1000)"
            ]
          },
          "metadata": {},
          "execution_count": 12
        }
      ]
    },
    {
      "cell_type": "markdown",
      "metadata": {
        "id": "YpXH9iYQrKjq"
      },
      "source": [
        "## 1.3 Check our helper functions and prepare the data:"
      ]
    },
    {
      "cell_type": "code",
      "metadata": {
        "id": "29110FTDrKjr"
      },
      "source": [
        "vocab = set()\n",
        "for story, q, answer in train_stories + test_stories:\n",
        "    vocab |= set(story + q + [answer])\n",
        "vocab = sorted(vocab)\n",
        "\n",
        "# Reserve 0 for masking via pad_sequences\n",
        "vocab_size = len(vocab) + 1\n",
        "story_maxlen = max(map(len, (x for x, _, _ in train_stories + test_stories)))\n",
        "query_maxlen = max(map(len, (x for _, x, _ in train_stories + test_stories)))"
      ],
      "execution_count": 13,
      "outputs": []
    },
    {
      "cell_type": "code",
      "metadata": {
        "id": "PopB46hnrKju",
        "colab": {
          "base_uri": "https://localhost:8080/"
        },
        "outputId": "14a37e40-4825-4017-d825-a5756c39b035"
      },
      "source": [
        "story_maxlen, query_maxlen"
      ],
      "execution_count": 14,
      "outputs": [
        {
          "output_type": "execute_result",
          "data": {
            "text/plain": [
              "(14, 4)"
            ]
          },
          "metadata": {},
          "execution_count": 14
        }
      ]
    },
    {
      "cell_type": "code",
      "metadata": {
        "id": "q-G22KfxrKjy",
        "colab": {
          "base_uri": "https://localhost:8080/"
        },
        "outputId": "09ed43a6-9a24-4260-9476-15f1542d49e6"
      },
      "source": [
        "print('-')\n",
        "print('Vocab size:', vocab_size, 'unique words')\n",
        "print('Story max length:', story_maxlen, 'words')\n",
        "print('Query max length:', query_maxlen, 'words')\n",
        "print('Number of training stories:', len(train_stories))\n",
        "print('Number of test stories:', len(test_stories))\n",
        "print('-')\n",
        "print('Here\\'s what a \"story\" tuple looks like (input, query, answer):')\n",
        "print(train_stories[0])\n",
        "print('-')\n",
        "print('Vectorizing the word sequences...')\n",
        "\n",
        "word_idx = dict((c, i + 1) for i, c in enumerate(vocab))\n",
        "idx_word = dict((i+1, c) for i,c in enumerate(vocab))\n",
        "inputs_train, queries_train, answers_train = vectorize_stories(train_stories,\n",
        "                                                               word_idx,\n",
        "                                                               story_maxlen,\n",
        "                                                               query_maxlen)\n",
        "inputs_test, queries_test, answers_test = vectorize_stories(test_stories,\n",
        "                                                            word_idx,\n",
        "                                                            story_maxlen,\n",
        "                                                            query_maxlen)\n"
      ],
      "execution_count": 15,
      "outputs": [
        {
          "output_type": "stream",
          "name": "stdout",
          "text": [
            "-\n",
            "Vocab size: 22 unique words\n",
            "Story max length: 14 words\n",
            "Query max length: 4 words\n",
            "Number of training stories: 10000\n",
            "Number of test stories: 1000\n",
            "-\n",
            "Here's what a \"story\" tuple looks like (input, query, answer):\n",
            "(['Mary', 'moved', 'to', 'the', 'bathroom', '.', 'John', 'went', 'to', 'the', 'hallway', '.'], ['Where', 'is', 'Mary', '?'], 'bathroom')\n",
            "-\n",
            "Vectorizing the word sequences...\n"
          ]
        }
      ]
    },
    {
      "cell_type": "code",
      "metadata": {
        "id": "oMnIXlTBrKj1",
        "colab": {
          "base_uri": "https://localhost:8080/"
        },
        "outputId": "73d2fb22-992e-438e-dac6-d21ab8fedcfc"
      },
      "source": [
        "inputs_train.shape, queries_train.shape, answers_train.shape"
      ],
      "execution_count": 16,
      "outputs": [
        {
          "output_type": "execute_result",
          "data": {
            "text/plain": [
              "((10000, 14), (10000, 4), (10000, 22))"
            ]
          },
          "metadata": {},
          "execution_count": 16
        }
      ]
    },
    {
      "cell_type": "code",
      "metadata": {
        "id": "d4lNOEBkrKj5",
        "colab": {
          "base_uri": "https://localhost:8080/"
        },
        "outputId": "bbfc09d5-7444-4a7b-90a5-ca91b10b4fb9"
      },
      "source": [
        "print('-')\n",
        "print('inputs: integer tensor of shape (samples, max_length)')\n",
        "print('inputs_train shape:', inputs_train.shape)\n",
        "print('inputs_test shape:', inputs_test.shape)\n",
        "print('-')\n",
        "print('queries: integer tensor of shape (samples, max_length)')\n",
        "print('queries_train shape:', queries_train.shape)\n",
        "print('queries_test shape:', queries_test.shape)\n",
        "print('-')\n",
        "print('answers: binary (1 or 0) tensor of shape (samples, vocab_size)')\n",
        "print('answers_train shape:', answers_train.shape)\n",
        "print('answers_test shape:', answers_test.shape)\n",
        "print('-')\n",
        "print('Compiling...')\n"
      ],
      "execution_count": 17,
      "outputs": [
        {
          "output_type": "stream",
          "name": "stdout",
          "text": [
            "-\n",
            "inputs: integer tensor of shape (samples, max_length)\n",
            "inputs_train shape: (10000, 14)\n",
            "inputs_test shape: (1000, 14)\n",
            "-\n",
            "queries: integer tensor of shape (samples, max_length)\n",
            "queries_train shape: (10000, 4)\n",
            "queries_test shape: (1000, 4)\n",
            "-\n",
            "answers: binary (1 or 0) tensor of shape (samples, vocab_size)\n",
            "answers_train shape: (10000, 22)\n",
            "answers_test shape: (1000, 22)\n",
            "-\n",
            "Compiling...\n"
          ]
        }
      ]
    },
    {
      "cell_type": "markdown",
      "metadata": {
        "id": "tvyawLqgfz_N"
      },
      "source": [
        "In this part you should implement 2 functions which illustrate the procedure of learning, Loss and Accuracy. These functions take two inputs: \n",
        "* The history of your designed model \n",
        "* Proper title for describing the plot"
      ]
    },
    {
      "cell_type": "code",
      "metadata": {
        "id": "g8Ya5e3e3OWG"
      },
      "source": [
        "def plot_acc(history, title):\n",
        "  \n",
        "    # This function should show not only the plot of accuracy on training and validation set\n",
        "    # but also it should show the maximum value of accuracy with its related epoch.\n",
        "    ########################################\n",
        "    #     Put your implementation here     #\n",
        "    ########################################\n",
        "    train_metric = history.history['accuracy']\n",
        "    val_metric = history.history['val_accuracy']\n",
        "\n",
        "    plt.title(title)\n",
        "    plt.plot(train_metric)\n",
        "    plt.plot(val_metric)\n",
        "    plt.ylabel('accuracy')\n",
        "    plt.xlabel('epoch')\n",
        "    plt.legend(['training', 'validation'], loc='lower right')\n",
        "    plt.grid()\n",
        "    plt.show()\n",
        "\n",
        "    max_acc_epoch = train_metric.index(max(train_metric))\n",
        "    max_val_acc_epoch = val_metric.index(max(val_metric))\n",
        "    print(f\"Max train accuracy is {train_metric[max_acc_epoch]} at epoch {max_acc_epoch+1}\")\n",
        "    print(f\"Max val accuracy is {val_metric[max_val_acc_epoch]} at epoch {max_val_acc_epoch+1}\")"
      ],
      "execution_count": 18,
      "outputs": []
    },
    {
      "cell_type": "code",
      "metadata": {
        "id": "pA9BBcEP3Hym"
      },
      "source": [
        "def plot_loss(history, title):\n",
        "  \n",
        "    # This function should show not only the plot of loss on training and validation set\n",
        "    # but also it should show the minimum value of loss with its related epoch.\n",
        "    ########################################\n",
        "    #     Put your implementation here     #\n",
        "    ########################################\n",
        "    train_metric = history.history['loss']\n",
        "    val_metric = history.history['val_loss']\n",
        "\n",
        "    plt.title(title)\n",
        "    plt.plot(train_metric)\n",
        "    plt.plot(val_metric)\n",
        "    plt.ylabel('loss')\n",
        "    plt.xlabel('epoch')\n",
        "    plt.legend(['training', 'validation'], loc='upper right')\n",
        "    plt.grid()\n",
        "    plt.show()\n",
        "\n",
        "    min_loss_epoch = train_metric.index(min(train_metric))\n",
        "    min_val_loss_epoch = val_metric.index(min(val_metric))\n",
        "    print(f\"Min train loss is {train_metric[min_loss_epoch]} at epoch {min_loss_epoch+1}\")\n",
        "    print(f\"Min val loss is {val_metric[min_val_loss_epoch]} at epoch {min_val_loss_epoch+1}\")"
      ],
      "execution_count": 19,
      "outputs": []
    },
    {
      "cell_type": "markdown",
      "metadata": {
        "id": "cMxMeM78xBT8"
      },
      "source": [
        "Define model's hyperparameters"
      ]
    },
    {
      "cell_type": "code",
      "metadata": {
        "id": "p6-mw90LrKj9"
      },
      "source": [
        "train_epochs = 20\n",
        "batch_size = 32\n",
        "lstm_size = 32"
      ],
      "execution_count": 20,
      "outputs": []
    },
    {
      "cell_type": "markdown",
      "metadata": {
        "id": "4G5X8ksgrKkA"
      },
      "source": [
        "## 1.4 Implementstion:"
      ]
    },
    {
      "cell_type": "markdown",
      "metadata": {
        "id": "ayB5NMoI-Sh-"
      },
      "source": [
        "Let's build the model. You should use Keras framework. The summary and outview of the right model is saved in the next cells to help you create the proper model faster.\n"
      ]
    },
    {
      "cell_type": "code",
      "metadata": {
        "id": "2UNREQ9rrKkB",
        "colab": {
          "base_uri": "https://localhost:8080/"
        },
        "outputId": "1214d758-7403-44a2-aac6-8d2dd3538f14"
      },
      "source": [
        "# define the model: \n",
        "\n",
        "input_sequence = tf.keras.layers.Input((story_maxlen,))\n",
        "question = tf.keras.layers.Input((query_maxlen,))\n",
        "\n",
        "print('Input sequence:', input_sequence)\n",
        "print('Question:', question)\n",
        "\n",
        "########################################\n",
        "#     Put your implementation here     #\n",
        "########################################\n",
        "from tensorflow.keras import Sequential\n",
        "from tensorflow.keras.layers import Embedding, Permute, LSTM\n",
        "from tensorflow.keras.layers import Add, Dot, Concatenate\n",
        "from tensorflow.keras.layers import Dropout, Dense, Activation\n",
        "\n",
        "sequential1 = Sequential([Embedding(vocab_size, 64)])(input_sequence)\n",
        "sequential2 = Sequential([Embedding(vocab_size, 4)])(input_sequence)\n",
        "sequential3 = Sequential([Embedding(vocab_size, 64)])(question)\n",
        "x = Dot(axes=(2, 2))([sequential1, sequential3])\n",
        "x = Activation('relu')(x)\n",
        "x = Add()([x, sequential2])\n",
        "x = Permute((2, 1))(x)\n",
        "x = Concatenate()([x, sequential3])\n",
        "x = LSTM(lstm_size)(x)\n",
        "x = Dropout(0.1)(x)\n",
        "x = Dense(vocab_size)(x)\n",
        "answer = Activation('softmax')(x)"
      ],
      "execution_count": 21,
      "outputs": [
        {
          "output_type": "stream",
          "name": "stdout",
          "text": [
            "Input sequence: KerasTensor(type_spec=TensorSpec(shape=(None, 14), dtype=tf.float32, name='input_1'), name='input_1', description=\"created by layer 'input_1'\")\n",
            "Question: KerasTensor(type_spec=TensorSpec(shape=(None, 4), dtype=tf.float32, name='input_2'), name='input_2', description=\"created by layer 'input_2'\")\n"
          ]
        }
      ]
    },
    {
      "cell_type": "code",
      "metadata": {
        "id": "WUvfDiLkrKkF"
      },
      "source": [
        "# build the final model\n",
        "model = tf.keras.models.Model([input_sequence, question], answer)\n",
        "model.compile(optimizer='rmsprop', loss='categorical_crossentropy',\n",
        "              metrics=['accuracy'])"
      ],
      "execution_count": 22,
      "outputs": []
    },
    {
      "cell_type": "markdown",
      "metadata": {
        "id": "UFqPorzN_9Lv"
      },
      "source": [
        "The model architecture should look like this:"
      ]
    },
    {
      "cell_type": "code",
      "metadata": {
        "id": "aX6c1qWQ0iMX",
        "colab": {
          "base_uri": "https://localhost:8080/",
          "height": 1000
        },
        "outputId": "e041def1-2f8b-424b-cc54-0e5b7bd1c0ad"
      },
      "source": [
        "from IPython.display import SVG\n",
        "\n",
        "SVG(tf.keras.utils.model_to_dot(model,show_shapes= True, show_layer_names=True, dpi=60).create(prog='dot', format='svg'))"
      ],
      "execution_count": 23,
      "outputs": [
        {
          "output_type": "execute_result",
          "data": {
            "text/plain": [
              "<IPython.core.display.SVG object>"
            ],
            "image/svg+xml": "<svg height=\"737pt\" viewBox=\"0.00 0.00 891.00 885.00\" width=\"742pt\" xmlns=\"http://www.w3.org/2000/svg\" xmlns:xlink=\"http://www.w3.org/1999/xlink\">\n<g class=\"graph\" id=\"graph0\" transform=\"scale(.8333 .8333) rotate(0) translate(4 881)\">\n<title>G</title>\n<polygon fill=\"#ffffff\" points=\"-4,4 -4,-881 887,-881 887,4 -4,4\" stroke=\"transparent\"/>\n<!-- 139871217884752 -->\n<g class=\"node\" id=\"node1\">\n<title>139871217884752</title>\n<polygon fill=\"none\" points=\"117,-830.5 117,-876.5 406,-876.5 406,-830.5 117,-830.5\" stroke=\"#000000\"/>\n<text fill=\"#000000\" font-family=\"Times,serif\" font-size=\"14.00\" text-anchor=\"middle\" x=\"148\" y=\"-849.8\">input_1</text>\n<polyline fill=\"none\" points=\"179,-830.5 179,-876.5 \" stroke=\"#000000\"/>\n<text fill=\"#000000\" font-family=\"Times,serif\" font-size=\"14.00\" text-anchor=\"middle\" x=\"219\" y=\"-849.8\">InputLayer</text>\n<polyline fill=\"none\" points=\"259,-830.5 259,-876.5 \" stroke=\"#000000\"/>\n<text fill=\"#000000\" font-family=\"Times,serif\" font-size=\"14.00\" text-anchor=\"middle\" x=\"288\" y=\"-861.3\">input:</text>\n<polyline fill=\"none\" points=\"259,-853.5 317,-853.5 \" stroke=\"#000000\"/>\n<text fill=\"#000000\" font-family=\"Times,serif\" font-size=\"14.00\" text-anchor=\"middle\" x=\"288\" y=\"-838.3\">output:</text>\n<polyline fill=\"none\" points=\"317,-830.5 317,-876.5 \" stroke=\"#000000\"/>\n<text fill=\"#000000\" font-family=\"Times,serif\" font-size=\"14.00\" text-anchor=\"middle\" x=\"361.5\" y=\"-861.3\">[(None, 14)]</text>\n<polyline fill=\"none\" points=\"317,-853.5 406,-853.5 \" stroke=\"#000000\"/>\n<text fill=\"#000000\" font-family=\"Times,serif\" font-size=\"14.00\" text-anchor=\"middle\" x=\"361.5\" y=\"-838.3\">[(None, 14)]</text>\n</g>\n<!-- 139871217901136 -->\n<g class=\"node\" id=\"node3\">\n<title>139871217901136</title>\n<polygon fill=\"none\" points=\"193.5,-747.5 193.5,-793.5 521.5,-793.5 521.5,-747.5 193.5,-747.5\" stroke=\"#000000\"/>\n<text fill=\"#000000\" font-family=\"Times,serif\" font-size=\"14.00\" text-anchor=\"middle\" x=\"230.5\" y=\"-766.8\">sequential</text>\n<polyline fill=\"none\" points=\"267.5,-747.5 267.5,-793.5 \" stroke=\"#000000\"/>\n<text fill=\"#000000\" font-family=\"Times,serif\" font-size=\"14.00\" text-anchor=\"middle\" x=\"306\" y=\"-766.8\">Sequential</text>\n<polyline fill=\"none\" points=\"344.5,-747.5 344.5,-793.5 \" stroke=\"#000000\"/>\n<text fill=\"#000000\" font-family=\"Times,serif\" font-size=\"14.00\" text-anchor=\"middle\" x=\"373.5\" y=\"-778.3\">input:</text>\n<polyline fill=\"none\" points=\"344.5,-770.5 402.5,-770.5 \" stroke=\"#000000\"/>\n<text fill=\"#000000\" font-family=\"Times,serif\" font-size=\"14.00\" text-anchor=\"middle\" x=\"373.5\" y=\"-755.3\">output:</text>\n<polyline fill=\"none\" points=\"402.5,-747.5 402.5,-793.5 \" stroke=\"#000000\"/>\n<text fill=\"#000000\" font-family=\"Times,serif\" font-size=\"14.00\" text-anchor=\"middle\" x=\"462\" y=\"-778.3\">(None, None)</text>\n<polyline fill=\"none\" points=\"402.5,-770.5 521.5,-770.5 \" stroke=\"#000000\"/>\n<text fill=\"#000000\" font-family=\"Times,serif\" font-size=\"14.00\" text-anchor=\"middle\" x=\"462\" y=\"-755.3\">(None, None, 64)</text>\n</g>\n<!-- 139871217884752&#45;&gt;139871217901136 -->\n<g class=\"edge\" id=\"edge1\">\n<title>139871217884752-&gt;139871217901136</title>\n<path d=\"M288.2414,-830.3799C298.9697,-821.1043 311.4737,-810.2936 322.8817,-800.4304\" fill=\"none\" stroke=\"#000000\"/>\n<polygon fill=\"#000000\" points=\"325.2935,-802.972 330.5691,-793.784 320.7153,-797.6767 325.2935,-802.972\" stroke=\"#000000\"/>\n</g>\n<!-- 139871217946832 -->\n<g class=\"node\" id=\"node7\">\n<title>139871217946832</title>\n<polygon fill=\"none\" points=\"0,-664.5 0,-710.5 335,-710.5 335,-664.5 0,-664.5\" stroke=\"#000000\"/>\n<text fill=\"#000000\" font-family=\"Times,serif\" font-size=\"14.00\" text-anchor=\"middle\" x=\"44.5\" y=\"-683.8\">sequential_1</text>\n<polyline fill=\"none\" points=\"89,-664.5 89,-710.5 \" stroke=\"#000000\"/>\n<text fill=\"#000000\" font-family=\"Times,serif\" font-size=\"14.00\" text-anchor=\"middle\" x=\"127.5\" y=\"-683.8\">Sequential</text>\n<polyline fill=\"none\" points=\"166,-664.5 166,-710.5 \" stroke=\"#000000\"/>\n<text fill=\"#000000\" font-family=\"Times,serif\" font-size=\"14.00\" text-anchor=\"middle\" x=\"195\" y=\"-695.3\">input:</text>\n<polyline fill=\"none\" points=\"166,-687.5 224,-687.5 \" stroke=\"#000000\"/>\n<text fill=\"#000000\" font-family=\"Times,serif\" font-size=\"14.00\" text-anchor=\"middle\" x=\"195\" y=\"-672.3\">output:</text>\n<polyline fill=\"none\" points=\"224,-664.5 224,-710.5 \" stroke=\"#000000\"/>\n<text fill=\"#000000\" font-family=\"Times,serif\" font-size=\"14.00\" text-anchor=\"middle\" x=\"279.5\" y=\"-695.3\">(None, None)</text>\n<polyline fill=\"none\" points=\"224,-687.5 335,-687.5 \" stroke=\"#000000\"/>\n<text fill=\"#000000\" font-family=\"Times,serif\" font-size=\"14.00\" text-anchor=\"middle\" x=\"279.5\" y=\"-672.3\">(None, None, 4)</text>\n</g>\n<!-- 139871217884752&#45;&gt;139871217946832 -->\n<g class=\"edge\" id=\"edge6\">\n<title>139871217884752-&gt;139871217946832</title>\n<path d=\"M220.1737,-830.3287C206.7573,-820.7854 193.122,-808.5283 184.5,-794 171.443,-771.9986 167.4812,-743.1428 166.6254,-721.0178\" fill=\"none\" stroke=\"#000000\"/>\n<polygon fill=\"#000000\" points=\"170.1198,-720.6876 166.4284,-710.7566 163.1211,-720.822 170.1198,-720.6876\" stroke=\"#000000\"/>\n</g>\n<!-- 139871218268880 -->\n<g class=\"node\" id=\"node2\">\n<title>139871218268880</title>\n<polygon fill=\"none\" points=\"571,-830.5 571,-876.5 852,-876.5 852,-830.5 571,-830.5\" stroke=\"#000000\"/>\n<text fill=\"#000000\" font-family=\"Times,serif\" font-size=\"14.00\" text-anchor=\"middle\" x=\"602\" y=\"-849.8\">input_2</text>\n<polyline fill=\"none\" points=\"633,-830.5 633,-876.5 \" stroke=\"#000000\"/>\n<text fill=\"#000000\" font-family=\"Times,serif\" font-size=\"14.00\" text-anchor=\"middle\" x=\"673\" y=\"-849.8\">InputLayer</text>\n<polyline fill=\"none\" points=\"713,-830.5 713,-876.5 \" stroke=\"#000000\"/>\n<text fill=\"#000000\" font-family=\"Times,serif\" font-size=\"14.00\" text-anchor=\"middle\" x=\"742\" y=\"-861.3\">input:</text>\n<polyline fill=\"none\" points=\"713,-853.5 771,-853.5 \" stroke=\"#000000\"/>\n<text fill=\"#000000\" font-family=\"Times,serif\" font-size=\"14.00\" text-anchor=\"middle\" x=\"742\" y=\"-838.3\">output:</text>\n<polyline fill=\"none\" points=\"771,-830.5 771,-876.5 \" stroke=\"#000000\"/>\n<text fill=\"#000000\" font-family=\"Times,serif\" font-size=\"14.00\" text-anchor=\"middle\" x=\"811.5\" y=\"-861.3\">[(None, 4)]</text>\n<polyline fill=\"none\" points=\"771,-853.5 852,-853.5 \" stroke=\"#000000\"/>\n<text fill=\"#000000\" font-family=\"Times,serif\" font-size=\"14.00\" text-anchor=\"middle\" x=\"811.5\" y=\"-838.3\">[(None, 4)]</text>\n</g>\n<!-- 139871217968016 -->\n<g class=\"node\" id=\"node4\">\n<title>139871217968016</title>\n<polygon fill=\"none\" points=\"540,-747.5 540,-793.5 883,-793.5 883,-747.5 540,-747.5\" stroke=\"#000000\"/>\n<text fill=\"#000000\" font-family=\"Times,serif\" font-size=\"14.00\" text-anchor=\"middle\" x=\"584.5\" y=\"-766.8\">sequential_2</text>\n<polyline fill=\"none\" points=\"629,-747.5 629,-793.5 \" stroke=\"#000000\"/>\n<text fill=\"#000000\" font-family=\"Times,serif\" font-size=\"14.00\" text-anchor=\"middle\" x=\"667.5\" y=\"-766.8\">Sequential</text>\n<polyline fill=\"none\" points=\"706,-747.5 706,-793.5 \" stroke=\"#000000\"/>\n<text fill=\"#000000\" font-family=\"Times,serif\" font-size=\"14.00\" text-anchor=\"middle\" x=\"735\" y=\"-778.3\">input:</text>\n<polyline fill=\"none\" points=\"706,-770.5 764,-770.5 \" stroke=\"#000000\"/>\n<text fill=\"#000000\" font-family=\"Times,serif\" font-size=\"14.00\" text-anchor=\"middle\" x=\"735\" y=\"-755.3\">output:</text>\n<polyline fill=\"none\" points=\"764,-747.5 764,-793.5 \" stroke=\"#000000\"/>\n<text fill=\"#000000\" font-family=\"Times,serif\" font-size=\"14.00\" text-anchor=\"middle\" x=\"823.5\" y=\"-778.3\">(None, None)</text>\n<polyline fill=\"none\" points=\"764,-770.5 883,-770.5 \" stroke=\"#000000\"/>\n<text fill=\"#000000\" font-family=\"Times,serif\" font-size=\"14.00\" text-anchor=\"middle\" x=\"823.5\" y=\"-755.3\">(None, None, 64)</text>\n</g>\n<!-- 139871218268880&#45;&gt;139871217968016 -->\n<g class=\"edge\" id=\"edge2\">\n<title>139871218268880-&gt;139871217968016</title>\n<path d=\"M711.5,-830.3799C711.5,-822.1745 711.5,-812.7679 711.5,-803.8786\" fill=\"none\" stroke=\"#000000\"/>\n<polygon fill=\"#000000\" points=\"715.0001,-803.784 711.5,-793.784 708.0001,-803.784 715.0001,-803.784\" stroke=\"#000000\"/>\n</g>\n<!-- 139871220786832 -->\n<g class=\"node\" id=\"node5\">\n<title>139871220786832</title>\n<polygon fill=\"none\" points=\"354.5,-664.5 354.5,-710.5 682.5,-710.5 682.5,-664.5 354.5,-664.5\" stroke=\"#000000\"/>\n<text fill=\"#000000\" font-family=\"Times,serif\" font-size=\"14.00\" text-anchor=\"middle\" x=\"372\" y=\"-683.8\">dot</text>\n<polyline fill=\"none\" points=\"389.5,-664.5 389.5,-710.5 \" stroke=\"#000000\"/>\n<text fill=\"#000000\" font-family=\"Times,serif\" font-size=\"14.00\" text-anchor=\"middle\" x=\"408.5\" y=\"-683.8\">Dot</text>\n<polyline fill=\"none\" points=\"427.5,-664.5 427.5,-710.5 \" stroke=\"#000000\"/>\n<text fill=\"#000000\" font-family=\"Times,serif\" font-size=\"14.00\" text-anchor=\"middle\" x=\"456.5\" y=\"-695.3\">input:</text>\n<polyline fill=\"none\" points=\"427.5,-687.5 485.5,-687.5 \" stroke=\"#000000\"/>\n<text fill=\"#000000\" font-family=\"Times,serif\" font-size=\"14.00\" text-anchor=\"middle\" x=\"456.5\" y=\"-672.3\">output:</text>\n<polyline fill=\"none\" points=\"485.5,-664.5 485.5,-710.5 \" stroke=\"#000000\"/>\n<text fill=\"#000000\" font-family=\"Times,serif\" font-size=\"14.00\" text-anchor=\"middle\" x=\"584\" y=\"-695.3\">[(None, 14, 64), (None, 4, 64)]</text>\n<polyline fill=\"none\" points=\"485.5,-687.5 682.5,-687.5 \" stroke=\"#000000\"/>\n<text fill=\"#000000\" font-family=\"Times,serif\" font-size=\"14.00\" text-anchor=\"middle\" x=\"584\" y=\"-672.3\">(None, 14, 4)</text>\n</g>\n<!-- 139871217901136&#45;&gt;139871220786832 -->\n<g class=\"edge\" id=\"edge3\">\n<title>139871217901136-&gt;139871220786832</title>\n<path d=\"M402.3475,-747.3799C421.6316,-737.4384 444.3364,-725.7334 464.5326,-715.3217\" fill=\"none\" stroke=\"#000000\"/>\n<polygon fill=\"#000000\" points=\"466.3295,-718.3331 473.6141,-710.6399 463.1219,-712.1113 466.3295,-718.3331\" stroke=\"#000000\"/>\n</g>\n<!-- 139871217968016&#45;&gt;139871220786832 -->\n<g class=\"edge\" id=\"edge4\">\n<title>139871217968016-&gt;139871220786832</title>\n<path d=\"M657.995,-747.4901C634.2542,-737.2803 606.1494,-725.1938 581.4098,-714.5545\" fill=\"none\" stroke=\"#000000\"/>\n<polygon fill=\"#000000\" points=\"582.6783,-711.2901 572.109,-710.5547 579.9128,-717.7207 582.6783,-711.2901\" stroke=\"#000000\"/>\n</g>\n<!-- 139871218008912 -->\n<g class=\"node\" id=\"node10\">\n<title>139871218008912</title>\n<polygon fill=\"none\" points=\"406.5,-332.5 406.5,-378.5 822.5,-378.5 822.5,-332.5 406.5,-332.5\" stroke=\"#000000\"/>\n<text fill=\"#000000\" font-family=\"Times,serif\" font-size=\"14.00\" text-anchor=\"middle\" x=\"448\" y=\"-351.8\">concatenate</text>\n<polyline fill=\"none\" points=\"489.5,-332.5 489.5,-378.5 \" stroke=\"#000000\"/>\n<text fill=\"#000000\" font-family=\"Times,serif\" font-size=\"14.00\" text-anchor=\"middle\" x=\"532.5\" y=\"-351.8\">Concatenate</text>\n<polyline fill=\"none\" points=\"575.5,-332.5 575.5,-378.5 \" stroke=\"#000000\"/>\n<text fill=\"#000000\" font-family=\"Times,serif\" font-size=\"14.00\" text-anchor=\"middle\" x=\"604.5\" y=\"-363.3\">input:</text>\n<polyline fill=\"none\" points=\"575.5,-355.5 633.5,-355.5 \" stroke=\"#000000\"/>\n<text fill=\"#000000\" font-family=\"Times,serif\" font-size=\"14.00\" text-anchor=\"middle\" x=\"604.5\" y=\"-340.3\">output:</text>\n<polyline fill=\"none\" points=\"633.5,-332.5 633.5,-378.5 \" stroke=\"#000000\"/>\n<text fill=\"#000000\" font-family=\"Times,serif\" font-size=\"14.00\" text-anchor=\"middle\" x=\"728\" y=\"-363.3\">[(None, 4, 14), (None, 4, 64)]</text>\n<polyline fill=\"none\" points=\"633.5,-355.5 822.5,-355.5 \" stroke=\"#000000\"/>\n<text fill=\"#000000\" font-family=\"Times,serif\" font-size=\"14.00\" text-anchor=\"middle\" x=\"728\" y=\"-340.3\">(None, 4, 78)</text>\n</g>\n<!-- 139871217968016&#45;&gt;139871218008912 -->\n<g class=\"edge\" id=\"edge11\">\n<title>139871217968016-&gt;139871218008912</title>\n<path d=\"M711.2731,-747.4055C710.978,-715.3386 710.5,-655.5113 710.5,-604.5 710.5,-604.5 710.5,-604.5 710.5,-521.5 710.5,-472.2022 705.5358,-456.8618 679.5,-415 672.742,-404.1342 663.4615,-394.0171 654.0281,-385.3194\" fill=\"none\" stroke=\"#000000\"/>\n<polygon fill=\"#000000\" points=\"656.2911,-382.6485 646.4752,-378.6612 651.6621,-387.8995 656.2911,-382.6485\" stroke=\"#000000\"/>\n</g>\n<!-- 139871220742224 -->\n<g class=\"node\" id=\"node6\">\n<title>139871220742224</title>\n<polygon fill=\"none\" points=\"367.5,-581.5 367.5,-627.5 669.5,-627.5 669.5,-581.5 367.5,-581.5\" stroke=\"#000000\"/>\n<text fill=\"#000000\" font-family=\"Times,serif\" font-size=\"14.00\" text-anchor=\"middle\" x=\"403.5\" y=\"-600.8\">activation</text>\n<polyline fill=\"none\" points=\"439.5,-581.5 439.5,-627.5 \" stroke=\"#000000\"/>\n<text fill=\"#000000\" font-family=\"Times,serif\" font-size=\"14.00\" text-anchor=\"middle\" x=\"478\" y=\"-600.8\">Activation</text>\n<polyline fill=\"none\" points=\"516.5,-581.5 516.5,-627.5 \" stroke=\"#000000\"/>\n<text fill=\"#000000\" font-family=\"Times,serif\" font-size=\"14.00\" text-anchor=\"middle\" x=\"545.5\" y=\"-612.3\">input:</text>\n<polyline fill=\"none\" points=\"516.5,-604.5 574.5,-604.5 \" stroke=\"#000000\"/>\n<text fill=\"#000000\" font-family=\"Times,serif\" font-size=\"14.00\" text-anchor=\"middle\" x=\"545.5\" y=\"-589.3\">output:</text>\n<polyline fill=\"none\" points=\"574.5,-581.5 574.5,-627.5 \" stroke=\"#000000\"/>\n<text fill=\"#000000\" font-family=\"Times,serif\" font-size=\"14.00\" text-anchor=\"middle\" x=\"622\" y=\"-612.3\">(None, 14, 4)</text>\n<polyline fill=\"none\" points=\"574.5,-604.5 669.5,-604.5 \" stroke=\"#000000\"/>\n<text fill=\"#000000\" font-family=\"Times,serif\" font-size=\"14.00\" text-anchor=\"middle\" x=\"622\" y=\"-589.3\">(None, 14, 4)</text>\n</g>\n<!-- 139871220786832&#45;&gt;139871220742224 -->\n<g class=\"edge\" id=\"edge5\">\n<title>139871220786832-&gt;139871220742224</title>\n<path d=\"M518.5,-664.3799C518.5,-656.1745 518.5,-646.7679 518.5,-637.8786\" fill=\"none\" stroke=\"#000000\"/>\n<polygon fill=\"#000000\" points=\"522.0001,-637.784 518.5,-627.784 515.0001,-637.784 522.0001,-637.784\" stroke=\"#000000\"/>\n</g>\n<!-- 139871217893712 -->\n<g class=\"node\" id=\"node8\">\n<title>139871217893712</title>\n<polygon fill=\"none\" points=\"355,-498.5 355,-544.5 682,-544.5 682,-498.5 355,-498.5\" stroke=\"#000000\"/>\n<text fill=\"#000000\" font-family=\"Times,serif\" font-size=\"14.00\" text-anchor=\"middle\" x=\"374\" y=\"-517.8\">add</text>\n<polyline fill=\"none\" points=\"393,-498.5 393,-544.5 \" stroke=\"#000000\"/>\n<text fill=\"#000000\" font-family=\"Times,serif\" font-size=\"14.00\" text-anchor=\"middle\" x=\"414\" y=\"-517.8\">Add</text>\n<polyline fill=\"none\" points=\"435,-498.5 435,-544.5 \" stroke=\"#000000\"/>\n<text fill=\"#000000\" font-family=\"Times,serif\" font-size=\"14.00\" text-anchor=\"middle\" x=\"464\" y=\"-529.3\">input:</text>\n<polyline fill=\"none\" points=\"435,-521.5 493,-521.5 \" stroke=\"#000000\"/>\n<text fill=\"#000000\" font-family=\"Times,serif\" font-size=\"14.00\" text-anchor=\"middle\" x=\"464\" y=\"-506.3\">output:</text>\n<polyline fill=\"none\" points=\"493,-498.5 493,-544.5 \" stroke=\"#000000\"/>\n<text fill=\"#000000\" font-family=\"Times,serif\" font-size=\"14.00\" text-anchor=\"middle\" x=\"587.5\" y=\"-529.3\">[(None, 14, 4), (None, 14, 4)]</text>\n<polyline fill=\"none\" points=\"493,-521.5 682,-521.5 \" stroke=\"#000000\"/>\n<text fill=\"#000000\" font-family=\"Times,serif\" font-size=\"14.00\" text-anchor=\"middle\" x=\"587.5\" y=\"-506.3\">(None, 14, 4)</text>\n</g>\n<!-- 139871220742224&#45;&gt;139871217893712 -->\n<g class=\"edge\" id=\"edge7\">\n<title>139871220742224-&gt;139871217893712</title>\n<path d=\"M518.5,-581.3799C518.5,-573.1745 518.5,-563.7679 518.5,-554.8786\" fill=\"none\" stroke=\"#000000\"/>\n<polygon fill=\"#000000\" points=\"522.0001,-554.784 518.5,-544.784 515.0001,-554.784 522.0001,-554.784\" stroke=\"#000000\"/>\n</g>\n<!-- 139871217946832&#45;&gt;139871217893712 -->\n<g class=\"edge\" id=\"edge8\">\n<title>139871217946832-&gt;139871217893712</title>\n<path d=\"M205.02,-664.3259C242.9033,-641.4707 303.5158,-606.3728 358.5,-581 384.5033,-569.0006 413.6732,-557.5822 439.914,-548.0159\" fill=\"none\" stroke=\"#000000\"/>\n<polygon fill=\"#000000\" points=\"441.2205,-551.2654 449.4378,-544.5777 438.8435,-544.6813 441.2205,-551.2654\" stroke=\"#000000\"/>\n</g>\n<!-- 139871218013712 -->\n<g class=\"node\" id=\"node9\">\n<title>139871218013712</title>\n<polygon fill=\"none\" points=\"390.5,-415.5 390.5,-461.5 670.5,-461.5 670.5,-415.5 390.5,-415.5\" stroke=\"#000000\"/>\n<text fill=\"#000000\" font-family=\"Times,serif\" font-size=\"14.00\" text-anchor=\"middle\" x=\"422\" y=\"-434.8\">permute</text>\n<polyline fill=\"none\" points=\"453.5,-415.5 453.5,-461.5 \" stroke=\"#000000\"/>\n<text fill=\"#000000\" font-family=\"Times,serif\" font-size=\"14.00\" text-anchor=\"middle\" x=\"485.5\" y=\"-434.8\">Permute</text>\n<polyline fill=\"none\" points=\"517.5,-415.5 517.5,-461.5 \" stroke=\"#000000\"/>\n<text fill=\"#000000\" font-family=\"Times,serif\" font-size=\"14.00\" text-anchor=\"middle\" x=\"546.5\" y=\"-446.3\">input:</text>\n<polyline fill=\"none\" points=\"517.5,-438.5 575.5,-438.5 \" stroke=\"#000000\"/>\n<text fill=\"#000000\" font-family=\"Times,serif\" font-size=\"14.00\" text-anchor=\"middle\" x=\"546.5\" y=\"-423.3\">output:</text>\n<polyline fill=\"none\" points=\"575.5,-415.5 575.5,-461.5 \" stroke=\"#000000\"/>\n<text fill=\"#000000\" font-family=\"Times,serif\" font-size=\"14.00\" text-anchor=\"middle\" x=\"623\" y=\"-446.3\">(None, 14, 4)</text>\n<polyline fill=\"none\" points=\"575.5,-438.5 670.5,-438.5 \" stroke=\"#000000\"/>\n<text fill=\"#000000\" font-family=\"Times,serif\" font-size=\"14.00\" text-anchor=\"middle\" x=\"623\" y=\"-423.3\">(None, 4, 14)</text>\n</g>\n<!-- 139871217893712&#45;&gt;139871218013712 -->\n<g class=\"edge\" id=\"edge9\">\n<title>139871217893712-&gt;139871218013712</title>\n<path d=\"M521.8427,-498.3799C523.029,-490.1745 524.389,-480.7679 525.6742,-471.8786\" fill=\"none\" stroke=\"#000000\"/>\n<polygon fill=\"#000000\" points=\"529.1666,-472.1819 527.1336,-461.784 522.2387,-471.1803 529.1666,-472.1819\" stroke=\"#000000\"/>\n</g>\n<!-- 139871218013712&#45;&gt;139871218008912 -->\n<g class=\"edge\" id=\"edge10\">\n<title>139871218013712-&gt;139871218008912</title>\n<path d=\"M553.8987,-415.3799C563.1055,-406.2827 573.8068,-395.7088 583.632,-386.0005\" fill=\"none\" stroke=\"#000000\"/>\n<polygon fill=\"#000000\" points=\"586.2822,-388.3023 590.9355,-378.784 581.3621,-383.323 586.2822,-388.3023\" stroke=\"#000000\"/>\n</g>\n<!-- 139871217978512 -->\n<g class=\"node\" id=\"node11\">\n<title>139871217978512</title>\n<polygon fill=\"none\" points=\"489.5,-249.5 489.5,-295.5 739.5,-295.5 739.5,-249.5 489.5,-249.5\" stroke=\"#000000\"/>\n<text fill=\"#000000\" font-family=\"Times,serif\" font-size=\"14.00\" text-anchor=\"middle\" x=\"510\" y=\"-268.8\">lstm</text>\n<polyline fill=\"none\" points=\"530.5,-249.5 530.5,-295.5 \" stroke=\"#000000\"/>\n<text fill=\"#000000\" font-family=\"Times,serif\" font-size=\"14.00\" text-anchor=\"middle\" x=\"558.5\" y=\"-268.8\">LSTM</text>\n<polyline fill=\"none\" points=\"586.5,-249.5 586.5,-295.5 \" stroke=\"#000000\"/>\n<text fill=\"#000000\" font-family=\"Times,serif\" font-size=\"14.00\" text-anchor=\"middle\" x=\"615.5\" y=\"-280.3\">input:</text>\n<polyline fill=\"none\" points=\"586.5,-272.5 644.5,-272.5 \" stroke=\"#000000\"/>\n<text fill=\"#000000\" font-family=\"Times,serif\" font-size=\"14.00\" text-anchor=\"middle\" x=\"615.5\" y=\"-257.3\">output:</text>\n<polyline fill=\"none\" points=\"644.5,-249.5 644.5,-295.5 \" stroke=\"#000000\"/>\n<text fill=\"#000000\" font-family=\"Times,serif\" font-size=\"14.00\" text-anchor=\"middle\" x=\"692\" y=\"-280.3\">(None, 4, 78)</text>\n<polyline fill=\"none\" points=\"644.5,-272.5 739.5,-272.5 \" stroke=\"#000000\"/>\n<text fill=\"#000000\" font-family=\"Times,serif\" font-size=\"14.00\" text-anchor=\"middle\" x=\"692\" y=\"-257.3\">(None, 32)</text>\n</g>\n<!-- 139871218008912&#45;&gt;139871217978512 -->\n<g class=\"edge\" id=\"edge12\">\n<title>139871218008912-&gt;139871217978512</title>\n<path d=\"M614.5,-332.3799C614.5,-324.1745 614.5,-314.7679 614.5,-305.8786\" fill=\"none\" stroke=\"#000000\"/>\n<polygon fill=\"#000000\" points=\"618.0001,-305.784 614.5,-295.784 611.0001,-305.784 618.0001,-305.784\" stroke=\"#000000\"/>\n</g>\n<!-- 139871217954192 -->\n<g class=\"node\" id=\"node12\">\n<title>139871217954192</title>\n<polygon fill=\"none\" points=\"482,-166.5 482,-212.5 747,-212.5 747,-166.5 482,-166.5\" stroke=\"#000000\"/>\n<text fill=\"#000000\" font-family=\"Times,serif\" font-size=\"14.00\" text-anchor=\"middle\" x=\"513\" y=\"-185.8\">dropout</text>\n<polyline fill=\"none\" points=\"544,-166.5 544,-212.5 \" stroke=\"#000000\"/>\n<text fill=\"#000000\" font-family=\"Times,serif\" font-size=\"14.00\" text-anchor=\"middle\" x=\"576.5\" y=\"-185.8\">Dropout</text>\n<polyline fill=\"none\" points=\"609,-166.5 609,-212.5 \" stroke=\"#000000\"/>\n<text fill=\"#000000\" font-family=\"Times,serif\" font-size=\"14.00\" text-anchor=\"middle\" x=\"638\" y=\"-197.3\">input:</text>\n<polyline fill=\"none\" points=\"609,-189.5 667,-189.5 \" stroke=\"#000000\"/>\n<text fill=\"#000000\" font-family=\"Times,serif\" font-size=\"14.00\" text-anchor=\"middle\" x=\"638\" y=\"-174.3\">output:</text>\n<polyline fill=\"none\" points=\"667,-166.5 667,-212.5 \" stroke=\"#000000\"/>\n<text fill=\"#000000\" font-family=\"Times,serif\" font-size=\"14.00\" text-anchor=\"middle\" x=\"707\" y=\"-197.3\">(None, 32)</text>\n<polyline fill=\"none\" points=\"667,-189.5 747,-189.5 \" stroke=\"#000000\"/>\n<text fill=\"#000000\" font-family=\"Times,serif\" font-size=\"14.00\" text-anchor=\"middle\" x=\"707\" y=\"-174.3\">(None, 32)</text>\n</g>\n<!-- 139871217978512&#45;&gt;139871217954192 -->\n<g class=\"edge\" id=\"edge13\">\n<title>139871217978512-&gt;139871217954192</title>\n<path d=\"M614.5,-249.3799C614.5,-241.1745 614.5,-231.7679 614.5,-222.8786\" fill=\"none\" stroke=\"#000000\"/>\n<polygon fill=\"#000000\" points=\"618.0001,-222.784 614.5,-212.784 611.0001,-222.784 618.0001,-222.784\" stroke=\"#000000\"/>\n</g>\n<!-- 139871217933072 -->\n<g class=\"node\" id=\"node13\">\n<title>139871217933072</title>\n<polygon fill=\"none\" points=\"495,-83.5 495,-129.5 734,-129.5 734,-83.5 495,-83.5\" stroke=\"#000000\"/>\n<text fill=\"#000000\" font-family=\"Times,serif\" font-size=\"14.00\" text-anchor=\"middle\" x=\"519.5\" y=\"-102.8\">dense</text>\n<polyline fill=\"none\" points=\"544,-83.5 544,-129.5 \" stroke=\"#000000\"/>\n<text fill=\"#000000\" font-family=\"Times,serif\" font-size=\"14.00\" text-anchor=\"middle\" x=\"570\" y=\"-102.8\">Dense</text>\n<polyline fill=\"none\" points=\"596,-83.5 596,-129.5 \" stroke=\"#000000\"/>\n<text fill=\"#000000\" font-family=\"Times,serif\" font-size=\"14.00\" text-anchor=\"middle\" x=\"625\" y=\"-114.3\">input:</text>\n<polyline fill=\"none\" points=\"596,-106.5 654,-106.5 \" stroke=\"#000000\"/>\n<text fill=\"#000000\" font-family=\"Times,serif\" font-size=\"14.00\" text-anchor=\"middle\" x=\"625\" y=\"-91.3\">output:</text>\n<polyline fill=\"none\" points=\"654,-83.5 654,-129.5 \" stroke=\"#000000\"/>\n<text fill=\"#000000\" font-family=\"Times,serif\" font-size=\"14.00\" text-anchor=\"middle\" x=\"694\" y=\"-114.3\">(None, 32)</text>\n<polyline fill=\"none\" points=\"654,-106.5 734,-106.5 \" stroke=\"#000000\"/>\n<text fill=\"#000000\" font-family=\"Times,serif\" font-size=\"14.00\" text-anchor=\"middle\" x=\"694\" y=\"-91.3\">(None, 22)</text>\n</g>\n<!-- 139871217954192&#45;&gt;139871217933072 -->\n<g class=\"edge\" id=\"edge14\">\n<title>139871217954192-&gt;139871217933072</title>\n<path d=\"M614.5,-166.3799C614.5,-158.1745 614.5,-148.7679 614.5,-139.8786\" fill=\"none\" stroke=\"#000000\"/>\n<polygon fill=\"#000000\" points=\"618.0001,-139.784 614.5,-129.784 611.0001,-139.784 618.0001,-139.784\" stroke=\"#000000\"/>\n</g>\n<!-- 139871217480720 -->\n<g class=\"node\" id=\"node14\">\n<title>139871217480720</title>\n<polygon fill=\"none\" points=\"463.5,-.5 463.5,-46.5 765.5,-46.5 765.5,-.5 463.5,-.5\" stroke=\"#000000\"/>\n<text fill=\"#000000\" font-family=\"Times,serif\" font-size=\"14.00\" text-anchor=\"middle\" x=\"507\" y=\"-19.8\">activation_1</text>\n<polyline fill=\"none\" points=\"550.5,-.5 550.5,-46.5 \" stroke=\"#000000\"/>\n<text fill=\"#000000\" font-family=\"Times,serif\" font-size=\"14.00\" text-anchor=\"middle\" x=\"589\" y=\"-19.8\">Activation</text>\n<polyline fill=\"none\" points=\"627.5,-.5 627.5,-46.5 \" stroke=\"#000000\"/>\n<text fill=\"#000000\" font-family=\"Times,serif\" font-size=\"14.00\" text-anchor=\"middle\" x=\"656.5\" y=\"-31.3\">input:</text>\n<polyline fill=\"none\" points=\"627.5,-23.5 685.5,-23.5 \" stroke=\"#000000\"/>\n<text fill=\"#000000\" font-family=\"Times,serif\" font-size=\"14.00\" text-anchor=\"middle\" x=\"656.5\" y=\"-8.3\">output:</text>\n<polyline fill=\"none\" points=\"685.5,-.5 685.5,-46.5 \" stroke=\"#000000\"/>\n<text fill=\"#000000\" font-family=\"Times,serif\" font-size=\"14.00\" text-anchor=\"middle\" x=\"725.5\" y=\"-31.3\">(None, 22)</text>\n<polyline fill=\"none\" points=\"685.5,-23.5 765.5,-23.5 \" stroke=\"#000000\"/>\n<text fill=\"#000000\" font-family=\"Times,serif\" font-size=\"14.00\" text-anchor=\"middle\" x=\"725.5\" y=\"-8.3\">(None, 22)</text>\n</g>\n<!-- 139871217933072&#45;&gt;139871217480720 -->\n<g class=\"edge\" id=\"edge15\">\n<title>139871217933072-&gt;139871217480720</title>\n<path d=\"M614.5,-83.3799C614.5,-75.1745 614.5,-65.7679 614.5,-56.8786\" fill=\"none\" stroke=\"#000000\"/>\n<polygon fill=\"#000000\" points=\"618.0001,-56.784 614.5,-46.784 611.0001,-56.784 618.0001,-56.784\" stroke=\"#000000\"/>\n</g>\n</g>\n</svg>"
          },
          "metadata": {},
          "execution_count": 23
        }
      ]
    },
    {
      "cell_type": "markdown",
      "metadata": {
        "id": "BxK-MxYMrKkI"
      },
      "source": [
        "Model summary"
      ]
    },
    {
      "cell_type": "code",
      "metadata": {
        "id": "bjEgTL9LrKkJ",
        "colab": {
          "base_uri": "https://localhost:8080/"
        },
        "outputId": "3b9d5c67-b87c-4d6d-8c2b-f7b001cf2cf0"
      },
      "source": [
        "model.summary()"
      ],
      "execution_count": 24,
      "outputs": [
        {
          "output_type": "stream",
          "name": "stdout",
          "text": [
            "Model: \"model\"\n",
            "__________________________________________________________________________________________________\n",
            " Layer (type)                   Output Shape         Param #     Connected to                     \n",
            "==================================================================================================\n",
            " input_1 (InputLayer)           [(None, 14)]         0           []                               \n",
            "                                                                                                  \n",
            " input_2 (InputLayer)           [(None, 4)]          0           []                               \n",
            "                                                                                                  \n",
            " sequential (Sequential)        (None, None, 64)     1408        ['input_1[0][0]']                \n",
            "                                                                                                  \n",
            " sequential_2 (Sequential)      (None, None, 64)     1408        ['input_2[0][0]']                \n",
            "                                                                                                  \n",
            " dot (Dot)                      (None, 14, 4)        0           ['sequential[0][0]',             \n",
            "                                                                  'sequential_2[0][0]']           \n",
            "                                                                                                  \n",
            " activation (Activation)        (None, 14, 4)        0           ['dot[0][0]']                    \n",
            "                                                                                                  \n",
            " sequential_1 (Sequential)      (None, None, 4)      88          ['input_1[0][0]']                \n",
            "                                                                                                  \n",
            " add (Add)                      (None, 14, 4)        0           ['activation[0][0]',             \n",
            "                                                                  'sequential_1[0][0]']           \n",
            "                                                                                                  \n",
            " permute (Permute)              (None, 4, 14)        0           ['add[0][0]']                    \n",
            "                                                                                                  \n",
            " concatenate (Concatenate)      (None, 4, 78)        0           ['permute[0][0]',                \n",
            "                                                                  'sequential_2[0][0]']           \n",
            "                                                                                                  \n",
            " lstm (LSTM)                    (None, 32)           14208       ['concatenate[0][0]']            \n",
            "                                                                                                  \n",
            " dropout (Dropout)              (None, 32)           0           ['lstm[0][0]']                   \n",
            "                                                                                                  \n",
            " dense (Dense)                  (None, 22)           726         ['dropout[0][0]']                \n",
            "                                                                                                  \n",
            " activation_1 (Activation)      (None, 22)           0           ['dense[0][0]']                  \n",
            "                                                                                                  \n",
            "==================================================================================================\n",
            "Total params: 17,838\n",
            "Trainable params: 17,838\n",
            "Non-trainable params: 0\n",
            "__________________________________________________________________________________________________\n"
          ]
        }
      ]
    },
    {
      "cell_type": "markdown",
      "metadata": {
        "id": "_tnbz5YJrKkQ"
      },
      "source": [
        "## 1.5 Training"
      ]
    },
    {
      "cell_type": "markdown",
      "metadata": {
        "id": "W_bUUHq-A8Us"
      },
      "source": [
        "In this section we start the training procedure with fitting the data to the designed model."
      ]
    },
    {
      "cell_type": "code",
      "source": [
        "history = model.fit([inputs_train, queries_train], answers_train, batch_size, train_epochs,\n",
        "          validation_data=([inputs_test, queries_test], answers_test))\n",
        "\n",
        "model.save('model.h5')"
      ],
      "metadata": {
        "id": "c3sOGkotZKmk",
        "colab": {
          "base_uri": "https://localhost:8080/"
        },
        "outputId": "c7cfab91-10a1-4f48-8c59-deaff290049e"
      },
      "execution_count": 25,
      "outputs": [
        {
          "output_type": "stream",
          "name": "stdout",
          "text": [
            "Epoch 1/20\n"
          ]
        },
        {
          "output_type": "stream",
          "name": "stderr",
          "text": [
            "/usr/local/lib/python3.7/dist-packages/tensorflow/python/data/ops/dataset_ops.py:4527: UserWarning: Even though the `tf.config.experimental_run_functions_eagerly` option is set, this option does not apply to tf.data functions. To force eager execution of tf.data functions, please use `tf.data.experimental.enable_debug_mode()`.\n",
            "  \"Even though the `tf.config.experimental_run_functions_eagerly` \"\n"
          ]
        },
        {
          "output_type": "stream",
          "name": "stdout",
          "text": [
            "313/313 [==============================] - 24s 62ms/step - loss: 1.9478 - accuracy: 0.1679 - val_loss: 1.7957 - val_accuracy: 0.1870\n",
            "Epoch 2/20\n",
            "313/313 [==============================] - 19s 60ms/step - loss: 1.8040 - accuracy: 0.1747 - val_loss: 1.7893 - val_accuracy: 0.1990\n",
            "Epoch 3/20\n",
            "313/313 [==============================] - 20s 63ms/step - loss: 1.7847 - accuracy: 0.1959 - val_loss: 1.7737 - val_accuracy: 0.2610\n",
            "Epoch 4/20\n",
            "313/313 [==============================] - 19s 62ms/step - loss: 1.7783 - accuracy: 0.2031 - val_loss: 1.7701 - val_accuracy: 0.2150\n",
            "Epoch 5/20\n",
            "313/313 [==============================] - 20s 63ms/step - loss: 1.7761 - accuracy: 0.2081 - val_loss: 1.7745 - val_accuracy: 0.2240\n",
            "Epoch 6/20\n",
            "313/313 [==============================] - 20s 62ms/step - loss: 1.7724 - accuracy: 0.2223 - val_loss: 1.7620 - val_accuracy: 0.2570\n",
            "Epoch 7/20\n",
            "313/313 [==============================] - 20s 63ms/step - loss: 1.7659 - accuracy: 0.2319 - val_loss: 1.7522 - val_accuracy: 0.2550\n",
            "Epoch 8/20\n",
            "313/313 [==============================] - 19s 60ms/step - loss: 1.7621 - accuracy: 0.2429 - val_loss: 1.7491 - val_accuracy: 0.2490\n",
            "Epoch 9/20\n",
            "313/313 [==============================] - 19s 61ms/step - loss: 1.7582 - accuracy: 0.2473 - val_loss: 1.7468 - val_accuracy: 0.2740\n",
            "Epoch 10/20\n",
            "313/313 [==============================] - 19s 60ms/step - loss: 1.7569 - accuracy: 0.2499 - val_loss: 1.7494 - val_accuracy: 0.2620\n",
            "Epoch 11/20\n",
            "313/313 [==============================] - 20s 62ms/step - loss: 1.7562 - accuracy: 0.2510 - val_loss: 1.7445 - val_accuracy: 0.2670\n",
            "Epoch 12/20\n",
            "313/313 [==============================] - 19s 60ms/step - loss: 1.7522 - accuracy: 0.2588 - val_loss: 1.7410 - val_accuracy: 0.2800\n",
            "Epoch 13/20\n",
            "313/313 [==============================] - 19s 60ms/step - loss: 1.7483 - accuracy: 0.2621 - val_loss: 1.7357 - val_accuracy: 0.2960\n",
            "Epoch 14/20\n",
            "313/313 [==============================] - 19s 62ms/step - loss: 1.7442 - accuracy: 0.2714 - val_loss: 1.7311 - val_accuracy: 0.3060\n",
            "Epoch 15/20\n",
            "313/313 [==============================] - 19s 60ms/step - loss: 1.7400 - accuracy: 0.2770 - val_loss: 1.7280 - val_accuracy: 0.3120\n",
            "Epoch 16/20\n",
            "313/313 [==============================] - 19s 60ms/step - loss: 1.7368 - accuracy: 0.2804 - val_loss: 1.7241 - val_accuracy: 0.3170\n",
            "Epoch 17/20\n",
            "313/313 [==============================] - 19s 60ms/step - loss: 1.7348 - accuracy: 0.2848 - val_loss: 1.7203 - val_accuracy: 0.3150\n",
            "Epoch 18/20\n",
            "313/313 [==============================] - 19s 60ms/step - loss: 1.7292 - accuracy: 0.2877 - val_loss: 1.7234 - val_accuracy: 0.3040\n",
            "Epoch 19/20\n",
            "313/313 [==============================] - 19s 60ms/step - loss: 1.7264 - accuracy: 0.2900 - val_loss: 1.7200 - val_accuracy: 0.3130\n",
            "Epoch 20/20\n",
            "313/313 [==============================] - 18s 59ms/step - loss: 1.7246 - accuracy: 0.2930 - val_loss: 1.7136 - val_accuracy: 0.3130\n"
          ]
        },
        {
          "output_type": "stream",
          "name": "stderr",
          "text": [
            "/usr/local/lib/python3.7/dist-packages/keras/engine/functional.py:1410: CustomMaskWarning: Custom mask layers require a config and must override get_config. When loading, the custom mask layer must be passed to the custom_objects argument.\n",
            "  layer_config = serialize_layer_fn(layer)\n"
          ]
        }
      ]
    },
    {
      "cell_type": "code",
      "source": [
        "plot_loss(history,\"Loss\")\n",
        "print()\n",
        "plot_acc(history,\"Accuracy\")"
      ],
      "metadata": {
        "colab": {
          "base_uri": "https://localhost:8080/",
          "height": 660
        },
        "id": "w9kKxCqK5u_c",
        "outputId": "5bb7f2da-be3c-493c-d24c-42fa78e9b8a2"
      },
      "execution_count": 26,
      "outputs": [
        {
          "output_type": "display_data",
          "data": {
            "image/png": "[encoded data removed]",
            "text/plain": [
              "<Figure size 432x288 with 1 Axes>"
            ]
          },
          "metadata": {
            "needs_background": "light"
          }
        },
        {
          "output_type": "stream",
          "name": "stdout",
          "text": [
            "Min train loss is 1.724563479423523 at epoch 20\n",
            "Min val loss is 1.713639259338379 at epoch 20\n",
            "\n"
          ]
        },
        {
          "output_type": "display_data",
          "data": {
            "image/png": "[encoded data removed]",
            "text/plain": [
              "<Figure size 432x288 with 1 Axes>"
            ]
          },
          "metadata": {
            "needs_background": "light"
          }
        },
        {
          "output_type": "stream",
          "name": "stdout",
          "text": [
            "Max train accuracy is 0.2930000126361847 at epoch 20\n",
            "Max val accuracy is 0.31700000166893005 at epoch 16\n"
          ]
        }
      ]
    },
    {
      "cell_type": "markdown",
      "metadata": {
        "id": "GXxhXOvcrKkV"
      },
      "source": [
        "## 1.6 Testing and Analysis"
      ]
    },
    {
      "cell_type": "markdown",
      "metadata": {
        "id": "ciBt077dEBLd"
      },
      "source": [
        "Now we need to actually make predictions and check the performance of our trained model with some examples:"
      ]
    },
    {
      "cell_type": "code",
      "metadata": {
        "id": "a4b3f5-arKkW",
        "colab": {
          "base_uri": "https://localhost:8080/"
        },
        "outputId": "f94ebede-41be-4f4f-eaa1-24724dbdd454"
      },
      "source": [
        "for i in range(0,10):\n",
        "    current_inp = test_stories[2*i]\n",
        "    current_story, current_query, current_answer = vectorize_stories([current_inp], word_idx, story_maxlen, query_maxlen)\n",
        "    current_prediction = model.predict([current_story, current_query])\n",
        "    current_prediction = idx_word[np.argmax(current_prediction)]\n",
        "    print(' '.join(current_inp[0]), ' '.join(current_inp[1]), '| Prediction:', current_prediction, '| Ground Truth:', current_inp[2])\n",
        "    print(\"-----------------------------------------------------------------------------------------\")\n"
      ],
      "execution_count": 27,
      "outputs": [
        {
          "output_type": "stream",
          "name": "stdout",
          "text": [
            "John travelled to the hallway . Mary journeyed to the bathroom . Where is John ? | Prediction: bathroom | Ground Truth: hallway\n",
            "-----------------------------------------------------------------------------------------\n",
            "John travelled to the hallway . Mary journeyed to the bathroom . Where is Sandra ? | Prediction: bathroom | Ground Truth: kitchen\n",
            "-----------------------------------------------------------------------------------------\n"
          ]
        },
        {
          "output_type": "stream",
          "name": "stderr",
          "text": [
            "/usr/local/lib/python3.7/dist-packages/tensorflow/python/data/ops/dataset_ops.py:4527: UserWarning: Even though the `tf.config.experimental_run_functions_eagerly` option is set, this option does not apply to tf.data functions. To force eager execution of tf.data functions, please use `tf.data.experimental.enable_debug_mode()`.\n",
            "  \"Even though the `tf.config.experimental_run_functions_eagerly` \"\n"
          ]
        },
        {
          "output_type": "stream",
          "name": "stdout",
          "text": [
            "John travelled to the hallway . Mary journeyed to the bathroom . Where is Sandra ? | Prediction: bathroom | Ground Truth: kitchen\n",
            "-----------------------------------------------------------------------------------------\n",
            "Sandra travelled to the kitchen . Sandra travelled to the hallway . Where is Sandra ? | Prediction: hallway | Ground Truth: garden\n",
            "-----------------------------------------------------------------------------------------\n",
            "Sandra travelled to the kitchen . Sandra travelled to the hallway . Where is Sandra ? | Prediction: hallway | Ground Truth: office\n",
            "-----------------------------------------------------------------------------------------\n",
            "John travelled to the office . Mary journeyed to the kitchen . Where is Mary ? | Prediction: kitchen | Ground Truth: kitchen\n",
            "-----------------------------------------------------------------------------------------\n",
            "John travelled to the office . Mary journeyed to the kitchen . Where is Daniel ? | Prediction: kitchen | Ground Truth: office\n",
            "-----------------------------------------------------------------------------------------\n",
            "John travelled to the office . Mary journeyed to the kitchen . Where is Mary ? | Prediction: kitchen | Ground Truth: bedroom\n",
            "-----------------------------------------------------------------------------------------\n",
            "John moved to the hallway . John journeyed to the kitchen . Where is John ? | Prediction: kitchen | Ground Truth: garden\n",
            "-----------------------------------------------------------------------------------------\n",
            "John moved to the hallway . John journeyed to the kitchen . Where is Daniel ? | Prediction: garden | Ground Truth: office\n",
            "-----------------------------------------------------------------------------------------\n"
          ]
        }
      ]
    },
    {
      "cell_type": "markdown",
      "metadata": {
        "collapsed": true,
        "id": "DWGbl4PdrKka"
      },
      "source": [
        "## 1.7 Custom Inputs"
      ]
    },
    {
      "cell_type": "markdown",
      "metadata": {
        "id": "iJUI2SIXEV4x"
      },
      "source": [
        "You can even write your example and test it with your model to see how powerful it is:"
      ]
    },
    {
      "cell_type": "code",
      "metadata": {
        "id": "UT83MJ8yrKkb",
        "colab": {
          "base_uri": "https://localhost:8080/"
        },
        "outputId": "c554bd03-3749-4f34-9590-796f45aa9008"
      },
      "source": [
        "print('-------------------------------------------------------------------------------------------')\n",
        "print('Custom User Queries (Make sure there are spaces before each word)')\n",
        "\n",
        "print('-------------------------------------------------------------------------------------------')\n",
        "print('Please input a story')\n",
        "user_story_inp = input().split(' ')\n",
        "print('Please input a query')\n",
        "user_query_inp = input().split(' ')\n",
        "user_story, user_query, user_ans = vectorize_stories([[user_story_inp, user_query_inp, '.']], word_idx, story_maxlen, query_maxlen)\n",
        "user_prediction = model.predict([user_story, user_query])\n",
        "user_prediction = idx_word[np.argmax(user_prediction)]\n",
        "print('Result')\n",
        "print(' '.join(user_story_inp), ' '.join(user_query_inp), '| Prediction:', user_prediction)"
      ],
      "execution_count": 35,
      "outputs": [
        {
          "output_type": "stream",
          "name": "stdout",
          "text": [
            "-------------------------------------------------------------------------------------------\n",
            "Custom User Queries (Make sure there are spaces before each word)\n",
            "-------------------------------------------------------------------------------------------\n",
            "Please input a story\n",
            "Mary went to the bathroom . John moved to the hallway .\n",
            "Please input a query\n",
            "Where is Mary ?\n",
            "Result\n",
            "Mary went to the bathroom . John moved to the hallway . Where is Mary ? | Prediction: hallway\n"
          ]
        },
        {
          "output_type": "stream",
          "name": "stderr",
          "text": [
            "/usr/local/lib/python3.7/dist-packages/tensorflow/python/data/ops/dataset_ops.py:4527: UserWarning: Even though the `tf.config.experimental_run_functions_eagerly` option is set, this option does not apply to tf.data functions. To force eager execution of tf.data functions, please use `tf.data.experimental.enable_debug_mode()`.\n",
            "  \"Even though the `tf.config.experimental_run_functions_eagerly` \"\n"
          ]
        }
      ]
    },
    {
      "cell_type": "code",
      "metadata": {
        "id": "id1unEEQrKkf"
      },
      "source": [
        "# some examples:\n",
        "# Mary went to the bathroom . John moved to the hallway . Mary travelled to the office . # Where is Mary ?\n",
        "# Sandra travelled to the office . John journeyed to the garden .\n",
        "# Where is Sandra ?"
      ],
      "execution_count": 37,
      "outputs": []
    },
    {
      "cell_type": "markdown",
      "metadata": {
        "id": "ZtYRcM2KE4te"
      },
      "source": [
        "As you understood how the model trained, please tell us about the pros and cons of the proposed model. How can we improve it if we want to use it in realistic task ? "
      ]
    },
    {
      "cell_type": "markdown",
      "metadata": {
        "id": "p9NiIbN5F7zb"
      },
      "source": [
        "$\\color{red}{\\text{Write your answer in document}}$\n",
        "\n"
      ]
    }
  ]
}