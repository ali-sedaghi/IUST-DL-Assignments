{
  "nbformat": 4,
  "nbformat_minor": 0,
  "metadata": {
    "colab": {
      "name": "HW12_Q2.ipynb",
      "provenance": [],
      "collapsed_sections": []
    },
    "kernelspec": {
      "name": "python3",
      "display_name": "Python 3"
    },
    "language_info": {
      "name": "python"
    },
    "accelerator": "GPU"
  },
  "cells": [
    {
      "cell_type": "code",
      "execution_count": 13,
      "metadata": {
        "id": "dYpHidKz6IJR"
      },
      "outputs": [],
      "source": [
        "import numpy as np\n",
        "from tensorflow.keras.layers import Input, GRU, Dense, RepeatVector\n",
        "from tensorflow.keras import Model\n",
        "from tensorflow.keras.optimizers import Adam\n",
        "from tensorflow.keras.losses import CategoricalCrossentropy\n",
        "from tensorflow.keras.callbacks import ReduceLROnPlateau"
      ]
    },
    {
      "cell_type": "code",
      "source": [
        "text = open(\"enc-dec.txt\").read().split(\"\\n\")"
      ],
      "metadata": {
        "id": "N5s5FOMd7z_u"
      },
      "execution_count": 14,
      "outputs": []
    },
    {
      "cell_type": "code",
      "source": [
        "symbols = \"abcdefghijklmnopqrstuvwxyz \"\n",
        "n_symbols = len(symbols)\n",
        "n_lines = len(text)\n",
        "n_words = 10"
      ],
      "metadata": {
        "id": "eWRopM7J9G4I"
      },
      "execution_count": 15,
      "outputs": []
    },
    {
      "cell_type": "code",
      "source": [
        "EPOCHS = 30\n",
        "BATCH_SIZE = 32"
      ],
      "metadata": {
        "id": "zUMhHWo69s2k"
      },
      "execution_count": 16,
      "outputs": []
    },
    {
      "cell_type": "code",
      "source": [
        "def add_spaces(string, length):\n",
        "    result = string\n",
        "    string_length = len(string)\n",
        "    if string_length < length:\n",
        "        result += (length - string_length) * \" \"\n",
        "    return result"
      ],
      "metadata": {
        "id": "e9I9Sgih_3Tc"
      },
      "execution_count": 17,
      "outputs": []
    },
    {
      "cell_type": "code",
      "source": [
        "x_train = np.zeros((n_lines, n_words, n_symbols))\n",
        "y_train = np.zeros((n_lines, n_words, n_symbols))\n",
        "\n",
        "for i in range(n_lines):\n",
        "    [code, word] = text[i].split(\"\\t\")\n",
        "    code = add_spaces(code, n_words)\n",
        "    word = add_spaces(word, n_words)\n",
        "    for j in range(n_words):\n",
        "        x_train[i, j, symbols.find(code[j])] = 1\n",
        "        y_train[i, j, symbols.find(word[j])] = 1\n",
        "\n",
        "print(\"x_train shape:\", x_train.shape)\n",
        "print(\"y_train shape:\", y_train.shape)"
      ],
      "metadata": {
        "colab": {
          "base_uri": "https://localhost:8080/"
        },
        "id": "H56F9c7V9I49",
        "outputId": "07391d24-79f6-4807-eb3f-57dfb886ef38"
      },
      "execution_count": 18,
      "outputs": [
        {
          "output_type": "stream",
          "name": "stdout",
          "text": [
            "x_train shape: (152273, 10, 27)\n",
            "y_train shape: (152273, 10, 27)\n"
          ]
        }
      ]
    },
    {
      "cell_type": "code",
      "source": [
        "sample = \"onmltsrqpoihgrezcba lknrvjihgfueiizltflk\"\n",
        "codes = []\n",
        "for i in range(0, len(sample), n_words):\n",
        "    codes.append(sample[i:i+n_words])\n",
        "\n",
        "print(codes)"
      ],
      "metadata": {
        "colab": {
          "base_uri": "https://localhost:8080/"
        },
        "id": "1Z_3qv029K7P",
        "outputId": "ffcb0552-adc7-42f2-9bca-5242a3413312"
      },
      "execution_count": 19,
      "outputs": [
        {
          "output_type": "stream",
          "name": "stdout",
          "text": [
            "['onmltsrqpo', 'ihgrezcba ', 'lknrvjihgf', 'ueiizltflk']\n"
          ]
        }
      ]
    },
    {
      "cell_type": "code",
      "source": [
        "x_test = np.zeros((len(codes), n_words, n_symbols))\n",
        "\n",
        "for i in range(len(codes)):\n",
        "    for j in range(n_words):\n",
        "        x_test[i, j, symbols.find(codes[i][j])] = 1\n",
        "\n",
        "print(\"x_test shape:\", x_test.shape)"
      ],
      "metadata": {
        "colab": {
          "base_uri": "https://localhost:8080/"
        },
        "id": "NaEE4rdkEgww",
        "outputId": "a09e749d-0ae6-4a55-e2d7-acea10fa807c"
      },
      "execution_count": 20,
      "outputs": [
        {
          "output_type": "stream",
          "name": "stdout",
          "text": [
            "x_test shape: (4, 10, 27)\n"
          ]
        }
      ]
    },
    {
      "cell_type": "code",
      "source": [
        "def model_factory(input_shape):\n",
        "    n_words, n_symbols = input_shape\n",
        "    inputs = Input(shape=input_shape)\n",
        "    x = GRU(units=256)(inputs)\n",
        "    x = RepeatVector(n_words)(x)\n",
        "    x = GRU(units=256, return_sequences=True)(x)\n",
        "    x = GRU(units=256, return_sequences=True)(x)\n",
        "    x = GRU(units=256, return_sequences=True)(x)\n",
        "    outputs = Dense(units=n_symbols, activation=\"softmax\")(x)\n",
        "    model = Model(inputs=inputs, outputs=outputs)\n",
        "    model.compile(\n",
        "        loss=CategoricalCrossentropy(),\n",
        "        optimizer=Adam(0.001),\n",
        "        metrics=[\"accuracy\"],\n",
        "    )\n",
        "    return model"
      ],
      "metadata": {
        "id": "VQcaZ51v9yTW"
      },
      "execution_count": 21,
      "outputs": []
    },
    {
      "cell_type": "code",
      "source": [
        "input_shape = (n_words, n_symbols)\n",
        "model = model_factory(input_shape)\n",
        "model.summary()"
      ],
      "metadata": {
        "colab": {
          "base_uri": "https://localhost:8080/"
        },
        "id": "nT_tM9uC9M0P",
        "outputId": "dfb59722-56a3-42cb-cd23-18ea450fdec0"
      },
      "execution_count": 22,
      "outputs": [
        {
          "output_type": "stream",
          "name": "stdout",
          "text": [
            "Model: \"model_1\"\n",
            "_________________________________________________________________\n",
            " Layer (type)                Output Shape              Param #   \n",
            "=================================================================\n",
            " input_2 (InputLayer)        [(None, 10, 27)]          0         \n",
            "                                                                 \n",
            " gru_4 (GRU)                 (None, 256)               218880    \n",
            "                                                                 \n",
            " repeat_vector_1 (RepeatVect  (None, 10, 256)          0         \n",
            " or)                                                             \n",
            "                                                                 \n",
            " gru_5 (GRU)                 (None, 10, 256)           394752    \n",
            "                                                                 \n",
            " gru_6 (GRU)                 (None, 10, 256)           394752    \n",
            "                                                                 \n",
            " gru_7 (GRU)                 (None, 10, 256)           394752    \n",
            "                                                                 \n",
            " dense_1 (Dense)             (None, 10, 27)            6939      \n",
            "                                                                 \n",
            "=================================================================\n",
            "Total params: 1,410,075\n",
            "Trainable params: 1,410,075\n",
            "Non-trainable params: 0\n",
            "_________________________________________________________________\n"
          ]
        }
      ]
    },
    {
      "cell_type": "code",
      "source": [
        "lr_reducer = ReduceLROnPlateau(\n",
        "    monitor='loss',\n",
        "    factor=0.1,\n",
        "    patience=3,\n",
        "    verbose=0,\n",
        "    min_delta=0.01,\n",
        "    cooldown=0,\n",
        "    min_lr=0,\n",
        ")\n",
        "history = model.fit(\n",
        "    x=x_train,\n",
        "    y=y_train,\n",
        "    epochs=EPOCHS,\n",
        "    batch_size=BATCH_SIZE,\n",
        "    callbacks=[lr_reducer],\n",
        ")"
      ],
      "metadata": {
        "colab": {
          "base_uri": "https://localhost:8080/"
        },
        "id": "3VT1y5tCGW40",
        "outputId": "156af823-0624-49aa-cb9a-62b960bd54b0"
      },
      "execution_count": 23,
      "outputs": [
        {
          "output_type": "stream",
          "name": "stdout",
          "text": [
            "Epoch 1/30\n",
            "4759/4759 [==============================] - 123s 25ms/step - loss: 1.6719 - accuracy: 0.4870 - lr: 0.0010\n",
            "Epoch 2/30\n",
            "4759/4759 [==============================] - 117s 25ms/step - loss: 0.4464 - accuracy: 0.8539 - lr: 0.0010\n",
            "Epoch 3/30\n",
            "4759/4759 [==============================] - 117s 24ms/step - loss: 0.2618 - accuracy: 0.9168 - lr: 0.0010\n",
            "Epoch 4/30\n",
            "4759/4759 [==============================] - 117s 25ms/step - loss: 0.2103 - accuracy: 0.9336 - lr: 0.0010\n",
            "Epoch 5/30\n",
            "4759/4759 [==============================] - 117s 25ms/step - loss: 0.1865 - accuracy: 0.9414 - lr: 0.0010\n",
            "Epoch 6/30\n",
            "4759/4759 [==============================] - 117s 25ms/step - loss: 0.1691 - accuracy: 0.9469 - lr: 0.0010\n",
            "Epoch 7/30\n",
            "4759/4759 [==============================] - 117s 25ms/step - loss: 0.1581 - accuracy: 0.9503 - lr: 0.0010\n",
            "Epoch 8/30\n",
            "4759/4759 [==============================] - 117s 25ms/step - loss: 0.1488 - accuracy: 0.9533 - lr: 0.0010\n",
            "Epoch 9/30\n",
            "4759/4759 [==============================] - 117s 25ms/step - loss: 0.1416 - accuracy: 0.9557 - lr: 0.0010\n",
            "Epoch 10/30\n",
            "4759/4759 [==============================] - 117s 25ms/step - loss: 0.1353 - accuracy: 0.9575 - lr: 0.0010\n",
            "Epoch 11/30\n",
            "4759/4759 [==============================] - 117s 24ms/step - loss: 0.1319 - accuracy: 0.9587 - lr: 0.0010\n",
            "Epoch 12/30\n",
            "4759/4759 [==============================] - 116s 24ms/step - loss: 0.1282 - accuracy: 0.9600 - lr: 0.0010\n",
            "Epoch 13/30\n",
            "4759/4759 [==============================] - 117s 25ms/step - loss: 0.1234 - accuracy: 0.9613 - lr: 0.0010\n",
            "Epoch 14/30\n",
            "4759/4759 [==============================] - 117s 25ms/step - loss: 0.1200 - accuracy: 0.9622 - lr: 0.0010\n",
            "Epoch 15/30\n",
            "4759/4759 [==============================] - 117s 25ms/step - loss: 0.1178 - accuracy: 0.9630 - lr: 0.0010\n",
            "Epoch 16/30\n",
            "4759/4759 [==============================] - 117s 25ms/step - loss: 0.1136 - accuracy: 0.9643 - lr: 0.0010\n",
            "Epoch 17/30\n",
            "4759/4759 [==============================] - 117s 25ms/step - loss: 0.1124 - accuracy: 0.9648 - lr: 0.0010\n",
            "Epoch 18/30\n",
            "4759/4759 [==============================] - 117s 25ms/step - loss: 0.1087 - accuracy: 0.9658 - lr: 0.0010\n",
            "Epoch 19/30\n",
            "4759/4759 [==============================] - 117s 25ms/step - loss: 0.0847 - accuracy: 0.9734 - lr: 1.0000e-04\n",
            "Epoch 20/30\n",
            "4759/4759 [==============================] - 117s 25ms/step - loss: 0.0791 - accuracy: 0.9753 - lr: 1.0000e-04\n",
            "Epoch 21/30\n",
            "4759/4759 [==============================] - 117s 25ms/step - loss: 0.0764 - accuracy: 0.9761 - lr: 1.0000e-04\n",
            "Epoch 22/30\n",
            "4759/4759 [==============================] - 117s 25ms/step - loss: 0.0742 - accuracy: 0.9768 - lr: 1.0000e-04\n",
            "Epoch 23/30\n",
            "4759/4759 [==============================] - 117s 25ms/step - loss: 0.0723 - accuracy: 0.9774 - lr: 1.0000e-04\n",
            "Epoch 24/30\n",
            "4759/4759 [==============================] - 117s 25ms/step - loss: 0.0704 - accuracy: 0.9780 - lr: 1.0000e-04\n",
            "Epoch 25/30\n",
            "4759/4759 [==============================] - 117s 25ms/step - loss: 0.0687 - accuracy: 0.9787 - lr: 1.0000e-04\n",
            "Epoch 26/30\n",
            "4759/4759 [==============================] - 117s 25ms/step - loss: 0.0655 - accuracy: 0.9798 - lr: 1.0000e-05\n",
            "Epoch 27/30\n",
            "4759/4759 [==============================] - 117s 25ms/step - loss: 0.0650 - accuracy: 0.9799 - lr: 1.0000e-05\n",
            "Epoch 28/30\n",
            "4759/4759 [==============================] - 117s 25ms/step - loss: 0.0646 - accuracy: 0.9801 - lr: 1.0000e-05\n",
            "Epoch 29/30\n",
            "4759/4759 [==============================] - 117s 25ms/step - loss: 0.0642 - accuracy: 0.9802 - lr: 1.0000e-06\n",
            "Epoch 30/30\n",
            "4759/4759 [==============================] - 117s 25ms/step - loss: 0.0641 - accuracy: 0.9803 - lr: 1.0000e-06\n"
          ]
        }
      ]
    },
    {
      "cell_type": "code",
      "source": [
        "prediction = model.predict(x_test)\n",
        "decoded = \"\"\n",
        "for i in range(x_test.shape[0]):\n",
        "    for j in range(x_test.shape[1]):\n",
        "        decoded += symbols[np.argmax(prediction[i, j])]\n",
        "print(decoded)"
      ],
      "metadata": {
        "colab": {
          "base_uri": "https://localhost:8080/"
        },
        "id": "1hAiukSA9Ob7",
        "outputId": "4d8eef64-073c-4808-8b94-709839f3f54a"
      },
      "execution_count": 24,
      "outputs": [
        {
          "output_type": "stream",
          "name": "stdout",
          "text": [
            "    i        love     deep    clearning \n"
          ]
        }
      ]
    },
    {
      "cell_type": "code",
      "source": [
        ""
      ],
      "metadata": {
        "id": "rQXHl2jdPaVk"
      },
      "execution_count": 24,
      "outputs": []
    }
  ]
}