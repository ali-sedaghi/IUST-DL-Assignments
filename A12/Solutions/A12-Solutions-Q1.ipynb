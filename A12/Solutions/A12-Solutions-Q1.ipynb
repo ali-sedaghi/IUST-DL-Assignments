{
  "nbformat": 4,
  "nbformat_minor": 0,
  "metadata": {
    "colab": {
      "name": "HW12_Q1.ipynb",
      "provenance": [],
      "collapsed_sections": [
        "KCIGBY3HtkCU",
        "Yc202MNgtrWT",
        "e-5KZ32sttQt",
        "qn0nZ5Gmtw_5"
      ]
    },
    "kernelspec": {
      "name": "python3",
      "display_name": "Python 3"
    },
    "language_info": {
      "name": "python"
    },
    "accelerator": "GPU"
  },
  "cells": [
    {
      "cell_type": "markdown",
      "source": [
        "## Imports and install"
      ],
      "metadata": {
        "id": "Giafo-MKtfUV"
      }
    },
    {
      "cell_type": "code",
      "execution_count": 1,
      "metadata": {
        "colab": {
          "base_uri": "https://localhost:8080/"
        },
        "id": "IeLC9EFJxGm0",
        "outputId": "01e165ea-21f2-44d2-d028-6730d84113fd"
      },
      "outputs": [
        {
          "output_type": "stream",
          "name": "stdout",
          "text": [
            "\u001b[K     |████████████████████████████████| 6.4 MB 17.0 MB/s \n",
            "\u001b[?25h"
          ]
        }
      ],
      "source": [
        "# Installing yfinance package\n",
        "!pip install yfinance -q"
      ]
    },
    {
      "cell_type": "code",
      "source": [
        "# Imports\n",
        "import numpy as np\n",
        "from matplotlib import pyplot as plt\n",
        "import yfinance as yf\n",
        "from tensorflow.keras import Model\n",
        "from tensorflow.keras.layers import Input, Dense, Dropout, LSTM\n",
        "from tensorflow.keras.optimizers import Adam\n",
        "from tensorflow.keras.losses import MeanSquaredError\n",
        "from sklearn.preprocessing import MinMaxScaler"
      ],
      "metadata": {
        "id": "KHyziqUsxhev"
      },
      "execution_count": 2,
      "outputs": []
    },
    {
      "cell_type": "markdown",
      "source": [
        "## Utility functions"
      ],
      "metadata": {
        "id": "KCIGBY3HtkCU"
      }
    },
    {
      "cell_type": "code",
      "source": [
        "def create_train_set(train_data, past):\n",
        "    n = train_data.shape[0]\n",
        "    x = np.zeros((n-past, past, 1))\n",
        "    y = np.zeros((n-past,))\n",
        "    for i in range(past, n):\n",
        "        temp = 0\n",
        "        for j in range(i-past, i):\n",
        "            x[i-past, temp, 0] = train_data[j, 0]\n",
        "            temp += 1\n",
        "        y[i-past] = train_data[i, 0]\n",
        "    return x, y\n",
        "\n",
        "def create_val_set(val_data, train_data, past):\n",
        "    n = val_data.shape[0]\n",
        "    n_train = train_data.shape[0]\n",
        "    temp_set = np.concatenate((train_data[n_train-past:], val_data))\n",
        "    x = np.zeros((n, past, 1))\n",
        "    y = np.zeros((n,))\n",
        "    for i in range(n):\n",
        "        temp = 0\n",
        "        for j in range(i, i+past):\n",
        "            x[i, temp, 0] = temp_set[j, 0]\n",
        "            temp += 1\n",
        "        y[i] = temp_set[i+past, 0]\n",
        "    return x, y"
      ],
      "metadata": {
        "id": "6jlxAqXisBIm"
      },
      "execution_count": 3,
      "outputs": []
    },
    {
      "cell_type": "code",
      "source": [
        "def plot_results(title, loss, val_loss):\n",
        "  fig, (ax1) = plt.subplots(1, 1)\n",
        "  fig.tight_layout(pad=4)\n",
        "  fig.suptitle(title)\n",
        "  ax1.set_title('Loss')\n",
        "  ax1.plot(loss)\n",
        "  ax1.plot(val_loss)\n",
        "  ax1.set_ylabel('loss')\n",
        "  ax1.set_xlabel('epoch')\n",
        "  ax1.legend(['training', 'validation'], loc='upper right')\n",
        "  fig.show()"
      ],
      "metadata": {
        "id": "cS6WruXeBbwt"
      },
      "execution_count": 4,
      "outputs": []
    },
    {
      "cell_type": "code",
      "source": [
        "def plot_predictions(model, scaler, x_norm, y_norm, title):\n",
        "    y_predict_norm = model.predict(x_norm)\n",
        "    y_predict_true = np.squeeze(scaler.inverse_transform(y_predict_norm))\n",
        "    y_true = np.squeeze(scaler.inverse_transform([y_norm]))\n",
        "    plt.plot(y_predict_true)\n",
        "    plt.plot(y_true)\n",
        "    plt.title(title)\n",
        "    plt.ylabel('Price')\n",
        "    plt.legend ([\"Predictions\", \"True values\"])\n",
        "    plt.show()"
      ],
      "metadata": {
        "id": "bnq2PKOXBglT"
      },
      "execution_count": 5,
      "outputs": []
    },
    {
      "cell_type": "markdown",
      "source": [
        "## Model"
      ],
      "metadata": {
        "id": "Yc202MNgtrWT"
      }
    },
    {
      "cell_type": "code",
      "source": [
        "def model_factory(input_shape):\n",
        "    inputs = Input(shape=input_shape)\n",
        "    x = LSTM(units=50, return_sequences=True)(inputs)\n",
        "    x = Dropout(rate=0.2)(x)\n",
        "    x = LSTM(units=50, return_sequences=True)(x)\n",
        "    x = Dropout(rate=0.2)(x)\n",
        "    x = LSTM(units=50, return_sequences=True)(x)\n",
        "    x = Dropout(rate=0.2)(x)\n",
        "    x = LSTM(units=50, return_sequences=False)(x)\n",
        "    outputs = Dense(units=1)(x)\n",
        "    model = Model(inputs=inputs, outputs=outputs)\n",
        "    model.compile(\n",
        "        loss=MeanSquaredError(),\n",
        "        optimizer=Adam(),\n",
        "    )\n",
        "    return model"
      ],
      "metadata": {
        "id": "l54clvMXtq5d"
      },
      "execution_count": 6,
      "outputs": []
    },
    {
      "cell_type": "markdown",
      "source": [
        "## Loading dataset"
      ],
      "metadata": {
        "id": "e-5KZ32sttQt"
      }
    },
    {
      "cell_type": "code",
      "source": [
        "# Loading dataset\n",
        "train_data = yf.download(\"BTC-USD\", start=\"2014-01-01\", end=\"2021-09-01\")\n",
        "val_data = yf.download(\"BTC-USD\", start=\"2021-09-02\")"
      ],
      "metadata": {
        "colab": {
          "base_uri": "https://localhost:8080/"
        },
        "id": "3xbhIq1txj4N",
        "outputId": "4f370a2d-bcdc-4e75-8d35-91aeffcaa074"
      },
      "execution_count": 7,
      "outputs": [
        {
          "output_type": "stream",
          "name": "stdout",
          "text": [
            "[*********************100%***********************]  1 of 1 completed\n",
            "[*********************100%***********************]  1 of 1 completed\n"
          ]
        }
      ]
    },
    {
      "cell_type": "code",
      "source": [
        "# Showing first 10 days\n",
        "train_data.head(10)"
      ],
      "metadata": {
        "colab": {
          "base_uri": "https://localhost:8080/",
          "height": 0
        },
        "id": "qOo0XHuMx35G",
        "outputId": "51d6fd88-9093-4a75-f8a4-431d25c019e6"
      },
      "execution_count": 8,
      "outputs": [
        {
          "output_type": "execute_result",
          "data": {
            "text/html": [
              "\n",
              "  <div id=\"df-06618412-dcbd-4b8c-a7a3-b661928a10f3\">\n",
              "    <div class=\"colab-df-container\">\n",
              "      <div>\n",
              "<style scoped>\n",
              "    .dataframe tbody tr th:only-of-type {\n",
              "        vertical-align: middle;\n",
              "    }\n",
              "\n",
              "    .dataframe tbody tr th {\n",
              "        vertical-align: top;\n",
              "    }\n",
              "\n",
              "    .dataframe thead th {\n",
              "        text-align: right;\n",
              "    }\n",
              "</style>\n",
              "<table border=\"1\" class=\"dataframe\">\n",
              "  <thead>\n",
              "    <tr style=\"text-align: right;\">\n",
              "      <th></th>\n",
              "      <th>Open</th>\n",
              "      <th>High</th>\n",
              "      <th>Low</th>\n",
              "      <th>Close</th>\n",
              "      <th>Adj Close</th>\n",
              "      <th>Volume</th>\n",
              "    </tr>\n",
              "    <tr>\n",
              "      <th>Date</th>\n",
              "      <th></th>\n",
              "      <th></th>\n",
              "      <th></th>\n",
              "      <th></th>\n",
              "      <th></th>\n",
              "      <th></th>\n",
              "    </tr>\n",
              "  </thead>\n",
              "  <tbody>\n",
              "    <tr>\n",
              "      <th>2014-09-17</th>\n",
              "      <td>465.864014</td>\n",
              "      <td>468.174011</td>\n",
              "      <td>452.421997</td>\n",
              "      <td>457.334015</td>\n",
              "      <td>457.334015</td>\n",
              "      <td>21056800</td>\n",
              "    </tr>\n",
              "    <tr>\n",
              "      <th>2014-09-18</th>\n",
              "      <td>456.859985</td>\n",
              "      <td>456.859985</td>\n",
              "      <td>413.104004</td>\n",
              "      <td>424.440002</td>\n",
              "      <td>424.440002</td>\n",
              "      <td>34483200</td>\n",
              "    </tr>\n",
              "    <tr>\n",
              "      <th>2014-09-19</th>\n",
              "      <td>424.102997</td>\n",
              "      <td>427.834991</td>\n",
              "      <td>384.532013</td>\n",
              "      <td>394.795990</td>\n",
              "      <td>394.795990</td>\n",
              "      <td>37919700</td>\n",
              "    </tr>\n",
              "    <tr>\n",
              "      <th>2014-09-20</th>\n",
              "      <td>394.673004</td>\n",
              "      <td>423.295990</td>\n",
              "      <td>389.882996</td>\n",
              "      <td>408.903992</td>\n",
              "      <td>408.903992</td>\n",
              "      <td>36863600</td>\n",
              "    </tr>\n",
              "    <tr>\n",
              "      <th>2014-09-21</th>\n",
              "      <td>408.084991</td>\n",
              "      <td>412.425995</td>\n",
              "      <td>393.181000</td>\n",
              "      <td>398.821014</td>\n",
              "      <td>398.821014</td>\n",
              "      <td>26580100</td>\n",
              "    </tr>\n",
              "    <tr>\n",
              "      <th>2014-09-22</th>\n",
              "      <td>399.100006</td>\n",
              "      <td>406.915985</td>\n",
              "      <td>397.130005</td>\n",
              "      <td>402.152008</td>\n",
              "      <td>402.152008</td>\n",
              "      <td>24127600</td>\n",
              "    </tr>\n",
              "    <tr>\n",
              "      <th>2014-09-23</th>\n",
              "      <td>402.092010</td>\n",
              "      <td>441.557007</td>\n",
              "      <td>396.196991</td>\n",
              "      <td>435.790985</td>\n",
              "      <td>435.790985</td>\n",
              "      <td>45099500</td>\n",
              "    </tr>\n",
              "    <tr>\n",
              "      <th>2014-09-24</th>\n",
              "      <td>435.751007</td>\n",
              "      <td>436.112000</td>\n",
              "      <td>421.131989</td>\n",
              "      <td>423.204987</td>\n",
              "      <td>423.204987</td>\n",
              "      <td>30627700</td>\n",
              "    </tr>\n",
              "    <tr>\n",
              "      <th>2014-09-25</th>\n",
              "      <td>423.156006</td>\n",
              "      <td>423.519989</td>\n",
              "      <td>409.467987</td>\n",
              "      <td>411.574005</td>\n",
              "      <td>411.574005</td>\n",
              "      <td>26814400</td>\n",
              "    </tr>\n",
              "    <tr>\n",
              "      <th>2014-09-26</th>\n",
              "      <td>411.428986</td>\n",
              "      <td>414.937988</td>\n",
              "      <td>400.009003</td>\n",
              "      <td>404.424988</td>\n",
              "      <td>404.424988</td>\n",
              "      <td>21460800</td>\n",
              "    </tr>\n",
              "  </tbody>\n",
              "</table>\n",
              "</div>\n",
              "      <button class=\"colab-df-convert\" onclick=\"convertToInteractive('df-06618412-dcbd-4b8c-a7a3-b661928a10f3')\"\n",
              "              title=\"Convert this dataframe to an interactive table.\"\n",
              "              style=\"display:none;\">\n",
              "        \n",
              "  <svg xmlns=\"http://www.w3.org/2000/svg\" height=\"24px\"viewBox=\"0 0 24 24\"\n",
              "       width=\"24px\">\n",
              "    <path d=\"M0 0h24v24H0V0z\" fill=\"none\"/>\n",
              "    <path d=\"M18.56 5.44l.94 2.06.94-2.06 2.06-.94-2.06-.94-.94-2.06-.94 2.06-2.06.94zm-11 1L8.5 8.5l.94-2.06 2.06-.94-2.06-.94L8.5 2.5l-.94 2.06-2.06.94zm10 10l.94 2.06.94-2.06 2.06-.94-2.06-.94-.94-2.06-.94 2.06-2.06.94z\"/><path d=\"M17.41 7.96l-1.37-1.37c-.4-.4-.92-.59-1.43-.59-.52 0-1.04.2-1.43.59L10.3 9.45l-7.72 7.72c-.78.78-.78 2.05 0 2.83L4 21.41c.39.39.9.59 1.41.59.51 0 1.02-.2 1.41-.59l7.78-7.78 2.81-2.81c.8-.78.8-2.07 0-2.86zM5.41 20L4 18.59l7.72-7.72 1.47 1.35L5.41 20z\"/>\n",
              "  </svg>\n",
              "      </button>\n",
              "      \n",
              "  <style>\n",
              "    .colab-df-container {\n",
              "      display:flex;\n",
              "      flex-wrap:wrap;\n",
              "      gap: 12px;\n",
              "    }\n",
              "\n",
              "    .colab-df-convert {\n",
              "      background-color: #E8F0FE;\n",
              "      border: none;\n",
              "      border-radius: 50%;\n",
              "      cursor: pointer;\n",
              "      display: none;\n",
              "      fill: #1967D2;\n",
              "      height: 32px;\n",
              "      padding: 0 0 0 0;\n",
              "      width: 32px;\n",
              "    }\n",
              "\n",
              "    .colab-df-convert:hover {\n",
              "      background-color: #E2EBFA;\n",
              "      box-shadow: 0px 1px 2px rgba(60, 64, 67, 0.3), 0px 1px 3px 1px rgba(60, 64, 67, 0.15);\n",
              "      fill: #174EA6;\n",
              "    }\n",
              "\n",
              "    [theme=dark] .colab-df-convert {\n",
              "      background-color: #3B4455;\n",
              "      fill: #D2E3FC;\n",
              "    }\n",
              "\n",
              "    [theme=dark] .colab-df-convert:hover {\n",
              "      background-color: #434B5C;\n",
              "      box-shadow: 0px 1px 3px 1px rgba(0, 0, 0, 0.15);\n",
              "      filter: drop-shadow(0px 1px 2px rgba(0, 0, 0, 0.3));\n",
              "      fill: #FFFFFF;\n",
              "    }\n",
              "  </style>\n",
              "\n",
              "      <script>\n",
              "        const buttonEl =\n",
              "          document.querySelector('#df-06618412-dcbd-4b8c-a7a3-b661928a10f3 button.colab-df-convert');\n",
              "        buttonEl.style.display =\n",
              "          google.colab.kernel.accessAllowed ? 'block' : 'none';\n",
              "\n",
              "        async function convertToInteractive(key) {\n",
              "          const element = document.querySelector('#df-06618412-dcbd-4b8c-a7a3-b661928a10f3');\n",
              "          const dataTable =\n",
              "            await google.colab.kernel.invokeFunction('convertToInteractive',\n",
              "                                                     [key], {});\n",
              "          if (!dataTable) return;\n",
              "\n",
              "          const docLinkHtml = 'Like what you see? Visit the ' +\n",
              "            '<a target=\"_blank\" href=https://colab.research.google.com/notebooks/data_table.ipynb>data table notebook</a>'\n",
              "            + ' to learn more about interactive tables.';\n",
              "          element.innerHTML = '';\n",
              "          dataTable['output_type'] = 'display_data';\n",
              "          await google.colab.output.renderOutput(dataTable, element);\n",
              "          const docLink = document.createElement('div');\n",
              "          docLink.innerHTML = docLinkHtml;\n",
              "          element.appendChild(docLink);\n",
              "        }\n",
              "      </script>\n",
              "    </div>\n",
              "  </div>\n",
              "  "
            ],
            "text/plain": [
              "                  Open        High  ...   Adj Close    Volume\n",
              "Date                                ...                      \n",
              "2014-09-17  465.864014  468.174011  ...  457.334015  21056800\n",
              "2014-09-18  456.859985  456.859985  ...  424.440002  34483200\n",
              "2014-09-19  424.102997  427.834991  ...  394.795990  37919700\n",
              "2014-09-20  394.673004  423.295990  ...  408.903992  36863600\n",
              "2014-09-21  408.084991  412.425995  ...  398.821014  26580100\n",
              "2014-09-22  399.100006  406.915985  ...  402.152008  24127600\n",
              "2014-09-23  402.092010  441.557007  ...  435.790985  45099500\n",
              "2014-09-24  435.751007  436.112000  ...  423.204987  30627700\n",
              "2014-09-25  423.156006  423.519989  ...  411.574005  26814400\n",
              "2014-09-26  411.428986  414.937988  ...  404.424988  21460800\n",
              "\n",
              "[10 rows x 6 columns]"
            ]
          },
          "metadata": {},
          "execution_count": 8
        }
      ]
    },
    {
      "cell_type": "code",
      "source": [
        "# Plot train and test time series\n",
        "plt.figure(figsize=(20, 5))\n",
        "train_data.Close.plot()\n",
        "val_data.Close.plot()\n",
        "plt.ylabel('Price')\n",
        "plt.legend ([\"Train\", \"Test\"])\n",
        "plt.show()"
      ],
      "metadata": {
        "colab": {
          "base_uri": "https://localhost:8080/",
          "height": 0
        },
        "id": "a5szJPFExmO1",
        "outputId": "55715632-de9c-4a2a-e57b-86cdc842127d"
      },
      "execution_count": 9,
      "outputs": [
        {
          "output_type": "display_data",
          "data": {
            "image/png": "[encoded data removed]",
            "text/plain": [
              "<Figure size 1440x360 with 1 Axes>"
            ]
          },
          "metadata": {
            "needs_background": "light"
          }
        }
      ]
    },
    {
      "cell_type": "code",
      "source": [
        "train_data = train_data.Close.values.reshape(-1, 1)\n",
        "val_data = val_data.Close.values.reshape(-1, 1)"
      ],
      "metadata": {
        "id": "X4vSSmS8xnf1"
      },
      "execution_count": 10,
      "outputs": []
    },
    {
      "cell_type": "code",
      "source": [
        "# Normalize close values\n",
        "scaler = MinMaxScaler()\n",
        "scaler.fit(train_data)\n",
        "train_data = scaler.fit_transform(train_data)\n",
        "val_data = scaler.fit_transform(val_data)"
      ],
      "metadata": {
        "id": "4u3TvdHdxos-"
      },
      "execution_count": 11,
      "outputs": []
    },
    {
      "cell_type": "code",
      "source": [
        "print(\"Train shape:\", train_data.shape)\n",
        "print(\"Val shape:\", val_data.shape)"
      ],
      "metadata": {
        "colab": {
          "base_uri": "https://localhost:8080/"
        },
        "id": "zXG8eGlMKhSH",
        "outputId": "8b9b3f16-4e35-42ff-de9b-0c4c143b46db"
      },
      "execution_count": 12,
      "outputs": [
        {
          "output_type": "stream",
          "name": "stdout",
          "text": [
            "Train shape: (2542, 1)\n",
            "Val shape: (115, 1)\n"
          ]
        }
      ]
    },
    {
      "cell_type": "markdown",
      "source": [
        "## Hyperparms"
      ],
      "metadata": {
        "id": "qn0nZ5Gmtw_5"
      }
    },
    {
      "cell_type": "code",
      "source": [
        "FUTURE = 3*30\n",
        "BATCH_SIZE = 32\n",
        "EPOCHS = 100"
      ],
      "metadata": {
        "id": "z6TGednSsSol"
      },
      "execution_count": 13,
      "outputs": []
    },
    {
      "cell_type": "markdown",
      "source": [
        "## Past = 60"
      ],
      "metadata": {
        "id": "oMH0N6q0sTYI"
      }
    },
    {
      "cell_type": "code",
      "source": [
        "PAST = 60"
      ],
      "metadata": {
        "id": "vOCtQMU95DOa"
      },
      "execution_count": 14,
      "outputs": []
    },
    {
      "cell_type": "code",
      "source": [
        "x_train, y_train = create_train_set(train_data, PAST)\n",
        "x_val, y_val = create_val_set(val_data, train_data, PAST)\n",
        "\n",
        "print(\"x_train shape:\", x_train.shape)\n",
        "print(\"y_train shape:\", y_train.shape)\n",
        "print(\"x_val shape:\", x_val.shape)\n",
        "print(\"y_val shape:\", y_val.shape)"
      ],
      "metadata": {
        "colab": {
          "base_uri": "https://localhost:8080/"
        },
        "id": "8tSQJnUZM68b",
        "outputId": "34334a2e-9f98-430b-c4ac-ccfedec82bbf"
      },
      "execution_count": 15,
      "outputs": [
        {
          "output_type": "stream",
          "name": "stdout",
          "text": [
            "x_train shape: (2482, 60, 1)\n",
            "y_train shape: (2482,)\n",
            "x_val shape: (115, 60, 1)\n",
            "y_val shape: (115,)\n"
          ]
        }
      ]
    },
    {
      "cell_type": "code",
      "source": [
        "input_shape = (PAST, 1)\n",
        "model = model_factory(input_shape)\n",
        "model.summary()"
      ],
      "metadata": {
        "colab": {
          "base_uri": "https://localhost:8080/"
        },
        "id": "tKnVOKs4xu72",
        "outputId": "2e2c07f2-385a-42dd-cc1a-fac9c0ba5d08"
      },
      "execution_count": 16,
      "outputs": [
        {
          "output_type": "stream",
          "name": "stdout",
          "text": [
            "Model: \"model\"\n",
            "_________________________________________________________________\n",
            " Layer (type)                Output Shape              Param #   \n",
            "=================================================================\n",
            " input_1 (InputLayer)        [(None, 60, 1)]           0         \n",
            "                                                                 \n",
            " lstm (LSTM)                 (None, 60, 50)            10400     \n",
            "                                                                 \n",
            " dropout (Dropout)           (None, 60, 50)            0         \n",
            "                                                                 \n",
            " lstm_1 (LSTM)               (None, 60, 50)            20200     \n",
            "                                                                 \n",
            " dropout_1 (Dropout)         (None, 60, 50)            0         \n",
            "                                                                 \n",
            " lstm_2 (LSTM)               (None, 60, 50)            20200     \n",
            "                                                                 \n",
            " dropout_2 (Dropout)         (None, 60, 50)            0         \n",
            "                                                                 \n",
            " lstm_3 (LSTM)               (None, 50)                20200     \n",
            "                                                                 \n",
            " dense (Dense)               (None, 1)                 51        \n",
            "                                                                 \n",
            "=================================================================\n",
            "Total params: 71,051\n",
            "Trainable params: 71,051\n",
            "Non-trainable params: 0\n",
            "_________________________________________________________________\n"
          ]
        }
      ]
    },
    {
      "cell_type": "code",
      "source": [
        "history = model.fit(\n",
        "    x=x_train,\n",
        "    y=y_train,\n",
        "    validation_data=(x_val, y_val),\n",
        "    batch_size=BATCH_SIZE,\n",
        "    epochs=EPOCHS\n",
        ")"
      ],
      "metadata": {
        "colab": {
          "base_uri": "https://localhost:8080/"
        },
        "id": "CwhPidX-xwa_",
        "outputId": "f41da138-b4bd-484a-e741-5fad74461224"
      },
      "execution_count": 17,
      "outputs": [
        {
          "output_type": "stream",
          "name": "stdout",
          "text": [
            "Epoch 1/100\n",
            "78/78 [==============================] - 22s 113ms/step - loss: 0.0047 - val_loss: 0.0648\n",
            "Epoch 2/100\n",
            "78/78 [==============================] - 5s 69ms/step - loss: 0.0017 - val_loss: 0.0578\n",
            "Epoch 3/100\n",
            "78/78 [==============================] - 5s 68ms/step - loss: 0.0015 - val_loss: 0.0537\n",
            "Epoch 4/100\n",
            "78/78 [==============================] - 5s 67ms/step - loss: 0.0012 - val_loss: 0.0423\n",
            "Epoch 5/100\n",
            "78/78 [==============================] - 5s 65ms/step - loss: 0.0012 - val_loss: 0.0520\n",
            "Epoch 6/100\n",
            "78/78 [==============================] - 5s 63ms/step - loss: 0.0011 - val_loss: 0.0508\n",
            "Epoch 7/100\n",
            "78/78 [==============================] - 5s 63ms/step - loss: 9.1505e-04 - val_loss: 0.0418\n",
            "Epoch 8/100\n",
            "78/78 [==============================] - 5s 63ms/step - loss: 9.0282e-04 - val_loss: 0.0320\n",
            "Epoch 9/100\n",
            "78/78 [==============================] - 5s 63ms/step - loss: 7.6257e-04 - val_loss: 0.0314\n",
            "Epoch 10/100\n",
            "78/78 [==============================] - 5s 63ms/step - loss: 9.0425e-04 - val_loss: 0.0341\n",
            "Epoch 11/100\n",
            "78/78 [==============================] - 5s 63ms/step - loss: 0.0010 - val_loss: 0.0255\n",
            "Epoch 12/100\n",
            "78/78 [==============================] - 5s 63ms/step - loss: 6.3893e-04 - val_loss: 0.0232\n",
            "Epoch 13/100\n",
            "78/78 [==============================] - 5s 63ms/step - loss: 5.8154e-04 - val_loss: 0.0219\n",
            "Epoch 14/100\n",
            "78/78 [==============================] - 5s 63ms/step - loss: 6.1040e-04 - val_loss: 0.0213\n",
            "Epoch 15/100\n",
            "78/78 [==============================] - 5s 63ms/step - loss: 6.8095e-04 - val_loss: 0.0221\n",
            "Epoch 16/100\n",
            "78/78 [==============================] - 5s 63ms/step - loss: 5.7805e-04 - val_loss: 0.0184\n",
            "Epoch 17/100\n",
            "78/78 [==============================] - 5s 63ms/step - loss: 6.8846e-04 - val_loss: 0.0232\n",
            "Epoch 18/100\n",
            "78/78 [==============================] - 5s 63ms/step - loss: 6.0283e-04 - val_loss: 0.0177\n",
            "Epoch 19/100\n",
            "78/78 [==============================] - 5s 63ms/step - loss: 6.1722e-04 - val_loss: 0.0187\n",
            "Epoch 20/100\n",
            "78/78 [==============================] - 5s 63ms/step - loss: 6.4643e-04 - val_loss: 0.0173\n",
            "Epoch 21/100\n",
            "78/78 [==============================] - 5s 63ms/step - loss: 6.8351e-04 - val_loss: 0.0230\n",
            "Epoch 22/100\n",
            "78/78 [==============================] - 5s 63ms/step - loss: 5.2897e-04 - val_loss: 0.0164\n",
            "Epoch 23/100\n",
            "78/78 [==============================] - 5s 66ms/step - loss: 5.8218e-04 - val_loss: 0.0157\n",
            "Epoch 24/100\n",
            "78/78 [==============================] - 5s 63ms/step - loss: 5.4316e-04 - val_loss: 0.0171\n",
            "Epoch 25/100\n",
            "78/78 [==============================] - 5s 63ms/step - loss: 6.6368e-04 - val_loss: 0.0152\n",
            "Epoch 26/100\n",
            "78/78 [==============================] - 5s 63ms/step - loss: 5.9953e-04 - val_loss: 0.0158\n",
            "Epoch 27/100\n",
            "78/78 [==============================] - 5s 63ms/step - loss: 5.2459e-04 - val_loss: 0.0144\n",
            "Epoch 28/100\n",
            "78/78 [==============================] - 5s 63ms/step - loss: 5.6091e-04 - val_loss: 0.0151\n",
            "Epoch 29/100\n",
            "78/78 [==============================] - 5s 63ms/step - loss: 3.9416e-04 - val_loss: 0.0151\n",
            "Epoch 30/100\n",
            "78/78 [==============================] - 5s 63ms/step - loss: 5.1848e-04 - val_loss: 0.0154\n",
            "Epoch 31/100\n",
            "78/78 [==============================] - 5s 63ms/step - loss: 4.5766e-04 - val_loss: 0.0137\n",
            "Epoch 32/100\n",
            "78/78 [==============================] - 5s 63ms/step - loss: 4.1079e-04 - val_loss: 0.0142\n",
            "Epoch 33/100\n",
            "78/78 [==============================] - 5s 63ms/step - loss: 4.0406e-04 - val_loss: 0.0133\n",
            "Epoch 34/100\n",
            "78/78 [==============================] - 5s 66ms/step - loss: 4.5696e-04 - val_loss: 0.0177\n",
            "Epoch 35/100\n",
            "78/78 [==============================] - 6s 73ms/step - loss: 5.1633e-04 - val_loss: 0.0130\n",
            "Epoch 36/100\n",
            "78/78 [==============================] - 5s 68ms/step - loss: 4.0703e-04 - val_loss: 0.0136\n",
            "Epoch 37/100\n",
            "78/78 [==============================] - 5s 67ms/step - loss: 4.1458e-04 - val_loss: 0.0126\n",
            "Epoch 38/100\n",
            "78/78 [==============================] - 5s 68ms/step - loss: 4.1655e-04 - val_loss: 0.0123\n",
            "Epoch 39/100\n",
            "78/78 [==============================] - 5s 67ms/step - loss: 4.2394e-04 - val_loss: 0.0119\n",
            "Epoch 40/100\n",
            "78/78 [==============================] - 5s 68ms/step - loss: 4.3286e-04 - val_loss: 0.0118\n",
            "Epoch 41/100\n",
            "78/78 [==============================] - 5s 63ms/step - loss: 3.8311e-04 - val_loss: 0.0121\n",
            "Epoch 42/100\n",
            "78/78 [==============================] - 5s 63ms/step - loss: 3.9012e-04 - val_loss: 0.0124\n",
            "Epoch 43/100\n",
            "78/78 [==============================] - 5s 63ms/step - loss: 4.5232e-04 - val_loss: 0.0112\n",
            "Epoch 44/100\n",
            "78/78 [==============================] - 5s 63ms/step - loss: 4.4044e-04 - val_loss: 0.0113\n",
            "Epoch 45/100\n",
            "78/78 [==============================] - 5s 63ms/step - loss: 3.8755e-04 - val_loss: 0.0127\n",
            "Epoch 46/100\n",
            "78/78 [==============================] - 5s 63ms/step - loss: 3.9501e-04 - val_loss: 0.0133\n",
            "Epoch 47/100\n",
            "78/78 [==============================] - 5s 63ms/step - loss: 4.7466e-04 - val_loss: 0.0111\n",
            "Epoch 48/100\n",
            "78/78 [==============================] - 5s 63ms/step - loss: 4.1510e-04 - val_loss: 0.0104\n",
            "Epoch 49/100\n",
            "78/78 [==============================] - 5s 63ms/step - loss: 3.5355e-04 - val_loss: 0.0108\n",
            "Epoch 50/100\n",
            "78/78 [==============================] - 5s 63ms/step - loss: 3.8685e-04 - val_loss: 0.0113\n",
            "Epoch 51/100\n",
            "78/78 [==============================] - 5s 63ms/step - loss: 4.6110e-04 - val_loss: 0.0128\n",
            "Epoch 52/100\n",
            "78/78 [==============================] - 5s 63ms/step - loss: 3.6283e-04 - val_loss: 0.0104\n",
            "Epoch 53/100\n",
            "78/78 [==============================] - 5s 63ms/step - loss: 3.6366e-04 - val_loss: 0.0110\n",
            "Epoch 54/100\n",
            "78/78 [==============================] - 5s 63ms/step - loss: 3.5354e-04 - val_loss: 0.0107\n",
            "Epoch 55/100\n",
            "78/78 [==============================] - 5s 64ms/step - loss: 3.7062e-04 - val_loss: 0.0102\n",
            "Epoch 56/100\n",
            "78/78 [==============================] - 5s 63ms/step - loss: 4.6816e-04 - val_loss: 0.0123\n",
            "Epoch 57/100\n",
            "78/78 [==============================] - 5s 63ms/step - loss: 3.6723e-04 - val_loss: 0.0103\n",
            "Epoch 58/100\n",
            "78/78 [==============================] - 5s 63ms/step - loss: 3.3691e-04 - val_loss: 0.0097\n",
            "Epoch 59/100\n",
            "78/78 [==============================] - 5s 63ms/step - loss: 3.1407e-04 - val_loss: 0.0094\n",
            "Epoch 60/100\n",
            "78/78 [==============================] - 5s 63ms/step - loss: 3.3924e-04 - val_loss: 0.0098\n",
            "Epoch 61/100\n",
            "78/78 [==============================] - 5s 63ms/step - loss: 3.2252e-04 - val_loss: 0.0099\n",
            "Epoch 62/100\n",
            "78/78 [==============================] - 5s 63ms/step - loss: 3.5504e-04 - val_loss: 0.0096\n",
            "Epoch 63/100\n",
            "78/78 [==============================] - 5s 63ms/step - loss: 2.5650e-04 - val_loss: 0.0097\n",
            "Epoch 64/100\n",
            "78/78 [==============================] - 5s 63ms/step - loss: 2.8098e-04 - val_loss: 0.0097\n",
            "Epoch 65/100\n",
            "78/78 [==============================] - 5s 63ms/step - loss: 3.0154e-04 - val_loss: 0.0094\n",
            "Epoch 66/100\n",
            "78/78 [==============================] - 5s 63ms/step - loss: 3.3518e-04 - val_loss: 0.0092\n",
            "Epoch 67/100\n",
            "78/78 [==============================] - 5s 63ms/step - loss: 3.7762e-04 - val_loss: 0.0101\n",
            "Epoch 68/100\n",
            "78/78 [==============================] - 5s 63ms/step - loss: 2.9682e-04 - val_loss: 0.0094\n",
            "Epoch 69/100\n",
            "78/78 [==============================] - 5s 63ms/step - loss: 2.9173e-04 - val_loss: 0.0114\n",
            "Epoch 70/100\n",
            "78/78 [==============================] - 5s 64ms/step - loss: 3.0304e-04 - val_loss: 0.0102\n",
            "Epoch 71/100\n",
            "78/78 [==============================] - 5s 64ms/step - loss: 3.0866e-04 - val_loss: 0.0095\n",
            "Epoch 72/100\n",
            "78/78 [==============================] - 5s 63ms/step - loss: 2.6974e-04 - val_loss: 0.0101\n",
            "Epoch 73/100\n",
            "78/78 [==============================] - 5s 64ms/step - loss: 2.5614e-04 - val_loss: 0.0098\n",
            "Epoch 74/100\n",
            "78/78 [==============================] - 5s 63ms/step - loss: 2.8519e-04 - val_loss: 0.0089\n",
            "Epoch 75/100\n",
            "78/78 [==============================] - 5s 63ms/step - loss: 3.3532e-04 - val_loss: 0.0096\n",
            "Epoch 76/100\n",
            "78/78 [==============================] - 5s 64ms/step - loss: 2.9604e-04 - val_loss: 0.0089\n",
            "Epoch 77/100\n",
            "78/78 [==============================] - 5s 63ms/step - loss: 3.2854e-04 - val_loss: 0.0090\n",
            "Epoch 78/100\n",
            "78/78 [==============================] - 5s 63ms/step - loss: 3.2527e-04 - val_loss: 0.0088\n",
            "Epoch 79/100\n",
            "78/78 [==============================] - 5s 63ms/step - loss: 2.8663e-04 - val_loss: 0.0097\n",
            "Epoch 80/100\n",
            "78/78 [==============================] - 5s 63ms/step - loss: 3.2492e-04 - val_loss: 0.0135\n",
            "Epoch 81/100\n",
            "78/78 [==============================] - 5s 64ms/step - loss: 3.7518e-04 - val_loss: 0.0092\n",
            "Epoch 82/100\n",
            "78/78 [==============================] - 5s 63ms/step - loss: 3.3415e-04 - val_loss: 0.0107\n",
            "Epoch 83/100\n",
            "78/78 [==============================] - 5s 63ms/step - loss: 3.0175e-04 - val_loss: 0.0086\n",
            "Epoch 84/100\n",
            "78/78 [==============================] - 5s 63ms/step - loss: 2.9037e-04 - val_loss: 0.0090\n",
            "Epoch 85/100\n",
            "78/78 [==============================] - 5s 63ms/step - loss: 2.7751e-04 - val_loss: 0.0087\n",
            "Epoch 86/100\n",
            "78/78 [==============================] - 5s 63ms/step - loss: 2.6993e-04 - val_loss: 0.0090\n",
            "Epoch 87/100\n",
            "78/78 [==============================] - 5s 64ms/step - loss: 2.5403e-04 - val_loss: 0.0086\n",
            "Epoch 88/100\n",
            "78/78 [==============================] - 5s 64ms/step - loss: 2.6130e-04 - val_loss: 0.0082\n",
            "Epoch 89/100\n",
            "78/78 [==============================] - 5s 64ms/step - loss: 2.9512e-04 - val_loss: 0.0087\n",
            "Epoch 90/100\n",
            "78/78 [==============================] - 5s 63ms/step - loss: 2.9673e-04 - val_loss: 0.0082\n",
            "Epoch 91/100\n",
            "78/78 [==============================] - 5s 63ms/step - loss: 2.6780e-04 - val_loss: 0.0088\n",
            "Epoch 92/100\n",
            "78/78 [==============================] - 5s 64ms/step - loss: 2.6342e-04 - val_loss: 0.0091\n",
            "Epoch 93/100\n",
            "78/78 [==============================] - 5s 64ms/step - loss: 2.5569e-04 - val_loss: 0.0086\n",
            "Epoch 94/100\n",
            "78/78 [==============================] - 5s 63ms/step - loss: 2.6596e-04 - val_loss: 0.0093\n",
            "Epoch 95/100\n",
            "78/78 [==============================] - 5s 63ms/step - loss: 3.0146e-04 - val_loss: 0.0094\n",
            "Epoch 96/100\n",
            "78/78 [==============================] - 5s 63ms/step - loss: 2.7141e-04 - val_loss: 0.0087\n",
            "Epoch 97/100\n",
            "78/78 [==============================] - 5s 63ms/step - loss: 2.5872e-04 - val_loss: 0.0081\n",
            "Epoch 98/100\n",
            "78/78 [==============================] - 5s 64ms/step - loss: 2.7379e-04 - val_loss: 0.0080\n",
            "Epoch 99/100\n",
            "78/78 [==============================] - 5s 63ms/step - loss: 3.3035e-04 - val_loss: 0.0107\n",
            "Epoch 100/100\n",
            "78/78 [==============================] - 5s 64ms/step - loss: 3.0034e-04 - val_loss: 0.0086\n"
          ]
        }
      ]
    },
    {
      "cell_type": "code",
      "source": [
        "plot_results(\n",
        "    title=f\"Past Values: {PAST}\",\n",
        "    loss=history.history[\"loss\"],\n",
        "    val_loss=history.history[\"val_loss\"],\n",
        ")"
      ],
      "metadata": {
        "colab": {
          "base_uri": "https://localhost:8080/",
          "height": 287
        },
        "id": "GmZ9wP7MARBq",
        "outputId": "7231b99c-c8c2-47ab-a6d0-2ac2e59b7b37"
      },
      "execution_count": 18,
      "outputs": [
        {
          "output_type": "display_data",
          "data": {
            "image/png": "[encoded data removed]",
            "text/plain": [
              "<Figure size 432x288 with 1 Axes>"
            ]
          },
          "metadata": {
            "needs_background": "light"
          }
        }
      ]
    },
    {
      "cell_type": "code",
      "source": [
        "# Train predictions\n",
        "plot_predictions(\n",
        "    model,\n",
        "    scaler,\n",
        "    x_train,\n",
        "    y_train,\n",
        "    title=f\"Train | Past Values: {PAST}\"\n",
        ")"
      ],
      "metadata": {
        "colab": {
          "base_uri": "https://localhost:8080/",
          "height": 281
        },
        "id": "7bSNvFAS8pNu",
        "outputId": "327a7f46-e8c8-464e-9532-cac4b5d2b2f0"
      },
      "execution_count": 19,
      "outputs": [
        {
          "output_type": "display_data",
          "data": {
            "image/png": "[encoded data removed]",
            "text/plain": [
              "<Figure size 432x288 with 1 Axes>"
            ]
          },
          "metadata": {
            "needs_background": "light"
          }
        }
      ]
    },
    {
      "cell_type": "code",
      "source": [
        "# Test predictions\n",
        "plot_predictions(\n",
        "    model,\n",
        "    scaler,\n",
        "    x_val,\n",
        "    y_val,\n",
        "    title=f\"Val | Past Values: {PAST}\"\n",
        ")"
      ],
      "metadata": {
        "colab": {
          "base_uri": "https://localhost:8080/",
          "height": 281
        },
        "id": "yHAbd6-e8yd2",
        "outputId": "65532ef7-f3e3-4d61-bb25-a8c4e5d5cf33"
      },
      "execution_count": 20,
      "outputs": [
        {
          "output_type": "display_data",
          "data": {
            "image/png": "[encoded data removed]",
            "text/plain": [
              "<Figure size 432x288 with 1 Axes>"
            ]
          },
          "metadata": {
            "needs_background": "light"
          }
        }
      ]
    },
    {
      "cell_type": "code",
      "source": [
        "n_val = val_data.shape[0]\n",
        "test_data = np.concatenate((val_data[n_val-PAST:], np.zeros((FUTURE, 1))))\n",
        "\n",
        "for i in range(PAST, FUTURE + PAST):\n",
        "    batch = test_data[i-PAST:i].T\n",
        "    batch = np.expand_dims(batch, axis=2)\n",
        "    prediction = model.predict(batch)\n",
        "    test_data[i] = np.squeeze(prediction)\n",
        "\n",
        "test_data = scaler.inverse_transform(test_data)\n",
        "past_prices = test_data[:PAST]\n",
        "future_prices = test_data[PAST+1:]"
      ],
      "metadata": {
        "id": "fuRKUOSClAsQ"
      },
      "execution_count": 21,
      "outputs": []
    },
    {
      "cell_type": "code",
      "source": [
        "plt.plot(range(0, PAST), past_prices)\n",
        "plt.plot(range(PAST+1, PAST+FUTURE), future_prices)\n",
        "plt.title(\"Future 3 Months\")\n",
        "plt.xlabel(\"Day\")\n",
        "plt.ylabel('Price')\n",
        "plt.legend ([\"Past 60 dayas\", \"Future 3 Months\"])\n",
        "plt.show()"
      ],
      "metadata": {
        "colab": {
          "base_uri": "https://localhost:8080/",
          "height": 295
        },
        "id": "P-DXBdwhll86",
        "outputId": "3d394d79-2002-494c-f6d1-1f4d62296f3d"
      },
      "execution_count": 22,
      "outputs": [
        {
          "output_type": "display_data",
          "data": {
            "image/png": "[encoded data removed]",
            "text/plain": [
              "<Figure size 432x288 with 1 Axes>"
            ]
          },
          "metadata": {
            "needs_background": "light"
          }
        }
      ]
    },
    {
      "cell_type": "markdown",
      "source": [
        "## Past = 90"
      ],
      "metadata": {
        "id": "HZ0WZB8xsZVa"
      }
    },
    {
      "cell_type": "code",
      "source": [
        "PAST = 90"
      ],
      "metadata": {
        "id": "hNKgom1Um9eZ"
      },
      "execution_count": 23,
      "outputs": []
    },
    {
      "cell_type": "code",
      "source": [
        "x_train, y_train = create_train_set(train_data, PAST)\n",
        "x_val, y_val = create_val_set(val_data, train_data, PAST)\n",
        "\n",
        "print(\"x_train shape:\", x_train.shape)\n",
        "print(\"y_train shape:\", y_train.shape)\n",
        "print(\"x_val shape:\", x_val.shape)\n",
        "print(\"y_val shape:\", y_val.shape)"
      ],
      "metadata": {
        "colab": {
          "base_uri": "https://localhost:8080/"
        },
        "id": "4xsTtTIptBSM",
        "outputId": "a7ec3611-04a3-4b19-884d-19c168d9767f"
      },
      "execution_count": 24,
      "outputs": [
        {
          "output_type": "stream",
          "name": "stdout",
          "text": [
            "x_train shape: (2452, 90, 1)\n",
            "y_train shape: (2452,)\n",
            "x_val shape: (115, 90, 1)\n",
            "y_val shape: (115,)\n"
          ]
        }
      ]
    },
    {
      "cell_type": "code",
      "source": [
        "input_shape = (PAST, 1)\n",
        "model = model_factory(input_shape)\n",
        "model.summary()"
      ],
      "metadata": {
        "colab": {
          "base_uri": "https://localhost:8080/"
        },
        "id": "c65oYqZgtD_S",
        "outputId": "203379a9-66fc-409c-da6a-204851c21d86"
      },
      "execution_count": 25,
      "outputs": [
        {
          "output_type": "stream",
          "name": "stdout",
          "text": [
            "Model: \"model_1\"\n",
            "_________________________________________________________________\n",
            " Layer (type)                Output Shape              Param #   \n",
            "=================================================================\n",
            " input_2 (InputLayer)        [(None, 90, 1)]           0         \n",
            "                                                                 \n",
            " lstm_4 (LSTM)               (None, 90, 50)            10400     \n",
            "                                                                 \n",
            " dropout_3 (Dropout)         (None, 90, 50)            0         \n",
            "                                                                 \n",
            " lstm_5 (LSTM)               (None, 90, 50)            20200     \n",
            "                                                                 \n",
            " dropout_4 (Dropout)         (None, 90, 50)            0         \n",
            "                                                                 \n",
            " lstm_6 (LSTM)               (None, 90, 50)            20200     \n",
            "                                                                 \n",
            " dropout_5 (Dropout)         (None, 90, 50)            0         \n",
            "                                                                 \n",
            " lstm_7 (LSTM)               (None, 50)                20200     \n",
            "                                                                 \n",
            " dense_1 (Dense)             (None, 1)                 51        \n",
            "                                                                 \n",
            "=================================================================\n",
            "Total params: 71,051\n",
            "Trainable params: 71,051\n",
            "Non-trainable params: 0\n",
            "_________________________________________________________________\n"
          ]
        }
      ]
    },
    {
      "cell_type": "code",
      "source": [
        "history = model.fit(\n",
        "    x=x_train,\n",
        "    y=y_train,\n",
        "    validation_data=(x_val, y_val),\n",
        "    batch_size=BATCH_SIZE,\n",
        "    epochs=EPOCHS\n",
        ")"
      ],
      "metadata": {
        "colab": {
          "base_uri": "https://localhost:8080/"
        },
        "id": "XmszOnRftHOE",
        "outputId": "c2fc0e98-b190-4d72-968f-a6b89803c833"
      },
      "execution_count": 26,
      "outputs": [
        {
          "output_type": "stream",
          "name": "stdout",
          "text": [
            "Epoch 1/100\n",
            "77/77 [==============================] - 15s 107ms/step - loss: 0.0045 - val_loss: 0.0844\n",
            "Epoch 2/100\n",
            "77/77 [==============================] - 7s 86ms/step - loss: 0.0019 - val_loss: 0.0665\n",
            "Epoch 3/100\n",
            "77/77 [==============================] - 7s 87ms/step - loss: 0.0012 - val_loss: 0.0539\n",
            "Epoch 4/100\n",
            "77/77 [==============================] - 7s 86ms/step - loss: 0.0014 - val_loss: 0.0419\n",
            "Epoch 5/100\n",
            "77/77 [==============================] - 7s 86ms/step - loss: 0.0013 - val_loss: 0.0433\n",
            "Epoch 6/100\n",
            "77/77 [==============================] - 7s 87ms/step - loss: 9.5916e-04 - val_loss: 0.0464\n",
            "Epoch 7/100\n",
            "77/77 [==============================] - 7s 86ms/step - loss: 0.0010 - val_loss: 0.0442\n",
            "Epoch 8/100\n",
            "77/77 [==============================] - 7s 86ms/step - loss: 8.7150e-04 - val_loss: 0.0300\n",
            "Epoch 9/100\n",
            "77/77 [==============================] - 7s 86ms/step - loss: 8.1027e-04 - val_loss: 0.0295\n",
            "Epoch 10/100\n",
            "77/77 [==============================] - 7s 86ms/step - loss: 7.4029e-04 - val_loss: 0.0268\n",
            "Epoch 11/100\n",
            "77/77 [==============================] - 7s 86ms/step - loss: 8.7838e-04 - val_loss: 0.0269\n",
            "Epoch 12/100\n",
            "77/77 [==============================] - 7s 86ms/step - loss: 6.8205e-04 - val_loss: 0.0227\n",
            "Epoch 13/100\n",
            "77/77 [==============================] - 7s 87ms/step - loss: 7.2213e-04 - val_loss: 0.0216\n",
            "Epoch 14/100\n",
            "77/77 [==============================] - 7s 87ms/step - loss: 6.1770e-04 - val_loss: 0.0218\n",
            "Epoch 15/100\n",
            "77/77 [==============================] - 7s 87ms/step - loss: 9.7182e-04 - val_loss: 0.0252\n",
            "Epoch 16/100\n",
            "77/77 [==============================] - 7s 86ms/step - loss: 7.6689e-04 - val_loss: 0.0341\n",
            "Epoch 17/100\n",
            "77/77 [==============================] - 7s 87ms/step - loss: 6.8039e-04 - val_loss: 0.0192\n",
            "Epoch 18/100\n",
            "77/77 [==============================] - 7s 87ms/step - loss: 6.6739e-04 - val_loss: 0.0189\n",
            "Epoch 19/100\n",
            "77/77 [==============================] - 7s 87ms/step - loss: 4.9010e-04 - val_loss: 0.0180\n",
            "Epoch 20/100\n",
            "77/77 [==============================] - 7s 87ms/step - loss: 5.8956e-04 - val_loss: 0.0166\n",
            "Epoch 21/100\n",
            "77/77 [==============================] - 7s 87ms/step - loss: 6.4780e-04 - val_loss: 0.0171\n",
            "Epoch 22/100\n",
            "77/77 [==============================] - 7s 86ms/step - loss: 5.2072e-04 - val_loss: 0.0165\n",
            "Epoch 23/100\n",
            "77/77 [==============================] - 7s 87ms/step - loss: 5.1764e-04 - val_loss: 0.0153\n",
            "Epoch 24/100\n",
            "77/77 [==============================] - 7s 87ms/step - loss: 4.2911e-04 - val_loss: 0.0200\n",
            "Epoch 25/100\n",
            "77/77 [==============================] - 7s 86ms/step - loss: 5.2726e-04 - val_loss: 0.0169\n",
            "Epoch 26/100\n",
            "77/77 [==============================] - 7s 86ms/step - loss: 5.2913e-04 - val_loss: 0.0149\n",
            "Epoch 27/100\n",
            "77/77 [==============================] - 7s 86ms/step - loss: 4.7492e-04 - val_loss: 0.0158\n",
            "Epoch 28/100\n",
            "77/77 [==============================] - 7s 87ms/step - loss: 4.3129e-04 - val_loss: 0.0136\n",
            "Epoch 29/100\n",
            "77/77 [==============================] - 7s 86ms/step - loss: 4.4413e-04 - val_loss: 0.0140\n",
            "Epoch 30/100\n",
            "77/77 [==============================] - 7s 86ms/step - loss: 4.3389e-04 - val_loss: 0.0126\n",
            "Epoch 31/100\n",
            "77/77 [==============================] - 7s 86ms/step - loss: 4.5846e-04 - val_loss: 0.0175\n",
            "Epoch 32/100\n",
            "77/77 [==============================] - 7s 86ms/step - loss: 4.7019e-04 - val_loss: 0.0125\n",
            "Epoch 33/100\n",
            "77/77 [==============================] - 7s 86ms/step - loss: 4.2461e-04 - val_loss: 0.0135\n",
            "Epoch 34/100\n",
            "77/77 [==============================] - 7s 86ms/step - loss: 4.4093e-04 - val_loss: 0.0134\n",
            "Epoch 35/100\n",
            "77/77 [==============================] - 7s 86ms/step - loss: 5.1251e-04 - val_loss: 0.0124\n",
            "Epoch 36/100\n",
            "77/77 [==============================] - 7s 86ms/step - loss: 4.7579e-04 - val_loss: 0.0117\n",
            "Epoch 37/100\n",
            "77/77 [==============================] - 7s 87ms/step - loss: 4.9471e-04 - val_loss: 0.0115\n",
            "Epoch 38/100\n",
            "77/77 [==============================] - 7s 86ms/step - loss: 3.9341e-04 - val_loss: 0.0121\n",
            "Epoch 39/100\n",
            "77/77 [==============================] - 7s 86ms/step - loss: 4.2731e-04 - val_loss: 0.0119\n",
            "Epoch 40/100\n",
            "77/77 [==============================] - 7s 86ms/step - loss: 3.9755e-04 - val_loss: 0.0146\n",
            "Epoch 41/100\n",
            "77/77 [==============================] - 7s 87ms/step - loss: 4.3190e-04 - val_loss: 0.0105\n",
            "Epoch 42/100\n",
            "77/77 [==============================] - 7s 87ms/step - loss: 4.4850e-04 - val_loss: 0.0112\n",
            "Epoch 43/100\n",
            "77/77 [==============================] - 7s 86ms/step - loss: 4.0912e-04 - val_loss: 0.0107\n",
            "Epoch 44/100\n",
            "77/77 [==============================] - 7s 87ms/step - loss: 3.8181e-04 - val_loss: 0.0101\n",
            "Epoch 45/100\n",
            "77/77 [==============================] - 7s 86ms/step - loss: 3.5400e-04 - val_loss: 0.0107\n",
            "Epoch 46/100\n",
            "77/77 [==============================] - 7s 86ms/step - loss: 3.5879e-04 - val_loss: 0.0123\n",
            "Epoch 47/100\n",
            "77/77 [==============================] - 7s 87ms/step - loss: 5.0237e-04 - val_loss: 0.0109\n",
            "Epoch 48/100\n",
            "77/77 [==============================] - 7s 86ms/step - loss: 4.7690e-04 - val_loss: 0.0122\n",
            "Epoch 49/100\n",
            "77/77 [==============================] - 7s 87ms/step - loss: 3.8668e-04 - val_loss: 0.0114\n",
            "Epoch 50/100\n",
            "77/77 [==============================] - 7s 86ms/step - loss: 3.3224e-04 - val_loss: 0.0099\n",
            "Epoch 51/100\n",
            "77/77 [==============================] - 7s 86ms/step - loss: 3.1865e-04 - val_loss: 0.0097\n",
            "Epoch 52/100\n",
            "77/77 [==============================] - 7s 86ms/step - loss: 3.8170e-04 - val_loss: 0.0096\n",
            "Epoch 53/100\n",
            "77/77 [==============================] - 7s 86ms/step - loss: 4.4389e-04 - val_loss: 0.0101\n",
            "Epoch 54/100\n",
            "77/77 [==============================] - 7s 86ms/step - loss: 4.5158e-04 - val_loss: 0.0097\n",
            "Epoch 55/100\n",
            "77/77 [==============================] - 7s 86ms/step - loss: 3.7122e-04 - val_loss: 0.0099\n",
            "Epoch 56/100\n",
            "77/77 [==============================] - 7s 86ms/step - loss: 3.3639e-04 - val_loss: 0.0095\n",
            "Epoch 57/100\n",
            "77/77 [==============================] - 7s 86ms/step - loss: 3.8401e-04 - val_loss: 0.0100\n",
            "Epoch 58/100\n",
            "77/77 [==============================] - 7s 87ms/step - loss: 3.4130e-04 - val_loss: 0.0101\n",
            "Epoch 59/100\n",
            "77/77 [==============================] - 7s 87ms/step - loss: 3.3744e-04 - val_loss: 0.0102\n",
            "Epoch 60/100\n",
            "77/77 [==============================] - 7s 87ms/step - loss: 3.0714e-04 - val_loss: 0.0094\n",
            "Epoch 61/100\n",
            "77/77 [==============================] - 7s 87ms/step - loss: 2.9180e-04 - val_loss: 0.0090\n",
            "Epoch 62/100\n",
            "77/77 [==============================] - 7s 87ms/step - loss: 2.8952e-04 - val_loss: 0.0093\n",
            "Epoch 63/100\n",
            "77/77 [==============================] - 7s 87ms/step - loss: 3.4012e-04 - val_loss: 0.0090\n",
            "Epoch 64/100\n",
            "77/77 [==============================] - 7s 87ms/step - loss: 3.1549e-04 - val_loss: 0.0095\n",
            "Epoch 65/100\n",
            "77/77 [==============================] - 7s 87ms/step - loss: 3.1906e-04 - val_loss: 0.0090\n",
            "Epoch 66/100\n",
            "77/77 [==============================] - 7s 87ms/step - loss: 3.2972e-04 - val_loss: 0.0087\n",
            "Epoch 67/100\n",
            "77/77 [==============================] - 7s 87ms/step - loss: 3.5839e-04 - val_loss: 0.0095\n",
            "Epoch 68/100\n",
            "77/77 [==============================] - 7s 87ms/step - loss: 3.3083e-04 - val_loss: 0.0085\n",
            "Epoch 69/100\n",
            "77/77 [==============================] - 7s 87ms/step - loss: 2.7872e-04 - val_loss: 0.0094\n",
            "Epoch 70/100\n",
            "77/77 [==============================] - 7s 86ms/step - loss: 3.1309e-04 - val_loss: 0.0090\n",
            "Epoch 71/100\n",
            "77/77 [==============================] - 7s 87ms/step - loss: 2.9943e-04 - val_loss: 0.0091\n",
            "Epoch 72/100\n",
            "77/77 [==============================] - 7s 87ms/step - loss: 3.1288e-04 - val_loss: 0.0088\n",
            "Epoch 73/100\n",
            "77/77 [==============================] - 7s 87ms/step - loss: 2.8139e-04 - val_loss: 0.0085\n",
            "Epoch 74/100\n",
            "77/77 [==============================] - 7s 86ms/step - loss: 2.9363e-04 - val_loss: 0.0093\n",
            "Epoch 75/100\n",
            "77/77 [==============================] - 7s 86ms/step - loss: 2.9107e-04 - val_loss: 0.0087\n",
            "Epoch 76/100\n",
            "77/77 [==============================] - 7s 87ms/step - loss: 2.6835e-04 - val_loss: 0.0085\n",
            "Epoch 77/100\n",
            "77/77 [==============================] - 7s 87ms/step - loss: 2.8489e-04 - val_loss: 0.0085\n",
            "Epoch 78/100\n",
            "77/77 [==============================] - 7s 87ms/step - loss: 2.7263e-04 - val_loss: 0.0084\n",
            "Epoch 79/100\n",
            "77/77 [==============================] - 7s 86ms/step - loss: 2.5954e-04 - val_loss: 0.0090\n",
            "Epoch 80/100\n",
            "77/77 [==============================] - 7s 87ms/step - loss: 3.1905e-04 - val_loss: 0.0089\n",
            "Epoch 81/100\n",
            "77/77 [==============================] - 7s 87ms/step - loss: 2.7713e-04 - val_loss: 0.0084\n",
            "Epoch 82/100\n",
            "77/77 [==============================] - 7s 87ms/step - loss: 3.1052e-04 - val_loss: 0.0086\n",
            "Epoch 83/100\n",
            "77/77 [==============================] - 7s 87ms/step - loss: 2.4445e-04 - val_loss: 0.0090\n",
            "Epoch 84/100\n",
            "77/77 [==============================] - 7s 87ms/step - loss: 3.1878e-04 - val_loss: 0.0092\n",
            "Epoch 85/100\n",
            "77/77 [==============================] - 7s 87ms/step - loss: 3.0865e-04 - val_loss: 0.0094\n",
            "Epoch 86/100\n",
            "77/77 [==============================] - 7s 87ms/step - loss: 3.1400e-04 - val_loss: 0.0090\n",
            "Epoch 87/100\n",
            "77/77 [==============================] - 7s 87ms/step - loss: 3.0272e-04 - val_loss: 0.0086\n",
            "Epoch 88/100\n",
            "77/77 [==============================] - 7s 87ms/step - loss: 2.6660e-04 - val_loss: 0.0087\n",
            "Epoch 89/100\n",
            "77/77 [==============================] - 7s 86ms/step - loss: 3.4874e-04 - val_loss: 0.0102\n",
            "Epoch 90/100\n",
            "77/77 [==============================] - 7s 86ms/step - loss: 2.6994e-04 - val_loss: 0.0083\n",
            "Epoch 91/100\n",
            "77/77 [==============================] - 7s 87ms/step - loss: 4.7975e-04 - val_loss: 0.0084\n",
            "Epoch 92/100\n",
            "77/77 [==============================] - 7s 87ms/step - loss: 2.4772e-04 - val_loss: 0.0085\n",
            "Epoch 93/100\n",
            "77/77 [==============================] - 7s 87ms/step - loss: 2.5239e-04 - val_loss: 0.0088\n",
            "Epoch 94/100\n",
            "77/77 [==============================] - 7s 87ms/step - loss: 2.4246e-04 - val_loss: 0.0081\n",
            "Epoch 95/100\n",
            "77/77 [==============================] - 7s 87ms/step - loss: 2.5543e-04 - val_loss: 0.0089\n",
            "Epoch 96/100\n",
            "77/77 [==============================] - 7s 87ms/step - loss: 2.8809e-04 - val_loss: 0.0080\n",
            "Epoch 97/100\n",
            "77/77 [==============================] - 7s 87ms/step - loss: 3.1094e-04 - val_loss: 0.0085\n",
            "Epoch 98/100\n",
            "77/77 [==============================] - 7s 87ms/step - loss: 2.8477e-04 - val_loss: 0.0085\n",
            "Epoch 99/100\n",
            "77/77 [==============================] - 7s 87ms/step - loss: 3.1198e-04 - val_loss: 0.0091\n",
            "Epoch 100/100\n",
            "77/77 [==============================] - 7s 87ms/step - loss: 2.9027e-04 - val_loss: 0.0083\n"
          ]
        }
      ]
    },
    {
      "cell_type": "code",
      "source": [
        "plot_results(\n",
        "    title=f\"Past Values: {PAST}\",\n",
        "    loss=history.history[\"loss\"],\n",
        "    val_loss=history.history[\"val_loss\"],\n",
        ")"
      ],
      "metadata": {
        "colab": {
          "base_uri": "https://localhost:8080/",
          "height": 287
        },
        "id": "YdT-8KcZtLsM",
        "outputId": "b9fcd0ba-7cfd-4d49-8665-91511df1ec3c"
      },
      "execution_count": 27,
      "outputs": [
        {
          "output_type": "display_data",
          "data": {
            "image/png": "[encoded data removed]",
            "text/plain": [
              "<Figure size 432x288 with 1 Axes>"
            ]
          },
          "metadata": {
            "needs_background": "light"
          }
        }
      ]
    },
    {
      "cell_type": "code",
      "source": [
        "# Train predictions\n",
        "plot_predictions(\n",
        "    model,\n",
        "    scaler,\n",
        "    x_train,\n",
        "    y_train,\n",
        "    title=f\"Train | Past Values: {PAST}\"\n",
        ")"
      ],
      "metadata": {
        "colab": {
          "base_uri": "https://localhost:8080/",
          "height": 281
        },
        "id": "7oxYeNzZtQs9",
        "outputId": "cb3f1e1f-fa81-440e-9d19-4d272f638101"
      },
      "execution_count": 28,
      "outputs": [
        {
          "output_type": "display_data",
          "data": {
            "image/png": "[encoded data removed]",
            "text/plain": [
              "<Figure size 432x288 with 1 Axes>"
            ]
          },
          "metadata": {
            "needs_background": "light"
          }
        }
      ]
    },
    {
      "cell_type": "code",
      "source": [
        "# Test predictions\n",
        "plot_predictions(\n",
        "    model,\n",
        "    scaler,\n",
        "    x_val,\n",
        "    y_val,\n",
        "    title=f\"Val | Past Values: {PAST}\"\n",
        ")"
      ],
      "metadata": {
        "colab": {
          "base_uri": "https://localhost:8080/",
          "height": 281
        },
        "id": "8ZPCHYERtS8h",
        "outputId": "ab25bdd4-f1b6-4afd-ee90-ac102edc1289"
      },
      "execution_count": 29,
      "outputs": [
        {
          "output_type": "display_data",
          "data": {
            "image/png": "[encoded data removed]",
            "text/plain": [
              "<Figure size 432x288 with 1 Axes>"
            ]
          },
          "metadata": {
            "needs_background": "light"
          }
        }
      ]
    },
    {
      "cell_type": "code",
      "source": [
        "n_val = val_data.shape[0]\n",
        "test_data = np.concatenate((val_data[n_val-PAST:], np.zeros((FUTURE, 1))))\n",
        "\n",
        "for i in range(PAST, FUTURE + PAST):\n",
        "    batch = test_data[i-PAST:i].T\n",
        "    batch = np.expand_dims(batch, axis=2)\n",
        "    prediction = model.predict(batch)\n",
        "    test_data[i] = np.squeeze(prediction)\n",
        "\n",
        "test_data = scaler.inverse_transform(test_data)\n",
        "past_prices = test_data[:PAST]\n",
        "future_prices = test_data[PAST+1:]"
      ],
      "metadata": {
        "id": "MzmZI5gotX0c"
      },
      "execution_count": 30,
      "outputs": []
    },
    {
      "cell_type": "code",
      "source": [
        "plt.plot(range(0, PAST), past_prices)\n",
        "plt.plot(range(PAST+1, PAST+FUTURE), future_prices)\n",
        "plt.title(\"Future 3 Months\")\n",
        "plt.xlabel(\"Day\")\n",
        "plt.ylabel('Price')\n",
        "plt.legend ([\"Past 60 dayas\", \"Future 3 Months\"])\n",
        "plt.show()"
      ],
      "metadata": {
        "colab": {
          "base_uri": "https://localhost:8080/",
          "height": 295
        },
        "id": "odbXc4pCtZfS",
        "outputId": "f1870569-c6cd-4c0c-b446-f815b97e1cf4"
      },
      "execution_count": 31,
      "outputs": [
        {
          "output_type": "display_data",
          "data": {
            "image/png": "[encoded data removed]",
            "text/plain": [
              "<Figure size 432x288 with 1 Axes>"
            ]
          },
          "metadata": {
            "needs_background": "light"
          }
        }
      ]
    },
    {
      "cell_type": "code",
      "source": [
        ""
      ],
      "metadata": {
        "id": "0zSNV5pr5UgV"
      },
      "execution_count": 31,
      "outputs": []
    }
  ]
}