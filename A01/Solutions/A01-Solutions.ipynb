{
  "nbformat": 4,
  "nbformat_minor": 0,
  "metadata": {
    "colab": {
      "name": "HW1.ipynb",
      "provenance": [],
      "collapsed_sections": []
    },
    "kernelspec": {
      "name": "python3",
      "display_name": "Python 3"
    },
    "language_info": {
      "name": "python"
    }
  },
  "cells": [
    {
      "cell_type": "markdown",
      "metadata": {
        "id": "sVArX-pF20X3"
      },
      "source": [
        "## Naive Bayes Classifier"
      ]
    },
    {
      "cell_type": "code",
      "metadata": {
        "id": "tdhir6pi5PXh"
      },
      "source": [
        "import numpy as np"
      ],
      "execution_count": 594,
      "outputs": []
    },
    {
      "cell_type": "code",
      "metadata": {
        "id": "0KvXXNxRLnWK"
      },
      "source": [
        "def separate_classes(X, Y):\n",
        "  separated_classes = {}\n",
        "  samples = X.shape[0]\n",
        "  for sample_idx in range(samples):\n",
        "    sample_features = X[sample_idx]\n",
        "    sample_class = np.argmax(Y[sample_idx], axis=0)\n",
        "    if sample_class not in separated_classes:\n",
        "      separated_classes[sample_class] = []\n",
        "    separated_classes[sample_class].append(sample_features)\n",
        "  return separated_classes"
      ],
      "execution_count": 595,
      "outputs": []
    },
    {
      "cell_type": "code",
      "metadata": {
        "id": "TRA_9KBjWJd4"
      },
      "source": [
        "def classes_info(X, samples):\n",
        "  info = {}\n",
        "  for key in X:\n",
        "    prob = len(X[key]) / samples\n",
        "    mean = np.mean(X[key], axis=0)\n",
        "    var = np.var(X[key], ddof=1, axis=0)\n",
        "    info[key] = {'prob': prob, 'mean': mean, 'var': var}\n",
        "  return info"
      ],
      "execution_count": 596,
      "outputs": []
    },
    {
      "cell_type": "code",
      "metadata": {
        "id": "L0tFGVVOSApR"
      },
      "source": [
        "def fit(X, Y):\n",
        "  samples = X.shape[0]\n",
        "  separated_classes = separate_classes(X, Y)\n",
        "  info = classes_info(separated_classes, samples)\n",
        "  return info"
      ],
      "execution_count": 597,
      "outputs": []
    },
    {
      "cell_type": "code",
      "metadata": {
        "id": "a3860YKxe4sl"
      },
      "source": [
        "def gaussian_distribution(X, mean, var):\n",
        "  exponent = np.exp(-((X - mean) ** 2 / (2 * var)))\n",
        "  gd = exponent / (np.sqrt(2 * np.pi * var))\n",
        "  return np.nan_to_num(gd, copy=False, nan=1.0)"
      ],
      "execution_count": 598,
      "outputs": []
    },
    {
      "cell_type": "code",
      "metadata": {
        "id": "ZD12z3zyZE2l"
      },
      "source": [
        "def predict(X_train, Y_train, X_test):\n",
        "  classes = Y_train.shape[1]\n",
        "  test_size = X_test.shape[0]\n",
        "  posteriors_numerator = []\n",
        "\n",
        "  info = fit(X_train, Y_train)\n",
        "  \n",
        "  mean = np.array([])\n",
        "  for i in range(classes):\n",
        "    prob = info[i]['prob']\n",
        "    mean = info[i]['mean']\n",
        "    var = info[i]['var']\n",
        "    gd = gaussian_distribution(X_test, mean, var)\n",
        "    posteriors_numerator.append(np.prod(gd, axis=1) * prob)\n",
        "\n",
        "  posteriors_numerator = np.array(posteriors_numerator).T\n",
        "  return posteriors_numerator"
      ],
      "execution_count": 599,
      "outputs": []
    },
    {
      "cell_type": "code",
      "metadata": {
        "id": "wQkm9MZn3qMr"
      },
      "source": [
        "def normalize(posteriors_numerator):\n",
        "  posteriors = posteriors_numerator / np.sum(posteriors_numerator, axis=1, keepdims=True)\n",
        "  return posteriors"
      ],
      "execution_count": 600,
      "outputs": []
    },
    {
      "cell_type": "code",
      "metadata": {
        "id": "sd3nHz1OGtuE"
      },
      "source": [
        "def accuracy(Y_real, Y_predict):\n",
        "  mask = np.equal(Y_real, Y_predict)\n",
        "  size = np.size(mask)\n",
        "  correct = np.count_nonzero(mask)\n",
        "  return correct / size"
      ],
      "execution_count": 601,
      "outputs": []
    },
    {
      "cell_type": "markdown",
      "metadata": {
        "id": "36AIW4ER3W8x"
      },
      "source": [
        "## Train on slide male and female example"
      ]
    },
    {
      "cell_type": "code",
      "metadata": {
        "colab": {
          "base_uri": "https://localhost:8080/"
        },
        "id": "lCSdV3z4kABC",
        "outputId": "ce3cd815-0ef8-4cb9-966d-09ec7e847bb3"
      },
      "source": [
        "X_train = np.array([[6, 180, 12],\n",
        "              [5.92, 190, 11],\n",
        "              [5.58, 170, 12],\n",
        "              [5.92, 165, 10],\n",
        "              [5, 100, 6],\n",
        "              [5.5, 150, 8],\n",
        "              [5.42, 130, 7],\n",
        "              [5.75, 150, 9]])\n",
        "\n",
        "# one-hot represenatation: male, female\n",
        "Y_train = np.array([[1.0, 0.0],\n",
        "                    [1.0, 0.0],\n",
        "                    [1.0, 0.0],\n",
        "                    [1.0, 0.0],\n",
        "                    [0.0, 1.0],\n",
        "                    [0.0, 1.0],\n",
        "                    [0.0, 1.0],\n",
        "                    [0.0, 1.0]])\n",
        "\n",
        "X_test = np.array([[6, 130, 8]])\n",
        "\n",
        "def onehot_to_class(result):\n",
        "  text = \"\"\n",
        "  if result == 0:\n",
        "      text = \"male\"\n",
        "  elif result == 1:\n",
        "      text = \"female\"\n",
        "  return text\n",
        "\n",
        "print(X_train.shape)\n",
        "print(Y_train.shape)\n",
        "print(X_test.shape)"
      ],
      "execution_count": 602,
      "outputs": [
        {
          "output_type": "stream",
          "name": "stdout",
          "text": [
            "(8, 3)\n",
            "(8, 2)\n",
            "(1, 3)\n"
          ]
        }
      ]
    },
    {
      "cell_type": "code",
      "metadata": {
        "colab": {
          "base_uri": "https://localhost:8080/"
        },
        "id": "rK1DDorE3zq6",
        "outputId": "a8ee0a73-c190-474f-dd3b-e1c53bac3e1a"
      },
      "source": [
        "posteriors_numerator = predict(X_train, Y_train, X_test)\n",
        "posteriors = normalize(posteriors_numerator)\n",
        "\n",
        "print(\"Posteriors Numerator\")\n",
        "print(posteriors_numerator)\n",
        "print()\n",
        "\n",
        "print(\"Posteriors\")\n",
        "print(posteriors)\n",
        "print()\n",
        "\n",
        "predicted_class = np.argmax(posteriors, axis=1)\n",
        "vfunc = np.vectorize(onehot_to_class)\n",
        "print(vfunc(predicted_class))"
      ],
      "execution_count": 603,
      "outputs": [
        {
          "output_type": "stream",
          "name": "stdout",
          "text": [
            "Posteriors Numerator\n",
            "[[6.19707184e-09 5.37790918e-04]]\n",
            "\n",
            "Posteriors\n",
            "[[1.15230663e-05 9.99988477e-01]]\n",
            "\n",
            "['female']\n"
          ]
        }
      ]
    },
    {
      "cell_type": "markdown",
      "metadata": {
        "id": "RnY7QKkw3LTj"
      },
      "source": [
        "## Q2"
      ]
    },
    {
      "cell_type": "code",
      "metadata": {
        "colab": {
          "base_uri": "https://localhost:8080/"
        },
        "id": "rc3uqH2L6D3C",
        "outputId": "e830d3f3-03a2-4fa8-ae02-020265fc74b7"
      },
      "source": [
        "X_train = np.array([[0.0, 0.0, 1.0],\n",
        "              [0.0, 1.0, 1.0],\n",
        "              [0.0, 1.0, 1.0],\n",
        "              [1.0, 1.0, 0.0],\n",
        "              [0.0, 1.0, 0.0],\n",
        "              [0.0, 1.0, 1.0],\n",
        "              [1.0, 0.0, 0.0],\n",
        "              [1.0, 1.0, 0.0],\n",
        "              [1.0, 0.0, 1.0],\n",
        "              [1.0, 0.0, 0.0]])\n",
        "\n",
        "# one-hot represenatation: spam, not spam\n",
        "Y_train = np.array([[1.0, 0.0],\n",
        "                    [1.0, 0.0],\n",
        "                    [1.0, 0.0],\n",
        "                    [1.0, 0.0],\n",
        "                    [1.0, 0.0],\n",
        "                    [1.0, 0.0],\n",
        "                    [0.0, 1.0],\n",
        "                    [0.0, 1.0],\n",
        "                    [0.0, 1.0],\n",
        "                    [0.0, 1.0]])\n",
        "\n",
        "X_test = np.array([[1.0, 1.0, 0.0],\n",
        "                   [1.0, 1.0, 1.0]])\n",
        "\n",
        "def onehot_to_class(result):\n",
        "  text = \"\"\n",
        "  if result == 0:\n",
        "      text = \"spam\"\n",
        "  elif result == 1:\n",
        "      text = \"not spam\"\n",
        "  return text\n",
        "\n",
        "print(X_train.shape)\n",
        "print(Y_train.shape)\n",
        "print(X_test.shape)"
      ],
      "execution_count": 604,
      "outputs": [
        {
          "output_type": "stream",
          "name": "stdout",
          "text": [
            "(10, 3)\n",
            "(10, 2)\n",
            "(2, 3)\n"
          ]
        }
      ]
    },
    {
      "cell_type": "code",
      "metadata": {
        "colab": {
          "base_uri": "https://localhost:8080/"
        },
        "id": "Dgs_uQTP1V4D",
        "outputId": "1f7e285b-f642-4ce4-8f02-272695bc2e6e"
      },
      "source": [
        "posteriors_numerator = predict(X_train, Y_train, X_test)\n",
        "posteriors = normalize(posteriors_numerator)\n",
        "\n",
        "print(\"Posteriors Numerator\")\n",
        "print(posteriors_numerator)\n",
        "print()\n",
        "\n",
        "print(\"Posteriors\")\n",
        "print(posteriors)\n",
        "print()\n",
        "\n",
        "predicted_class = np.argmax(posteriors, axis=1)\n",
        "vfunc = np.vectorize(onehot_to_class)\n",
        "print(vfunc(predicted_class))"
      ],
      "execution_count": 605,
      "outputs": [
        {
          "output_type": "stream",
          "name": "stdout",
          "text": [
            "Posteriors Numerator\n",
            "[[0.02203763 0.07295785]\n",
            " [0.04117171 0.02683969]]\n",
            "\n",
            "Posteriors\n",
            "[[0.2319861  0.7680139 ]\n",
            " [0.60536483 0.39463517]]\n",
            "\n",
            "['not spam' 'spam']\n"
          ]
        },
        {
          "output_type": "stream",
          "name": "stderr",
          "text": [
            "/usr/local/lib/python3.7/dist-packages/ipykernel_launcher.py:2: RuntimeWarning: invalid value encountered in true_divide\n",
            "  \n"
          ]
        }
      ]
    },
    {
      "cell_type": "markdown",
      "metadata": {
        "id": "LHNiDXeE3Rl_"
      },
      "source": [
        "## Q4"
      ]
    },
    {
      "cell_type": "code",
      "metadata": {
        "colab": {
          "base_uri": "https://localhost:8080/"
        },
        "id": "k6RAjlNqM3T-",
        "outputId": "34117b47-de0b-474a-e019-bbc543e24960"
      },
      "source": [
        "from sklearn import datasets\n",
        "iris = datasets.load_iris()\n",
        "\n",
        "X = iris.data\n",
        "Y_temp = iris.target\n",
        "\n",
        "Y = np.zeros((Y_temp.size, Y_temp.max() + 1))\n",
        "Y[np.arange(Y_temp.size), Y_temp] = 1\n",
        "\n",
        "print(X.shape)\n",
        "print(Y.shape)\n",
        "print(Y_temp)"
      ],
      "execution_count": 606,
      "outputs": [
        {
          "output_type": "stream",
          "name": "stdout",
          "text": [
            "(150, 4)\n",
            "(150, 3)\n",
            "[0 0 0 0 0 0 0 0 0 0 0 0 0 0 0 0 0 0 0 0 0 0 0 0 0 0 0 0 0 0 0 0 0 0 0 0 0\n",
            " 0 0 0 0 0 0 0 0 0 0 0 0 0 1 1 1 1 1 1 1 1 1 1 1 1 1 1 1 1 1 1 1 1 1 1 1 1\n",
            " 1 1 1 1 1 1 1 1 1 1 1 1 1 1 1 1 1 1 1 1 1 1 1 1 1 1 2 2 2 2 2 2 2 2 2 2 2\n",
            " 2 2 2 2 2 2 2 2 2 2 2 2 2 2 2 2 2 2 2 2 2 2 2 2 2 2 2 2 2 2 2 2 2 2 2 2 2\n",
            " 2 2]\n"
          ]
        }
      ]
    },
    {
      "cell_type": "code",
      "metadata": {
        "colab": {
          "base_uri": "https://localhost:8080/"
        },
        "id": "Ox0X3VBZDkMH",
        "outputId": "65d08c21-a7af-4565-9b5b-72c7d50acc31"
      },
      "source": [
        "posteriors_numerator = predict(X, Y, X)\n",
        "posteriors = normalize(posteriors_numerator)\n",
        "\n",
        "predicted_class = np.argmax(posteriors, axis=1)\n",
        "print(predicted_class)"
      ],
      "execution_count": 607,
      "outputs": [
        {
          "output_type": "stream",
          "name": "stdout",
          "text": [
            "[0 0 0 0 0 0 0 0 0 0 0 0 0 0 0 0 0 0 0 0 0 0 0 0 0 0 0 0 0 0 0 0 0 0 0 0 0\n",
            " 0 0 0 0 0 0 0 0 0 0 0 0 0 1 1 2 1 1 1 1 1 1 1 1 1 1 1 1 1 1 1 1 1 2 1 1 1\n",
            " 1 1 1 2 1 1 1 1 1 1 1 1 1 1 1 1 1 1 1 1 1 1 1 1 1 1 2 2 2 2 2 2 1 2 2 2 2\n",
            " 2 2 2 2 2 2 2 2 1 2 2 2 2 2 2 2 2 2 2 2 2 2 1 2 2 2 2 2 2 2 2 2 2 2 2 2 2\n",
            " 2 2]\n"
          ]
        }
      ]
    },
    {
      "cell_type": "code",
      "metadata": {
        "colab": {
          "base_uri": "https://localhost:8080/"
        },
        "id": "lcO79_xZF_rt",
        "outputId": "bbe58bf8-4fbf-49ac-cc05-612fa4297f44"
      },
      "source": [
        "acc = accuracy(Y_temp, predicted_class)\n",
        "print(\"Accuracy: {}%\".format(acc * 100))"
      ],
      "execution_count": 608,
      "outputs": [
        {
          "output_type": "stream",
          "name": "stdout",
          "text": [
            "Accuracy: 96.0%\n"
          ]
        }
      ]
    },
    {
      "cell_type": "markdown",
      "metadata": {
        "id": "MjytRj0uJASi"
      },
      "source": [
        "## Q3"
      ]
    },
    {
      "cell_type": "code",
      "metadata": {
        "id": "rmVRXOyDJD_x"
      },
      "source": [
        "from keras.datasets import cifar10\n",
        "(x_train, y_train), (x_test, y_test) = cifar10.load_data()"
      ],
      "execution_count": 609,
      "outputs": []
    },
    {
      "cell_type": "code",
      "metadata": {
        "colab": {
          "base_uri": "https://localhost:8080/"
        },
        "id": "wJDX_jtGW-NE",
        "outputId": "508d1d46-6301-4dcd-977c-f0eac63c276e"
      },
      "source": [
        "# Data Type\n",
        "print(x_train.dtype)\n",
        "print(y_train.dtype)\n",
        "print(x_test.dtype)\n",
        "print(y_test.dtype)"
      ],
      "execution_count": 610,
      "outputs": [
        {
          "output_type": "stream",
          "name": "stdout",
          "text": [
            "uint8\n",
            "uint8\n",
            "uint8\n",
            "uint8\n"
          ]
        }
      ]
    },
    {
      "cell_type": "code",
      "metadata": {
        "colab": {
          "base_uri": "https://localhost:8080/"
        },
        "id": "mfR2bk1nX6k8",
        "outputId": "bcef85f7-8ff8-4519-e2b1-6828a9aa8386"
      },
      "source": [
        "# Rank\n",
        "print(x_train.ndim)\n",
        "print(y_train.ndim)\n",
        "print(x_test.ndim)\n",
        "print(y_test.ndim)"
      ],
      "execution_count": 611,
      "outputs": [
        {
          "output_type": "stream",
          "name": "stdout",
          "text": [
            "4\n",
            "2\n",
            "4\n",
            "2\n"
          ]
        }
      ]
    },
    {
      "cell_type": "code",
      "metadata": {
        "colab": {
          "base_uri": "https://localhost:8080/"
        },
        "id": "V_1ouixeJWqo",
        "outputId": "b9508015-5bac-4292-bf6f-3dfccb1a120e"
      },
      "source": [
        "# Shape\n",
        "print(x_train.shape)\n",
        "print(y_train.shape)\n",
        "print(x_test.shape)\n",
        "print(y_test.shape)"
      ],
      "execution_count": 612,
      "outputs": [
        {
          "output_type": "stream",
          "name": "stdout",
          "text": [
            "(50000, 32, 32, 3)\n",
            "(50000, 1)\n",
            "(10000, 32, 32, 3)\n",
            "(10000, 1)\n"
          ]
        }
      ]
    }
  ]
}