{
  "nbformat": 4,
  "nbformat_minor": 0,
  "metadata": {
    "colab": {
      "name": "HW2.ipynb",
      "provenance": [],
      "collapsed_sections": []
    },
    "kernelspec": {
      "name": "python3",
      "display_name": "Python 3"
    },
    "language_info": {
      "name": "python"
    }
  },
  "cells": [
    {
      "cell_type": "markdown",
      "metadata": {
        "id": "RnY7QKkw3LTj"
      },
      "source": [
        "## Q2"
      ]
    },
    {
      "cell_type": "code",
      "metadata": {
        "id": "I0FsUMQRCKOU"
      },
      "source": [
        "import numpy as np\n",
        "import matplotlib.pyplot as plt\n",
        "np.random.seed(1)"
      ],
      "execution_count": 1,
      "outputs": []
    },
    {
      "cell_type": "code",
      "metadata": {
        "colab": {
          "base_uri": "https://localhost:8080/"
        },
        "id": "OONqnrZ-A9qh",
        "outputId": "84dcde74-a868-4573-f429-0c46b8e6d4bb"
      },
      "source": [
        "x_train = np.array([[2.3],\n",
        "                    [1.4],\n",
        "                    [2.6],\n",
        "                    [3.1],\n",
        "                    [1.8],\n",
        "                    [2.8],\n",
        "                    [5.4],\n",
        "                    [6.3],\n",
        "                    [5.8],\n",
        "                    [6.7],\n",
        "                    [4.9],\n",
        "                    [45.2]])\n",
        "\n",
        "# Normalize x_train\n",
        "x_train -= np.mean(x_train)\n",
        "x_train /= np.std(x_train)\n",
        "\n",
        "y_train = np.array([[0.0],\n",
        "                    [0.0],\n",
        "                    [0.0],\n",
        "                    [0.0],\n",
        "                    [0.0],\n",
        "                    [0.0],\n",
        "                    [1.0],\n",
        "                    [1.0],\n",
        "                    [1.0],\n",
        "                    [1.0],\n",
        "                    [1.0],\n",
        "                    [1.0]])\n",
        "\n",
        "print(x_train.shape)\n",
        "print(y_train.shape)"
      ],
      "execution_count": 2,
      "outputs": [
        {
          "output_type": "stream",
          "name": "stdout",
          "text": [
            "(12, 1)\n",
            "(12, 1)\n"
          ]
        }
      ]
    },
    {
      "cell_type": "code",
      "metadata": {
        "id": "oJt03fRNA5Tp"
      },
      "source": [
        "def linear(x, w, b):\n",
        "  return np.dot(x, w.T) + b\n",
        "\n",
        "def sigmoid(z):\n",
        "  return 1. / (1 + np.exp(-z))\n",
        "\n",
        "def predict(x, w, b, kind=\"logistic\"):\n",
        "  a = linear(x, w, b)\n",
        "  if kind == \"logistic\":\n",
        "    a = sigmoid(a)\n",
        "  return a\n",
        "\n",
        "def mse_loss(z, y):\n",
        "  m = y.shape[1]\n",
        "  loss = 1/2 * (z - y)**2\n",
        "  loss = (1 / m) * np.sum(loss)\n",
        "  return loss\n",
        "\n",
        "def crossentroy_loss(a, y):\n",
        "  m = y.shape[1]\n",
        "  loss = -1 * (y * np.log(a) + (1 - y) * np.log(1 - a))\n",
        "  loss = (1 / m) * np.sum(loss)\n",
        "  return loss\n",
        "\n",
        "def compute_loss(a, y, kind=\"logistic\"):\n",
        "  if kind == \"linear\":\n",
        "    return mse_loss(a, y)\n",
        "  return crossentroy_loss(a, y)\n",
        "\n",
        "def compute_accuracy(a, y):\n",
        "  return 100 - np.mean(np.abs(a - y)) * 100"
      ],
      "execution_count": 3,
      "outputs": []
    },
    {
      "cell_type": "code",
      "metadata": {
        "id": "ZWUoQxEHA7lB"
      },
      "source": [
        "def regression(x, y, learning_rate, epochs, iter_log, kind=\"logistic\"):\n",
        "  # Get dimensionals\n",
        "  m, feat = x.shape\n",
        "\n",
        "  w = np.random.randn(1, feat) * 0.01\n",
        "  b = np.random.randn() * 0.01\n",
        "  losses = []\n",
        "  accuracies = []\n",
        "  \n",
        "  # Batch Gradient Descent\n",
        "  for i in range(epochs):\n",
        "    # Forward pass\n",
        "    a = linear(x, w, b)\n",
        "\n",
        "    if kind == \"logistic\":\n",
        "      a = sigmoid(a)\n",
        "\n",
        "    loss = compute_loss(a, y, kind)\n",
        "    accuracy = compute_accuracy(a, y)\n",
        "\n",
        "    # Backward pass\n",
        "    difference = a - y\n",
        "    dw = difference * x\n",
        "    db = difference\n",
        "    dW = (1 / m) * np.sum(dw, axis=0)\n",
        "    dB = (1 / m) * np.sum(db, axis=0)\n",
        "  \n",
        "    # Update parameters\n",
        "    w -= learning_rate * dW\n",
        "    b -= learning_rate * dB\n",
        "\n",
        "    # Print cost and accuracy\n",
        "    if (not iter_log == 0) and (i % iter_log == 0 or i == epochs - 1):\n",
        "      print(f'Epoch: {i:3d}    Loss: {loss:4f}    Accuracy: {accuracy:4f}')\n",
        "\n",
        "    losses.append(loss)\n",
        "    accuracies.append(accuracy)\n",
        "\n",
        "  report = {\n",
        "      'losses': losses,\n",
        "      'accuracies': accuracies\n",
        "  }\n",
        "\n",
        "  return w, b, report"
      ],
      "execution_count": 4,
      "outputs": []
    },
    {
      "cell_type": "code",
      "metadata": {
        "id": "MPHqcvJwhX-H"
      },
      "source": [
        "LEARNING_RATE = 0.4\n",
        "EPOCHS = 500\n",
        "REPORT_MOD = 20"
      ],
      "execution_count": 5,
      "outputs": []
    },
    {
      "cell_type": "code",
      "metadata": {
        "colab": {
          "base_uri": "https://localhost:8080/"
        },
        "id": "8na9PDTdBAXl",
        "outputId": "22c43644-8601-4667-fcf0-111ba7491a06"
      },
      "source": [
        "KIND = \"linear\"\n",
        "w_lin, b_lin, report_lin = regression(x_train,\n",
        "                          y_train,\n",
        "                          LEARNING_RATE,\n",
        "                          EPOCHS,\n",
        "                          REPORT_MOD,\n",
        "                          kind=KIND)"
      ],
      "execution_count": 6,
      "outputs": [
        {
          "output_type": "stream",
          "name": "stdout",
          "text": [
            "Epoch:   0    Loss: 2.996092    Accuracy: 49.388244\n",
            "Epoch:  20    Loss: 1.215822    Accuracy: 55.917137\n",
            "Epoch:  40    Loss: 1.215822    Accuracy: 55.916747\n",
            "Epoch:  60    Loss: 1.215822    Accuracy: 55.916747\n",
            "Epoch:  80    Loss: 1.215822    Accuracy: 55.916747\n",
            "Epoch: 100    Loss: 1.215822    Accuracy: 55.916747\n",
            "Epoch: 120    Loss: 1.215822    Accuracy: 55.916747\n",
            "Epoch: 140    Loss: 1.215822    Accuracy: 55.916747\n",
            "Epoch: 160    Loss: 1.215822    Accuracy: 55.916747\n",
            "Epoch: 180    Loss: 1.215822    Accuracy: 55.916747\n",
            "Epoch: 200    Loss: 1.215822    Accuracy: 55.916747\n",
            "Epoch: 220    Loss: 1.215822    Accuracy: 55.916747\n",
            "Epoch: 240    Loss: 1.215822    Accuracy: 55.916747\n",
            "Epoch: 260    Loss: 1.215822    Accuracy: 55.916747\n",
            "Epoch: 280    Loss: 1.215822    Accuracy: 55.916747\n",
            "Epoch: 300    Loss: 1.215822    Accuracy: 55.916747\n",
            "Epoch: 320    Loss: 1.215822    Accuracy: 55.916747\n",
            "Epoch: 340    Loss: 1.215822    Accuracy: 55.916747\n",
            "Epoch: 360    Loss: 1.215822    Accuracy: 55.916747\n",
            "Epoch: 380    Loss: 1.215822    Accuracy: 55.916747\n",
            "Epoch: 400    Loss: 1.215822    Accuracy: 55.916747\n",
            "Epoch: 420    Loss: 1.215822    Accuracy: 55.916747\n",
            "Epoch: 440    Loss: 1.215822    Accuracy: 55.916747\n",
            "Epoch: 460    Loss: 1.215822    Accuracy: 55.916747\n",
            "Epoch: 480    Loss: 1.215822    Accuracy: 55.916747\n",
            "Epoch: 499    Loss: 1.215822    Accuracy: 55.916747\n"
          ]
        }
      ]
    },
    {
      "cell_type": "code",
      "metadata": {
        "colab": {
          "base_uri": "https://localhost:8080/",
          "height": 297
        },
        "id": "qwLynaSQq8aa",
        "outputId": "e45089f0-012f-4af6-a553-6582bf780fff"
      },
      "source": [
        "fig, (ax1, ax2) = plt.subplots(1, 2)\n",
        "fig.tight_layout(pad=3)\n",
        "fig.suptitle('Linear Regression')\n",
        "\n",
        "ax1.plot(report_lin['losses'])\n",
        "ax1.set_ylabel('Loss')\n",
        "ax1.set_xlabel('Epoch')\n",
        "\n",
        "ax2.plot(report_lin['accuracies'])\n",
        "ax2.set_ylabel('Accuracy')\n",
        "ax2.set_xlabel('Epoch')\n",
        "\n",
        "plt.show()"
      ],
      "execution_count": 7,
      "outputs": [
        {
          "output_type": "display_data",
          "data": {
            "image/png": "[encoded data removed]",
            "text/plain": [
              "<Figure size 432x288 with 2 Axes>"
            ]
          },
          "metadata": {
            "needs_background": "light"
          }
        }
      ]
    },
    {
      "cell_type": "code",
      "metadata": {
        "colab": {
          "base_uri": "https://localhost:8080/"
        },
        "id": "Xkdlu_8Vjgg6",
        "outputId": "f604d47b-849b-49cc-86b2-47ff45a31096"
      },
      "source": [
        "KIND = \"logistic\"\n",
        "w_log, b_log, report_log = regression(x_train,\n",
        "                          y_train,\n",
        "                          LEARNING_RATE,\n",
        "                          EPOCHS,\n",
        "                          REPORT_MOD,\n",
        "                          kind=KIND)"
      ],
      "execution_count": 8,
      "outputs": [
        {
          "output_type": "stream",
          "name": "stdout",
          "text": [
            "Epoch:   0    Loss: 8.331774    Accuracy: 49.942531\n",
            "Epoch:  20    Loss: 6.886894    Accuracy: 57.442581\n",
            "Epoch:  40    Loss: 6.478519    Accuracy: 59.477951\n",
            "Epoch:  60    Loss: 6.157606    Accuracy: 61.003621\n",
            "Epoch:  80    Loss: 5.870836    Accuracy: 62.387551\n",
            "Epoch: 100    Loss: 5.608130    Accuracy: 63.687499\n",
            "Epoch: 120    Loss: 5.365934    Accuracy: 64.916133\n",
            "Epoch: 140    Loss: 5.142072    Accuracy: 66.078265\n",
            "Epoch: 160    Loss: 4.934783    Accuracy: 67.177344\n",
            "Epoch: 180    Loss: 4.742521    Accuracy: 68.216640\n",
            "Epoch: 200    Loss: 4.563905    Accuracy: 69.199425\n",
            "Epoch: 220    Loss: 4.397690    Accuracy: 70.128949\n",
            "Epoch: 240    Loss: 4.242758    Accuracy: 71.008407\n",
            "Epoch: 260    Loss: 4.098103    Accuracy: 71.840889\n",
            "Epoch: 280    Loss: 3.962822    Accuracy: 72.629359\n",
            "Epoch: 300    Loss: 3.836104    Accuracy: 73.376637\n",
            "Epoch: 320    Loss: 3.717216    Accuracy: 74.085386\n",
            "Epoch: 340    Loss: 3.605504    Accuracy: 74.758111\n",
            "Epoch: 360    Loss: 3.500374    Accuracy: 75.397156\n",
            "Epoch: 380    Loss: 3.401294    Accuracy: 76.004711\n",
            "Epoch: 400    Loss: 3.307781    Accuracy: 76.582819\n",
            "Epoch: 420    Loss: 3.219401    Accuracy: 77.133375\n",
            "Epoch: 440    Loss: 3.135760    Accuracy: 77.658143\n",
            "Epoch: 460    Loss: 3.056501    Accuracy: 78.158760\n",
            "Epoch: 480    Loss: 2.981301    Accuracy: 78.636742\n",
            "Epoch: 499    Loss: 2.913351    Accuracy: 79.071144\n"
          ]
        }
      ]
    },
    {
      "cell_type": "code",
      "metadata": {
        "colab": {
          "base_uri": "https://localhost:8080/",
          "height": 297
        },
        "id": "4cJR3ayjnsAx",
        "outputId": "9fcd5f25-a15c-44f0-a164-28441f51371c"
      },
      "source": [
        "fig, (ax1, ax2) = plt.subplots(1, 2)\n",
        "fig.tight_layout(pad=3)\n",
        "fig.suptitle('Logistic Regression')\n",
        "\n",
        "ax1.plot(report_log['losses'])\n",
        "ax1.set_ylabel('Loss')\n",
        "ax1.set_xlabel('Epoch')\n",
        "\n",
        "ax2.plot(report_log['accuracies'])\n",
        "ax2.set_ylabel('Accuracy')\n",
        "ax2.set_xlabel('Epoch')\n",
        "\n",
        "plt.show()"
      ],
      "execution_count": 9,
      "outputs": [
        {
          "output_type": "display_data",
          "data": {
            "image/png": "[encoded data removed]",
            "text/plain": [
              "<Figure size 432x288 with 2 Axes>"
            ]
          },
          "metadata": {
            "needs_background": "light"
          }
        }
      ]
    },
    {
      "cell_type": "code",
      "metadata": {
        "colab": {
          "base_uri": "https://localhost:8080/",
          "height": 309
        },
        "id": "Fn-iWtHfmRVH",
        "outputId": "83d93cf0-7d30-4cf2-e5ff-c2cf7ac6386e"
      },
      "source": [
        "x_reg = np.arange(-3.0, 5.0, 0.1).reshape(-1, 1)\n",
        "y_reg_lin = predict(x_reg, w_lin, b_lin, kind=\"linear\")\n",
        "y_reg_log = predict(x_reg, w_log, b_log, kind=\"logistic\")\n",
        "\n",
        "fig, (ax1, ax2) = plt.subplots(1, 2)\n",
        "fig.tight_layout(w_pad=5)\n",
        "\n",
        "ax1.set_title(\"Linear Regression\")\n",
        "ax1.plot(x_train, y_train, 'o')\n",
        "ax1.plot(x_reg, y_reg_lin)\n",
        "\n",
        "ax2.set_title(\"Logistic Regression\")\n",
        "ax2.plot(x_train, y_train, 'o')\n",
        "ax2.plot(x_reg, y_reg_log)\n",
        "\n",
        "plt.show()"
      ],
      "execution_count": 10,
      "outputs": [
        {
          "output_type": "display_data",
          "data": {
            "image/png": "[encoded data removed]",
            "text/plain": [
              "<Figure size 432x288 with 2 Axes>"
            ]
          },
          "metadata": {
            "needs_background": "light"
          }
        }
      ]
    },
    {
      "cell_type": "markdown",
      "metadata": {
        "id": "LHNiDXeE3Rl_"
      },
      "source": [
        "## Q3"
      ]
    },
    {
      "cell_type": "code",
      "metadata": {
        "colab": {
          "base_uri": "https://localhost:8080/"
        },
        "id": "k6RAjlNqM3T-",
        "outputId": "a899e787-f72d-4cdc-b272-dc1512739898"
      },
      "source": [
        "import math\n",
        "from sklearn import datasets\n",
        "from sklearn.linear_model import LogisticRegression\n",
        "from sklearn.metrics import classification_report, confusion_matrix\n",
        "\n",
        "iris = datasets.load_iris()\n",
        "\n",
        "# Taking first 2 features\n",
        "X_total = iris.data[:, :2]\n",
        "Y_total = iris.target\n",
        "\n",
        "print(X_total.shape)\n",
        "print(Y_total.shape)"
      ],
      "execution_count": 11,
      "outputs": [
        {
          "output_type": "stream",
          "name": "stdout",
          "text": [
            "(150, 2)\n",
            "(150,)\n"
          ]
        }
      ]
    },
    {
      "cell_type": "code",
      "metadata": {
        "colab": {
          "base_uri": "https://localhost:8080/"
        },
        "id": "njv7-V58KRgc",
        "outputId": "a9f16a28-5ecf-48ef-a376-8cdcde2d3ec0"
      },
      "source": [
        "# Split dataset into train and test\n",
        "TRAIN_DATA_PERCENT = 70\n",
        "examples = X_total.shape[0]\n",
        "\n",
        "train_data_count = math.floor(examples * (TRAIN_DATA_PERCENT) / 100)\n",
        "test_data_count = examples - train_data_count\n",
        "\n",
        "# Shuffle all data in dataset. \n",
        "indexes = np.arange(examples)\n",
        "np.random.shuffle(indexes)\n",
        "X_total = X_total[indexes]\n",
        "Y_total = Y_total[indexes]\n",
        "\n",
        "# Split train and test data\n",
        "X_train = X_total[:train_data_count]\n",
        "Y_train = Y_total[:train_data_count]\n",
        "X_test = X_total[train_data_count:]\n",
        "Y_test = Y_total[train_data_count:]\n",
        "\n",
        "print(X_train.shape)\n",
        "print(Y_train.shape)\n",
        "print(X_test.shape)\n",
        "print(Y_test.shape)"
      ],
      "execution_count": 12,
      "outputs": [
        {
          "output_type": "stream",
          "name": "stdout",
          "text": [
            "(105, 2)\n",
            "(105,)\n",
            "(45, 2)\n",
            "(45,)\n"
          ]
        }
      ]
    },
    {
      "cell_type": "code",
      "metadata": {
        "colab": {
          "base_uri": "https://localhost:8080/"
        },
        "id": "UH2LO9g6LO_x",
        "outputId": "c113319f-ca90-4bca-831c-1365dad57837"
      },
      "source": [
        "# Create an instance of Logistic Regression Classifier and fit the data.\n",
        "logreg = LogisticRegression(C=1e5)\n",
        "logreg.fit(X_train, Y_train)"
      ],
      "execution_count": 13,
      "outputs": [
        {
          "output_type": "execute_result",
          "data": {
            "text/plain": [
              "LogisticRegression(C=100000.0, class_weight=None, dual=False,\n",
              "                   fit_intercept=True, intercept_scaling=1, l1_ratio=None,\n",
              "                   max_iter=100, multi_class='auto', n_jobs=None, penalty='l2',\n",
              "                   random_state=None, solver='lbfgs', tol=0.0001, verbose=0,\n",
              "                   warm_start=False)"
            ]
          },
          "metadata": {},
          "execution_count": 13
        }
      ]
    },
    {
      "cell_type": "code",
      "metadata": {
        "id": "h1B4qQz_PDm2"
      },
      "source": [
        "# Decision Boundary\n",
        "x_min, x_max = X_total[:, 0].min() - .5, X_total[:, 0].max() + .5\n",
        "y_min, y_max = X_total[:, 1].min() - .5, X_total[:, 1].max() + .5\n",
        "\n",
        "h = .02  # step size in the mesh\n",
        "\n",
        "xx, yy = np.meshgrid(np.arange(x_min, x_max, h), np.arange(y_min, y_max, h))\n",
        "Z = logreg.predict(np.c_[xx.ravel(), yy.ravel()])\n",
        "Z = Z.reshape(xx.shape)"
      ],
      "execution_count": 14,
      "outputs": []
    },
    {
      "cell_type": "code",
      "metadata": {
        "colab": {
          "base_uri": "https://localhost:8080/"
        },
        "id": "ozo7-z94GjJN",
        "outputId": "1222f3a4-e94d-47ee-f8d4-43b37b5f96ee"
      },
      "source": [
        "# Train Evaluation\n",
        "# logreg.predict_proba(X_train)\n",
        "train_pred = logreg.predict(X_train)\n",
        "train_acc = logreg.score(X_train, Y_train)\n",
        "print(\"Train Accuracy:\", train_acc)"
      ],
      "execution_count": 15,
      "outputs": [
        {
          "output_type": "stream",
          "name": "stdout",
          "text": [
            "Train Accuracy: 0.8476190476190476\n"
          ]
        }
      ]
    },
    {
      "cell_type": "code",
      "metadata": {
        "colab": {
          "base_uri": "https://localhost:8080/",
          "height": 224
        },
        "id": "WpVTmbQQOFv7",
        "outputId": "31fb9c05-6af9-488f-c14e-1ef4538e50c0"
      },
      "source": [
        "# Put the result into a color plot\n",
        "plt.figure(1, figsize=(4, 3))\n",
        "plt.pcolormesh(xx, yy, Z, cmap=plt.cm.Paired)\n",
        "\n",
        "# Plot also the training points\n",
        "plt.scatter(X_train[:, 0], X_train[:, 1], c=Y_train, edgecolors='k', cmap=plt.cm.Paired)\n",
        "plt.title(\"Train Data\")\n",
        "plt.xlabel('Sepal length')\n",
        "plt.ylabel('Sepal width')\n",
        "\n",
        "plt.xlim(xx.min(), xx.max())\n",
        "plt.ylim(yy.min(), yy.max())\n",
        "plt.xticks(())\n",
        "plt.yticks(())\n",
        "\n",
        "plt.show()"
      ],
      "execution_count": 16,
      "outputs": [
        {
          "output_type": "display_data",
          "data": {
            "image/png": "[encoded data removed]",
            "text/plain": [
              "<Figure size 288x216 with 1 Axes>"
            ]
          },
          "metadata": {}
        }
      ]
    },
    {
      "cell_type": "code",
      "metadata": {
        "colab": {
          "base_uri": "https://localhost:8080/"
        },
        "id": "5v7t1P8UME--",
        "outputId": "42e010b2-f31d-467e-e8e8-5ae52b94dd64"
      },
      "source": [
        "# Test Evaluation\n",
        "# logreg.predict_proba(X_train)\n",
        "test_pred = logreg.predict(X_test)\n",
        "test_acc = logreg.score(X_test, Y_test)\n",
        "print(\"Test Accuracy:\", test_acc)"
      ],
      "execution_count": 17,
      "outputs": [
        {
          "output_type": "stream",
          "name": "stdout",
          "text": [
            "Test Accuracy: 0.7333333333333333\n"
          ]
        }
      ]
    },
    {
      "cell_type": "code",
      "metadata": {
        "colab": {
          "base_uri": "https://localhost:8080/",
          "height": 224
        },
        "id": "yF6zohudOku8",
        "outputId": "976096a0-2bb1-4845-e4a5-3fdeb071a25d"
      },
      "source": [
        "# Put the result into a color plot\n",
        "plt.figure(1, figsize=(4, 3))\n",
        "plt.pcolormesh(xx, yy, Z, cmap=plt.cm.Paired)\n",
        "\n",
        "# Plot also the test points\n",
        "plt.scatter(X_test[:, 0], X_test[:, 1], c=Y_test, edgecolors='k', cmap=plt.cm.Paired)\n",
        "plt.title(\"Test Data\")\n",
        "plt.xlabel('Sepal length')\n",
        "plt.ylabel('Sepal width')\n",
        "\n",
        "plt.xlim(xx.min(), xx.max())\n",
        "plt.ylim(yy.min(), yy.max())\n",
        "plt.xticks(())\n",
        "plt.yticks(())\n",
        "\n",
        "plt.show()"
      ],
      "execution_count": 18,
      "outputs": [
        {
          "output_type": "display_data",
          "data": {
            "image/png": "[encoded data removed]",
            "text/plain": [
              "<Figure size 288x216 with 1 Axes>"
            ]
          },
          "metadata": {}
        }
      ]
    },
    {
      "cell_type": "code",
      "metadata": {
        "id": "bvE7Q8L-azyk"
      },
      "source": [
        "labels = [\"Setosa\", \"Versicolor\", \"Virginica\"]"
      ],
      "execution_count": 19,
      "outputs": []
    },
    {
      "cell_type": "code",
      "metadata": {
        "colab": {
          "base_uri": "https://localhost:8080/",
          "height": 773
        },
        "id": "XpLVgk5VbKOa",
        "outputId": "d1a76629-afb7-4073-e8ee-bc1a8bc8c701"
      },
      "source": [
        "# Confusion matrix train set\n",
        "cm_train = confusion_matrix(Y_train, train_pred)\n",
        "print('Confusion Matrix Trainset')\n",
        "print(cm_train)\n",
        "print()\n",
        "\n",
        "cr_train = classification_report(Y_train, train_pred, target_names=labels)\n",
        "print('Classification Report Trainset')\n",
        "print(cr_train)\n",
        "print()\n",
        "\n",
        "plt.figure(figsize=(8,8))\n",
        "plt.imshow(cm_train, interpolation='nearest')\n",
        "plt.colorbar()\n",
        "tick_mark = np.arange(len(labels))\n",
        "_ = plt.xticks(tick_mark, labels, rotation=90)\n",
        "_ = plt.yticks(tick_mark, labels)"
      ],
      "execution_count": 20,
      "outputs": [
        {
          "output_type": "stream",
          "name": "stdout",
          "text": [
            "Confusion Matrix Trainset\n",
            "[[35  0  0]\n",
            " [ 0 25  9]\n",
            " [ 0  7 29]]\n",
            "\n",
            "Classification Report Trainset\n",
            "              precision    recall  f1-score   support\n",
            "\n",
            "      Setosa       1.00      1.00      1.00        35\n",
            "  Versicolor       0.78      0.74      0.76        34\n",
            "   Virginica       0.76      0.81      0.78        36\n",
            "\n",
            "    accuracy                           0.85       105\n",
            "   macro avg       0.85      0.85      0.85       105\n",
            "weighted avg       0.85      0.85      0.85       105\n",
            "\n",
            "\n"
          ]
        },
        {
          "output_type": "display_data",
          "data": {
            "image/png": "[encoded data removed]",
            "text/plain": [
              "<Figure size 576x576 with 2 Axes>"
            ]
          },
          "metadata": {
            "needs_background": "light"
          }
        }
      ]
    },
    {
      "cell_type": "code",
      "metadata": {
        "colab": {
          "base_uri": "https://localhost:8080/",
          "height": 773
        },
        "id": "RhIT9tgqcN8d",
        "outputId": "6ac1df93-4679-418d-b909-fff3fb44da61"
      },
      "source": [
        "# Confusion matrix test set\n",
        "cm_test = confusion_matrix(Y_test, test_pred)\n",
        "print('Confusion Matrix Trainset')\n",
        "print(cm_test)\n",
        "print()\n",
        "\n",
        "cr_test = classification_report(Y_test, test_pred, target_names=labels)\n",
        "print('Classification Report Trainset')\n",
        "print(cr_test)\n",
        "print()\n",
        "\n",
        "plt.figure(figsize=(8,8))\n",
        "plt.imshow(cm_train, interpolation='nearest')\n",
        "plt.colorbar()\n",
        "tick_mark = np.arange(len(labels))\n",
        "_ = plt.xticks(tick_mark, labels, rotation=90)\n",
        "_ = plt.yticks(tick_mark, labels)"
      ],
      "execution_count": 21,
      "outputs": [
        {
          "output_type": "stream",
          "name": "stdout",
          "text": [
            "Confusion Matrix Trainset\n",
            "[[14  1  0]\n",
            " [ 0 11  5]\n",
            " [ 0  6  8]]\n",
            "\n",
            "Classification Report Trainset\n",
            "              precision    recall  f1-score   support\n",
            "\n",
            "      Setosa       1.00      0.93      0.97        15\n",
            "  Versicolor       0.61      0.69      0.65        16\n",
            "   Virginica       0.62      0.57      0.59        14\n",
            "\n",
            "    accuracy                           0.73        45\n",
            "   macro avg       0.74      0.73      0.74        45\n",
            "weighted avg       0.74      0.73      0.74        45\n",
            "\n",
            "\n"
          ]
        },
        {
          "output_type": "display_data",
          "data": {
            "image/png": "[encoded data removed]",
            "text/plain": [
              "<Figure size 576x576 with 2 Axes>"
            ]
          },
          "metadata": {
            "needs_background": "light"
          }
        }
      ]
    }
  ]
}