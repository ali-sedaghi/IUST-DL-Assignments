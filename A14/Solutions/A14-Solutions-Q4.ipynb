{
  "nbformat": 4,
  "nbformat_minor": 0,
  "metadata": {
    "colab": {
      "name": "HW14_Q4.ipynb",
      "provenance": [],
      "collapsed_sections": []
    },
    "kernelspec": {
      "name": "python3",
      "display_name": "Python 3"
    },
    "language_info": {
      "name": "python"
    },
    "accelerator": "GPU"
  },
  "cells": [
    {
      "cell_type": "markdown",
      "source": [
        "# Import"
      ],
      "metadata": {
        "id": "g7m6H3X8aKf4"
      }
    },
    {
      "cell_type": "code",
      "source": [
        "!pip install -q -U keras-tuner"
      ],
      "metadata": {
        "colab": {
          "base_uri": "https://localhost:8080/"
        },
        "id": "NfreE-H0qmSW",
        "outputId": "7317b973-7deb-4abc-9340-204696aac9e1"
      },
      "execution_count": 1,
      "outputs": [
        {
          "output_type": "stream",
          "name": "stdout",
          "text": [
            "\u001b[?25l\r\u001b[K     |███▍                            | 10 kB 17.1 MB/s eta 0:00:01\r\u001b[K     |██████▊                         | 20 kB 19.7 MB/s eta 0:00:01\r\u001b[K     |██████████                      | 30 kB 17.1 MB/s eta 0:00:01\r\u001b[K     |█████████████▍                  | 40 kB 12.1 MB/s eta 0:00:01\r\u001b[K     |████████████████▊               | 51 kB 11.6 MB/s eta 0:00:01\r\u001b[K     |████████████████████            | 61 kB 12.1 MB/s eta 0:00:01\r\u001b[K     |███████████████████████▍        | 71 kB 10.0 MB/s eta 0:00:01\r\u001b[K     |██████████████████████████▊     | 81 kB 10.9 MB/s eta 0:00:01\r\u001b[K     |██████████████████████████████  | 92 kB 11.8 MB/s eta 0:00:01\r\u001b[K     |████████████████████████████████| 98 kB 3.8 MB/s \n",
            "\u001b[?25h"
          ]
        }
      ]
    },
    {
      "cell_type": "code",
      "execution_count": 2,
      "metadata": {
        "id": "vMIi74DwRiq1"
      },
      "outputs": [],
      "source": [
        "import tensorflow as tf\n",
        "from tensorflow.keras.datasets import fashion_mnist\n",
        "from tensorflow.keras.models import Sequential, load_model\n",
        "from tensorflow.keras.layers import Flatten, Dense\n",
        "from tensorflow.keras.optimizers import Adam\n",
        "from tensorflow.keras.losses import SparseCategoricalCrossentropy\n",
        "from tensorflow.keras.callbacks import ModelCheckpoint\n",
        "import keras_tuner as kt"
      ]
    },
    {
      "cell_type": "markdown",
      "source": [
        "# Loading Data"
      ],
      "metadata": {
        "id": "2ZzTCtXcaOY4"
      }
    },
    {
      "cell_type": "code",
      "source": [
        "(img_train, label_train), (img_test, label_test) = fashion_mnist.load_data()\n",
        "img_train = img_train.astype('float32') / 255.0\n",
        "img_test = img_test.astype('float32') / 255.0"
      ],
      "metadata": {
        "colab": {
          "base_uri": "https://localhost:8080/"
        },
        "id": "V83iFn-7Rpql",
        "outputId": "196b213f-11c4-4f57-93fb-77f04f0386cf"
      },
      "execution_count": 3,
      "outputs": [
        {
          "output_type": "stream",
          "name": "stdout",
          "text": [
            "Downloading data from https://storage.googleapis.com/tensorflow/tf-keras-datasets/train-labels-idx1-ubyte.gz\n",
            "32768/29515 [=================================] - 0s 0us/step\n",
            "40960/29515 [=========================================] - 0s 0us/step\n",
            "Downloading data from https://storage.googleapis.com/tensorflow/tf-keras-datasets/train-images-idx3-ubyte.gz\n",
            "26427392/26421880 [==============================] - 0s 0us/step\n",
            "26435584/26421880 [==============================] - 0s 0us/step\n",
            "Downloading data from https://storage.googleapis.com/tensorflow/tf-keras-datasets/t10k-labels-idx1-ubyte.gz\n",
            "16384/5148 [===============================================================================================] - 0s 0us/step\n",
            "Downloading data from https://storage.googleapis.com/tensorflow/tf-keras-datasets/t10k-images-idx3-ubyte.gz\n",
            "4423680/4422102 [==============================] - 0s 0us/step\n",
            "4431872/4422102 [==============================] - 0s 0us/step\n"
          ]
        }
      ]
    },
    {
      "cell_type": "markdown",
      "source": [
        "# Base Model"
      ],
      "metadata": {
        "id": "quMMYCOeeVEe"
      }
    },
    {
      "cell_type": "code",
      "source": [
        "def model_builder():\n",
        "    model = Sequential()\n",
        "    model.add(Flatten(input_shape=(28, 28)))\n",
        "    model.add(Dense(units=512, activation='relu'))\n",
        "    model.add(Dense(10))\n",
        "\n",
        "    model.compile(\n",
        "        optimizer=Adam(learning_rate=0.01),\n",
        "        loss=SparseCategoricalCrossentropy(from_logits=True),\n",
        "        metrics=['accuracy']\n",
        "    )\n",
        "\n",
        "    return model"
      ],
      "metadata": {
        "id": "R8GriD14cOX8"
      },
      "execution_count": 4,
      "outputs": []
    },
    {
      "cell_type": "code",
      "source": [
        "model = model_builder()\n",
        "model.summary()"
      ],
      "metadata": {
        "colab": {
          "base_uri": "https://localhost:8080/"
        },
        "id": "QXWSnBenr76d",
        "outputId": "43174bec-a884-494c-fbc8-475ddbe358cd"
      },
      "execution_count": 5,
      "outputs": [
        {
          "output_type": "stream",
          "name": "stdout",
          "text": [
            "Model: \"sequential\"\n",
            "_________________________________________________________________\n",
            " Layer (type)                Output Shape              Param #   \n",
            "=================================================================\n",
            " flatten (Flatten)           (None, 784)               0         \n",
            "                                                                 \n",
            " dense (Dense)               (None, 512)               401920    \n",
            "                                                                 \n",
            " dense_1 (Dense)             (None, 10)                5130      \n",
            "                                                                 \n",
            "=================================================================\n",
            "Total params: 407,050\n",
            "Trainable params: 407,050\n",
            "Non-trainable params: 0\n",
            "_________________________________________________________________\n"
          ]
        }
      ]
    },
    {
      "cell_type": "code",
      "source": [
        "history = model.fit(\n",
        "    img_train,\n",
        "    label_train,\n",
        "    epochs=50,\n",
        "    validation_split=0.2\n",
        ")"
      ],
      "metadata": {
        "colab": {
          "base_uri": "https://localhost:8080/"
        },
        "id": "_m0yhB1HcjW1",
        "outputId": "3eb5621c-74ff-4a7e-80c8-8a87199d3e35"
      },
      "execution_count": 6,
      "outputs": [
        {
          "output_type": "stream",
          "name": "stdout",
          "text": [
            "Epoch 1/50\n",
            "1500/1500 [==============================] - 8s 4ms/step - loss: 0.5627 - accuracy: 0.8102 - val_loss: 0.4611 - val_accuracy: 0.8416\n",
            "Epoch 2/50\n",
            "1500/1500 [==============================] - 5s 3ms/step - loss: 0.4407 - accuracy: 0.8447 - val_loss: 0.4259 - val_accuracy: 0.8497\n",
            "Epoch 3/50\n",
            "1500/1500 [==============================] - 6s 4ms/step - loss: 0.4129 - accuracy: 0.8550 - val_loss: 0.4063 - val_accuracy: 0.8577\n",
            "Epoch 4/50\n",
            "1500/1500 [==============================] - 5s 3ms/step - loss: 0.3903 - accuracy: 0.8587 - val_loss: 0.4151 - val_accuracy: 0.8565\n",
            "Epoch 5/50\n",
            "1500/1500 [==============================] - 5s 3ms/step - loss: 0.3827 - accuracy: 0.8645 - val_loss: 0.4176 - val_accuracy: 0.8566\n",
            "Epoch 6/50\n",
            "1500/1500 [==============================] - 6s 4ms/step - loss: 0.3773 - accuracy: 0.8659 - val_loss: 0.4608 - val_accuracy: 0.8473\n",
            "Epoch 7/50\n",
            "1500/1500 [==============================] - 5s 3ms/step - loss: 0.3689 - accuracy: 0.8678 - val_loss: 0.4676 - val_accuracy: 0.8447\n",
            "Epoch 8/50\n",
            "1500/1500 [==============================] - 6s 4ms/step - loss: 0.3670 - accuracy: 0.8695 - val_loss: 0.4267 - val_accuracy: 0.8618\n",
            "Epoch 9/50\n",
            "1500/1500 [==============================] - 6s 4ms/step - loss: 0.3597 - accuracy: 0.8708 - val_loss: 0.4411 - val_accuracy: 0.8476\n",
            "Epoch 10/50\n",
            "1500/1500 [==============================] - 6s 4ms/step - loss: 0.3622 - accuracy: 0.8716 - val_loss: 0.4945 - val_accuracy: 0.8457\n",
            "Epoch 11/50\n",
            "1500/1500 [==============================] - 5s 3ms/step - loss: 0.3575 - accuracy: 0.8716 - val_loss: 0.4318 - val_accuracy: 0.8543\n",
            "Epoch 12/50\n",
            "1500/1500 [==============================] - 5s 3ms/step - loss: 0.3516 - accuracy: 0.8731 - val_loss: 0.4215 - val_accuracy: 0.8605\n",
            "Epoch 13/50\n",
            "1500/1500 [==============================] - 5s 3ms/step - loss: 0.3446 - accuracy: 0.8761 - val_loss: 0.4369 - val_accuracy: 0.8512\n",
            "Epoch 14/50\n",
            "1500/1500 [==============================] - 5s 3ms/step - loss: 0.3469 - accuracy: 0.8761 - val_loss: 0.4647 - val_accuracy: 0.8596\n",
            "Epoch 15/50\n",
            "1500/1500 [==============================] - 5s 3ms/step - loss: 0.3427 - accuracy: 0.8774 - val_loss: 0.4589 - val_accuracy: 0.8546\n",
            "Epoch 16/50\n",
            "1500/1500 [==============================] - 6s 4ms/step - loss: 0.3443 - accuracy: 0.8761 - val_loss: 0.5000 - val_accuracy: 0.8538\n",
            "Epoch 17/50\n",
            "1500/1500 [==============================] - 5s 3ms/step - loss: 0.3446 - accuracy: 0.8771 - val_loss: 0.4519 - val_accuracy: 0.8554\n",
            "Epoch 18/50\n",
            "1500/1500 [==============================] - 5s 3ms/step - loss: 0.3335 - accuracy: 0.8789 - val_loss: 0.4555 - val_accuracy: 0.8589\n",
            "Epoch 19/50\n",
            "1500/1500 [==============================] - 5s 3ms/step - loss: 0.3368 - accuracy: 0.8784 - val_loss: 0.5514 - val_accuracy: 0.8456\n",
            "Epoch 20/50\n",
            "1500/1500 [==============================] - 5s 3ms/step - loss: 0.3318 - accuracy: 0.8791 - val_loss: 0.5294 - val_accuracy: 0.8415\n",
            "Epoch 21/50\n",
            "1500/1500 [==============================] - 5s 3ms/step - loss: 0.3313 - accuracy: 0.8797 - val_loss: 0.5202 - val_accuracy: 0.8425\n",
            "Epoch 22/50\n",
            "1500/1500 [==============================] - 5s 3ms/step - loss: 0.3250 - accuracy: 0.8820 - val_loss: 0.4647 - val_accuracy: 0.8597\n",
            "Epoch 23/50\n",
            "1500/1500 [==============================] - 5s 3ms/step - loss: 0.3252 - accuracy: 0.8819 - val_loss: 0.4288 - val_accuracy: 0.8669\n",
            "Epoch 24/50\n",
            "1500/1500 [==============================] - 5s 3ms/step - loss: 0.3214 - accuracy: 0.8849 - val_loss: 0.4924 - val_accuracy: 0.8453\n",
            "Epoch 25/50\n",
            "1500/1500 [==============================] - 5s 3ms/step - loss: 0.3220 - accuracy: 0.8845 - val_loss: 0.4642 - val_accuracy: 0.8640\n",
            "Epoch 26/50\n",
            "1500/1500 [==============================] - 5s 3ms/step - loss: 0.3171 - accuracy: 0.8849 - val_loss: 0.4722 - val_accuracy: 0.8533\n",
            "Epoch 27/50\n",
            "1500/1500 [==============================] - 5s 3ms/step - loss: 0.3223 - accuracy: 0.8841 - val_loss: 0.4492 - val_accuracy: 0.8661\n",
            "Epoch 28/50\n",
            "1500/1500 [==============================] - 5s 3ms/step - loss: 0.3159 - accuracy: 0.8868 - val_loss: 0.4584 - val_accuracy: 0.8615\n",
            "Epoch 29/50\n",
            "1500/1500 [==============================] - 6s 4ms/step - loss: 0.3140 - accuracy: 0.8859 - val_loss: 0.4923 - val_accuracy: 0.8633\n",
            "Epoch 30/50\n",
            "1500/1500 [==============================] - 5s 3ms/step - loss: 0.3170 - accuracy: 0.8865 - val_loss: 0.4903 - val_accuracy: 0.8663\n",
            "Epoch 31/50\n",
            "1500/1500 [==============================] - 6s 4ms/step - loss: 0.3149 - accuracy: 0.8866 - val_loss: 0.4990 - val_accuracy: 0.8615\n",
            "Epoch 32/50\n",
            "1500/1500 [==============================] - 6s 4ms/step - loss: 0.3171 - accuracy: 0.8869 - val_loss: 0.5334 - val_accuracy: 0.8342\n",
            "Epoch 33/50\n",
            "1500/1500 [==============================] - 6s 4ms/step - loss: 0.3084 - accuracy: 0.8891 - val_loss: 0.4916 - val_accuracy: 0.8567\n",
            "Epoch 34/50\n",
            "1500/1500 [==============================] - 5s 3ms/step - loss: 0.3104 - accuracy: 0.8878 - val_loss: 0.4521 - val_accuracy: 0.8643\n",
            "Epoch 35/50\n",
            "1500/1500 [==============================] - 6s 4ms/step - loss: 0.3104 - accuracy: 0.8878 - val_loss: 0.4927 - val_accuracy: 0.8618\n",
            "Epoch 36/50\n",
            "1500/1500 [==============================] - 6s 4ms/step - loss: 0.3134 - accuracy: 0.8864 - val_loss: 0.5294 - val_accuracy: 0.8558\n",
            "Epoch 37/50\n",
            "1500/1500 [==============================] - 6s 4ms/step - loss: 0.3095 - accuracy: 0.8898 - val_loss: 0.4662 - val_accuracy: 0.8670\n",
            "Epoch 38/50\n",
            "1500/1500 [==============================] - 5s 3ms/step - loss: 0.3037 - accuracy: 0.8906 - val_loss: 0.5990 - val_accuracy: 0.8522\n",
            "Epoch 39/50\n",
            "1500/1500 [==============================] - 6s 4ms/step - loss: 0.3071 - accuracy: 0.8903 - val_loss: 0.5066 - val_accuracy: 0.8644\n",
            "Epoch 40/50\n",
            "1500/1500 [==============================] - 6s 4ms/step - loss: 0.3027 - accuracy: 0.8885 - val_loss: 0.5175 - val_accuracy: 0.8590\n",
            "Epoch 41/50\n",
            "1500/1500 [==============================] - 5s 3ms/step - loss: 0.3005 - accuracy: 0.8912 - val_loss: 0.5691 - val_accuracy: 0.8609\n",
            "Epoch 42/50\n",
            "1500/1500 [==============================] - 5s 3ms/step - loss: 0.3040 - accuracy: 0.8899 - val_loss: 0.5161 - val_accuracy: 0.8533\n",
            "Epoch 43/50\n",
            "1500/1500 [==============================] - 5s 3ms/step - loss: 0.2997 - accuracy: 0.8912 - val_loss: 0.5358 - val_accuracy: 0.8558\n",
            "Epoch 44/50\n",
            "1500/1500 [==============================] - 6s 4ms/step - loss: 0.2985 - accuracy: 0.8914 - val_loss: 0.4799 - val_accuracy: 0.8632\n",
            "Epoch 45/50\n",
            "1500/1500 [==============================] - 6s 4ms/step - loss: 0.3014 - accuracy: 0.8913 - val_loss: 0.5670 - val_accuracy: 0.8476\n",
            "Epoch 46/50\n",
            "1500/1500 [==============================] - 5s 3ms/step - loss: 0.3002 - accuracy: 0.8919 - val_loss: 0.5460 - val_accuracy: 0.8612\n",
            "Epoch 47/50\n",
            "1500/1500 [==============================] - 6s 4ms/step - loss: 0.2983 - accuracy: 0.8922 - val_loss: 0.5732 - val_accuracy: 0.8565\n",
            "Epoch 48/50\n",
            "1500/1500 [==============================] - 6s 4ms/step - loss: 0.3002 - accuracy: 0.8911 - val_loss: 0.5453 - val_accuracy: 0.8602\n",
            "Epoch 49/50\n",
            "1500/1500 [==============================] - 6s 4ms/step - loss: 0.2943 - accuracy: 0.8934 - val_loss: 0.5507 - val_accuracy: 0.8592\n",
            "Epoch 50/50\n",
            "1500/1500 [==============================] - 5s 3ms/step - loss: 0.3005 - accuracy: 0.8930 - val_loss: 0.6382 - val_accuracy: 0.8599\n"
          ]
        }
      ]
    },
    {
      "cell_type": "code",
      "source": [
        "model.evaluate(\n",
        "    x=img_test,\n",
        "    y=label_test,\n",
        ")"
      ],
      "metadata": {
        "colab": {
          "base_uri": "https://localhost:8080/"
        },
        "id": "zlwMtVh0r51X",
        "outputId": "15c10fdf-735b-4e07-8b3e-df1c76779bca"
      },
      "execution_count": 7,
      "outputs": [
        {
          "output_type": "stream",
          "name": "stdout",
          "text": [
            "313/313 [==============================] - 1s 3ms/step - loss: 0.7085 - accuracy: 0.8490\n"
          ]
        },
        {
          "output_type": "execute_result",
          "data": {
            "text/plain": [
              "[0.7084887623786926, 0.8489999771118164]"
            ]
          },
          "metadata": {},
          "execution_count": 7
        }
      ]
    },
    {
      "cell_type": "markdown",
      "source": [
        "# Keras Tuner"
      ],
      "metadata": {
        "id": "-V06erkwaQdd"
      }
    },
    {
      "cell_type": "code",
      "source": [
        "def model_builder(hp):\n",
        "    hidden_units = hp.Int(\n",
        "        name='hidden_units',\n",
        "        min_value=16,\n",
        "        max_value=512,\n",
        "        step=16\n",
        "    )\n",
        "    learning_rate = hp.Choice(\n",
        "        'learning_rate',\n",
        "        values=[0.0001, 0.0005, 0.001, 0.005, 0.01]\n",
        "    )\n",
        "\n",
        "    model = Sequential()\n",
        "    model.add(Flatten(input_shape=(28, 28)))\n",
        "    model.add(Dense(units=hidden_units, activation='relu'))\n",
        "    model.add(Dense(10))\n",
        "\n",
        "    model.compile(\n",
        "        optimizer=Adam(learning_rate=learning_rate),\n",
        "        loss=SparseCategoricalCrossentropy(from_logits=True),\n",
        "        metrics=['accuracy']\n",
        "    )\n",
        "\n",
        "    return model"
      ],
      "metadata": {
        "id": "EBLh4qJYRuF3"
      },
      "execution_count": 8,
      "outputs": []
    },
    {
      "cell_type": "code",
      "source": [
        "MAX_EPOCHS = 50\n",
        "EPOCHS = 50\n",
        "BATCH_SIZE = 32"
      ],
      "metadata": {
        "id": "1tjy0DfTqI4o"
      },
      "execution_count": 9,
      "outputs": []
    },
    {
      "cell_type": "code",
      "source": [
        "tuner = kt.Hyperband(\n",
        "    hypermodel=model_builder,\n",
        "    objective='val_accuracy',\n",
        "    max_epochs=MAX_EPOCHS,\n",
        "    directory='./tuner_results',\n",
        ")"
      ],
      "metadata": {
        "id": "ziTydeV6RxWJ"
      },
      "execution_count": 10,
      "outputs": []
    },
    {
      "cell_type": "code",
      "source": [
        "tuner.search_space_summary()"
      ],
      "metadata": {
        "id": "tEpb2owlR6kr",
        "colab": {
          "base_uri": "https://localhost:8080/"
        },
        "outputId": "dae24b0c-678a-4de5-973a-7d86eb7df2f2"
      },
      "execution_count": 11,
      "outputs": [
        {
          "output_type": "stream",
          "name": "stdout",
          "text": [
            "Search space summary\n",
            "Default search space size: 2\n",
            "hidden_units (Int)\n",
            "{'default': None, 'conditions': [], 'min_value': 16, 'max_value': 512, 'step': 16, 'sampling': None}\n",
            "learning_rate (Choice)\n",
            "{'default': 0.0001, 'conditions': [], 'values': [0.0001, 0.0005, 0.001, 0.005, 0.01], 'ordered': True}\n"
          ]
        }
      ]
    },
    {
      "cell_type": "code",
      "source": [
        "tuner.search(\n",
        "    img_train,\n",
        "    label_train,\n",
        "    batch_size=BATCH_SIZE,\n",
        "    validation_split=0.2,\n",
        ")"
      ],
      "metadata": {
        "id": "9KGDpAc5SG8_",
        "colab": {
          "base_uri": "https://localhost:8080/"
        },
        "outputId": "eb2353c6-77e9-44a5-fb04-6fd7b2888460"
      },
      "execution_count": 12,
      "outputs": [
        {
          "output_type": "stream",
          "name": "stdout",
          "text": [
            "Trial 90 Complete [00h 04m 10s]\n",
            "val_accuracy: 0.8945833444595337\n",
            "\n",
            "Best val_accuracy So Far: 0.9020000100135803\n",
            "Total elapsed time: 01h 33m 28s\n",
            "INFO:tensorflow:Oracle triggered exit\n"
          ]
        }
      ]
    },
    {
      "cell_type": "code",
      "source": [
        "tuner.results_summary()"
      ],
      "metadata": {
        "colab": {
          "base_uri": "https://localhost:8080/"
        },
        "id": "y7DtYFJ6qPgc",
        "outputId": "87e83620-fdeb-492e-b318-2eafddae2d8f"
      },
      "execution_count": 13,
      "outputs": [
        {
          "output_type": "stream",
          "name": "stdout",
          "text": [
            "Results summary\n",
            "Results in ./tuner_results/untitled_project\n",
            "Showing 10 best trials\n",
            "Objective(name='val_accuracy', direction='max')\n",
            "Trial summary\n",
            "Hyperparameters:\n",
            "hidden_units: 432\n",
            "learning_rate: 0.0005\n",
            "tuner/epochs: 50\n",
            "tuner/initial_epoch: 17\n",
            "tuner/bracket: 2\n",
            "tuner/round: 2\n",
            "tuner/trial_id: bb38582319ee5054c42e3dfa5603bdf5\n",
            "Score: 0.9020000100135803\n",
            "Trial summary\n",
            "Hyperparameters:\n",
            "hidden_units: 480\n",
            "learning_rate: 0.0005\n",
            "tuner/epochs: 50\n",
            "tuner/initial_epoch: 17\n",
            "tuner/bracket: 3\n",
            "tuner/round: 3\n",
            "tuner/trial_id: 0a4af1d3711c6cb23ae518ad3bc3204c\n",
            "Score: 0.9009166955947876\n",
            "Trial summary\n",
            "Hyperparameters:\n",
            "hidden_units: 352\n",
            "learning_rate: 0.0005\n",
            "tuner/epochs: 50\n",
            "tuner/initial_epoch: 17\n",
            "tuner/bracket: 2\n",
            "tuner/round: 2\n",
            "tuner/trial_id: bc64df6525ad7a143c46956d97bfa979\n",
            "Score: 0.9009166955947876\n",
            "Trial summary\n",
            "Hyperparameters:\n",
            "hidden_units: 368\n",
            "learning_rate: 0.0005\n",
            "tuner/epochs: 50\n",
            "tuner/initial_epoch: 17\n",
            "tuner/bracket: 1\n",
            "tuner/round: 1\n",
            "tuner/trial_id: 98c3ec15511fe6b97bac6fe69964825a\n",
            "Score: 0.8995000123977661\n",
            "Trial summary\n",
            "Hyperparameters:\n",
            "hidden_units: 240\n",
            "learning_rate: 0.0005\n",
            "tuner/epochs: 50\n",
            "tuner/initial_epoch: 17\n",
            "tuner/bracket: 3\n",
            "tuner/round: 3\n",
            "tuner/trial_id: d641de3fe0c9e3d5f6f0106eeb5aab5c\n",
            "Score: 0.8985000252723694\n",
            "Trial summary\n",
            "Hyperparameters:\n",
            "hidden_units: 368\n",
            "learning_rate: 0.0005\n",
            "tuner/epochs: 17\n",
            "tuner/initial_epoch: 0\n",
            "tuner/bracket: 1\n",
            "tuner/round: 0\n",
            "Score: 0.8983333110809326\n",
            "Trial summary\n",
            "Hyperparameters:\n",
            "hidden_units: 304\n",
            "learning_rate: 0.001\n",
            "tuner/epochs: 50\n",
            "tuner/initial_epoch: 0\n",
            "tuner/bracket: 0\n",
            "tuner/round: 0\n",
            "Score: 0.8978333473205566\n",
            "Trial summary\n",
            "Hyperparameters:\n",
            "hidden_units: 320\n",
            "learning_rate: 0.0005\n",
            "tuner/epochs: 50\n",
            "tuner/initial_epoch: 0\n",
            "tuner/bracket: 0\n",
            "tuner/round: 0\n",
            "Score: 0.8974166512489319\n",
            "Trial summary\n",
            "Hyperparameters:\n",
            "hidden_units: 352\n",
            "learning_rate: 0.0005\n",
            "tuner/epochs: 17\n",
            "tuner/initial_epoch: 6\n",
            "tuner/bracket: 2\n",
            "tuner/round: 1\n",
            "tuner/trial_id: bbca178ffca64697503c97f2f7a6344a\n",
            "Score: 0.8970833420753479\n",
            "Trial summary\n",
            "Hyperparameters:\n",
            "hidden_units: 480\n",
            "learning_rate: 0.0005\n",
            "tuner/epochs: 17\n",
            "tuner/initial_epoch: 6\n",
            "tuner/bracket: 3\n",
            "tuner/round: 2\n",
            "tuner/trial_id: f6f23d8f3aa2b93a8c19ef03a34d9241\n",
            "Score: 0.8946666717529297\n"
          ]
        }
      ]
    },
    {
      "cell_type": "code",
      "source": [
        "best_hp = tuner.get_best_hyperparameters(2)[0]\n",
        "best_model = model_builder(best_hp)\n",
        "best_model.summary()"
      ],
      "metadata": {
        "colab": {
          "base_uri": "https://localhost:8080/"
        },
        "id": "1El8r1csqSxV",
        "outputId": "22977303-5e70-4870-cd25-a49cbc88cdd7"
      },
      "execution_count": 20,
      "outputs": [
        {
          "output_type": "stream",
          "name": "stdout",
          "text": [
            "Model: \"sequential_2\"\n",
            "_________________________________________________________________\n",
            " Layer (type)                Output Shape              Param #   \n",
            "=================================================================\n",
            " flatten_2 (Flatten)         (None, 784)               0         \n",
            "                                                                 \n",
            " dense_4 (Dense)             (None, 432)               339120    \n",
            "                                                                 \n",
            " dense_5 (Dense)             (None, 10)                4330      \n",
            "                                                                 \n",
            "=================================================================\n",
            "Total params: 343,450\n",
            "Trainable params: 343,450\n",
            "Non-trainable params: 0\n",
            "_________________________________________________________________\n"
          ]
        }
      ]
    },
    {
      "cell_type": "code",
      "source": [
        "checkpoint = ModelCheckpoint(\n",
        "    filepath='./checkpoints/evaluater.hdf5',\n",
        "    monitor='val_accuracy',\n",
        "    verbose=0,\n",
        "    save_best_only=True,\n",
        ")\n",
        "\n",
        "best_model.fit(\n",
        "    x=img_train,\n",
        "    y=label_train,\n",
        "    validation_split=0.2,\n",
        "    batch_size=BATCH_SIZE,\n",
        "    epochs=EPOCHS,\n",
        "    callbacks=[checkpoint]\n",
        ")"
      ],
      "metadata": {
        "colab": {
          "base_uri": "https://localhost:8080/"
        },
        "id": "5TLez7M5qUih",
        "outputId": "22e07eb7-977c-4b45-cb34-da427b5576b6"
      },
      "execution_count": 21,
      "outputs": [
        {
          "output_type": "stream",
          "name": "stdout",
          "text": [
            "Epoch 1/50\n",
            "1500/1500 [==============================] - 5s 3ms/step - loss: 0.5089 - accuracy: 0.8214 - val_loss: 0.4246 - val_accuracy: 0.8443\n",
            "Epoch 2/50\n",
            "1500/1500 [==============================] - 5s 3ms/step - loss: 0.3785 - accuracy: 0.8640 - val_loss: 0.3816 - val_accuracy: 0.8590\n",
            "Epoch 3/50\n",
            "1500/1500 [==============================] - 5s 3ms/step - loss: 0.3370 - accuracy: 0.8777 - val_loss: 0.3494 - val_accuracy: 0.8737\n",
            "Epoch 4/50\n",
            "1500/1500 [==============================] - 5s 3ms/step - loss: 0.3089 - accuracy: 0.8869 - val_loss: 0.3298 - val_accuracy: 0.8784\n",
            "Epoch 5/50\n",
            "1500/1500 [==============================] - 5s 3ms/step - loss: 0.2878 - accuracy: 0.8936 - val_loss: 0.3222 - val_accuracy: 0.8813\n",
            "Epoch 6/50\n",
            "1500/1500 [==============================] - 5s 3ms/step - loss: 0.2716 - accuracy: 0.8998 - val_loss: 0.3237 - val_accuracy: 0.8813\n",
            "Epoch 7/50\n",
            "1500/1500 [==============================] - 5s 3ms/step - loss: 0.2598 - accuracy: 0.9041 - val_loss: 0.3154 - val_accuracy: 0.8858\n",
            "Epoch 8/50\n",
            "1500/1500 [==============================] - 5s 3ms/step - loss: 0.2461 - accuracy: 0.9081 - val_loss: 0.3311 - val_accuracy: 0.8824\n",
            "Epoch 9/50\n",
            "1500/1500 [==============================] - 5s 3ms/step - loss: 0.2348 - accuracy: 0.9125 - val_loss: 0.3234 - val_accuracy: 0.8835\n",
            "Epoch 10/50\n",
            "1500/1500 [==============================] - 5s 3ms/step - loss: 0.2246 - accuracy: 0.9163 - val_loss: 0.3075 - val_accuracy: 0.8896\n",
            "Epoch 11/50\n",
            "1500/1500 [==============================] - 6s 4ms/step - loss: 0.2119 - accuracy: 0.9214 - val_loss: 0.3112 - val_accuracy: 0.8907\n",
            "Epoch 12/50\n",
            "1500/1500 [==============================] - 5s 3ms/step - loss: 0.2051 - accuracy: 0.9229 - val_loss: 0.2920 - val_accuracy: 0.8968\n",
            "Epoch 13/50\n",
            "1500/1500 [==============================] - 5s 3ms/step - loss: 0.1963 - accuracy: 0.9271 - val_loss: 0.3155 - val_accuracy: 0.8911\n",
            "Epoch 14/50\n",
            "1500/1500 [==============================] - 6s 4ms/step - loss: 0.1902 - accuracy: 0.9298 - val_loss: 0.3114 - val_accuracy: 0.8937\n",
            "Epoch 15/50\n",
            "1500/1500 [==============================] - 5s 3ms/step - loss: 0.1822 - accuracy: 0.9312 - val_loss: 0.3012 - val_accuracy: 0.8961\n",
            "Epoch 16/50\n",
            "1500/1500 [==============================] - 5s 3ms/step - loss: 0.1749 - accuracy: 0.9356 - val_loss: 0.3021 - val_accuracy: 0.8988\n",
            "Epoch 17/50\n",
            "1500/1500 [==============================] - 6s 4ms/step - loss: 0.1701 - accuracy: 0.9357 - val_loss: 0.3061 - val_accuracy: 0.8955\n",
            "Epoch 18/50\n",
            "1500/1500 [==============================] - 5s 3ms/step - loss: 0.1645 - accuracy: 0.9390 - val_loss: 0.3012 - val_accuracy: 0.8965\n",
            "Epoch 19/50\n",
            "1500/1500 [==============================] - 5s 3ms/step - loss: 0.1560 - accuracy: 0.9425 - val_loss: 0.3338 - val_accuracy: 0.8870\n",
            "Epoch 20/50\n",
            "1500/1500 [==============================] - 6s 4ms/step - loss: 0.1505 - accuracy: 0.9444 - val_loss: 0.3120 - val_accuracy: 0.8957\n",
            "Epoch 21/50\n",
            "1500/1500 [==============================] - 5s 3ms/step - loss: 0.1462 - accuracy: 0.9452 - val_loss: 0.3300 - val_accuracy: 0.8938\n",
            "Epoch 22/50\n",
            "1500/1500 [==============================] - 5s 3ms/step - loss: 0.1394 - accuracy: 0.9479 - val_loss: 0.3511 - val_accuracy: 0.8894\n",
            "Epoch 23/50\n",
            "1500/1500 [==============================] - 5s 3ms/step - loss: 0.1350 - accuracy: 0.9502 - val_loss: 0.3308 - val_accuracy: 0.8990\n",
            "Epoch 24/50\n",
            "1500/1500 [==============================] - 5s 3ms/step - loss: 0.1292 - accuracy: 0.9521 - val_loss: 0.3270 - val_accuracy: 0.8981\n",
            "Epoch 25/50\n",
            "1500/1500 [==============================] - 5s 3ms/step - loss: 0.1259 - accuracy: 0.9537 - val_loss: 0.3337 - val_accuracy: 0.8994\n",
            "Epoch 26/50\n",
            "1500/1500 [==============================] - 5s 3ms/step - loss: 0.1220 - accuracy: 0.9548 - val_loss: 0.3642 - val_accuracy: 0.8952\n",
            "Epoch 27/50\n",
            "1500/1500 [==============================] - 5s 3ms/step - loss: 0.1172 - accuracy: 0.9561 - val_loss: 0.3550 - val_accuracy: 0.8956\n",
            "Epoch 28/50\n",
            "1500/1500 [==============================] - 6s 4ms/step - loss: 0.1153 - accuracy: 0.9573 - val_loss: 0.3786 - val_accuracy: 0.8896\n",
            "Epoch 29/50\n",
            "1500/1500 [==============================] - 5s 3ms/step - loss: 0.1091 - accuracy: 0.9597 - val_loss: 0.3737 - val_accuracy: 0.8909\n",
            "Epoch 30/50\n",
            "1500/1500 [==============================] - 5s 3ms/step - loss: 0.1069 - accuracy: 0.9593 - val_loss: 0.3764 - val_accuracy: 0.8929\n",
            "Epoch 31/50\n",
            "1500/1500 [==============================] - 5s 3ms/step - loss: 0.1059 - accuracy: 0.9607 - val_loss: 0.3834 - val_accuracy: 0.8958\n",
            "Epoch 32/50\n",
            "1500/1500 [==============================] - 5s 3ms/step - loss: 0.1009 - accuracy: 0.9628 - val_loss: 0.3659 - val_accuracy: 0.8975\n",
            "Epoch 33/50\n",
            "1500/1500 [==============================] - 5s 4ms/step - loss: 0.0975 - accuracy: 0.9641 - val_loss: 0.3847 - val_accuracy: 0.8944\n",
            "Epoch 34/50\n",
            "1500/1500 [==============================] - 5s 3ms/step - loss: 0.0960 - accuracy: 0.9641 - val_loss: 0.3877 - val_accuracy: 0.8974\n",
            "Epoch 35/50\n",
            "1500/1500 [==============================] - 6s 4ms/step - loss: 0.0926 - accuracy: 0.9651 - val_loss: 0.3956 - val_accuracy: 0.8931\n",
            "Epoch 36/50\n",
            "1500/1500 [==============================] - 5s 3ms/step - loss: 0.0864 - accuracy: 0.9686 - val_loss: 0.4222 - val_accuracy: 0.8897\n",
            "Epoch 37/50\n",
            "1500/1500 [==============================] - 6s 4ms/step - loss: 0.0868 - accuracy: 0.9681 - val_loss: 0.4230 - val_accuracy: 0.8939\n",
            "Epoch 38/50\n",
            "1500/1500 [==============================] - 5s 3ms/step - loss: 0.0844 - accuracy: 0.9686 - val_loss: 0.3961 - val_accuracy: 0.8947\n",
            "Epoch 39/50\n",
            "1500/1500 [==============================] - 5s 3ms/step - loss: 0.0807 - accuracy: 0.9699 - val_loss: 0.4219 - val_accuracy: 0.8956\n",
            "Epoch 40/50\n",
            "1500/1500 [==============================] - 5s 3ms/step - loss: 0.0803 - accuracy: 0.9709 - val_loss: 0.4056 - val_accuracy: 0.8953\n",
            "Epoch 41/50\n",
            "1500/1500 [==============================] - 5s 3ms/step - loss: 0.0768 - accuracy: 0.9720 - val_loss: 0.4302 - val_accuracy: 0.8943\n",
            "Epoch 42/50\n",
            "1500/1500 [==============================] - 6s 4ms/step - loss: 0.0757 - accuracy: 0.9729 - val_loss: 0.4493 - val_accuracy: 0.8913\n",
            "Epoch 43/50\n",
            "1500/1500 [==============================] - 6s 4ms/step - loss: 0.0706 - accuracy: 0.9742 - val_loss: 0.4258 - val_accuracy: 0.8947\n",
            "Epoch 44/50\n",
            "1500/1500 [==============================] - 6s 4ms/step - loss: 0.0705 - accuracy: 0.9741 - val_loss: 0.4049 - val_accuracy: 0.8984\n",
            "Epoch 45/50\n",
            "1500/1500 [==============================] - 6s 4ms/step - loss: 0.0680 - accuracy: 0.9750 - val_loss: 0.4429 - val_accuracy: 0.8942\n",
            "Epoch 46/50\n",
            "1500/1500 [==============================] - 5s 3ms/step - loss: 0.0658 - accuracy: 0.9756 - val_loss: 0.4593 - val_accuracy: 0.8904\n",
            "Epoch 47/50\n",
            "1500/1500 [==============================] - 6s 4ms/step - loss: 0.0660 - accuracy: 0.9757 - val_loss: 0.4428 - val_accuracy: 0.8982\n",
            "Epoch 48/50\n",
            "1500/1500 [==============================] - 5s 3ms/step - loss: 0.0617 - accuracy: 0.9767 - val_loss: 0.4585 - val_accuracy: 0.8960\n",
            "Epoch 49/50\n",
            "1500/1500 [==============================] - 6s 4ms/step - loss: 0.0604 - accuracy: 0.9781 - val_loss: 0.4735 - val_accuracy: 0.8957\n",
            "Epoch 50/50\n",
            "1500/1500 [==============================] - 6s 4ms/step - loss: 0.0628 - accuracy: 0.9773 - val_loss: 0.4566 - val_accuracy: 0.8947\n"
          ]
        },
        {
          "output_type": "execute_result",
          "data": {
            "text/plain": [
              "<keras.callbacks.History at 0x7f386fe58410>"
            ]
          },
          "metadata": {},
          "execution_count": 21
        }
      ]
    },
    {
      "cell_type": "code",
      "source": [
        "evaluater = load_model('./checkpoints/evaluater.hdf5')"
      ],
      "metadata": {
        "id": "3Cm8lUUPqWjN"
      },
      "execution_count": 25,
      "outputs": []
    },
    {
      "cell_type": "code",
      "source": [
        "evaluater.evaluate(\n",
        "    x=img_train,\n",
        "    y=label_train,\n",
        "    batch_size=BATCH_SIZE,\n",
        ")"
      ],
      "metadata": {
        "colab": {
          "base_uri": "https://localhost:8080/"
        },
        "id": "SwO9gfVeqXPd",
        "outputId": "3794d488-387d-4d81-ce4a-dbcb8d041a4f"
      },
      "execution_count": 26,
      "outputs": [
        {
          "output_type": "stream",
          "name": "stdout",
          "text": [
            "1875/1875 [==============================] - 4s 2ms/step - loss: 0.1588 - accuracy: 0.9456\n"
          ]
        },
        {
          "output_type": "execute_result",
          "data": {
            "text/plain": [
              "[0.15877357125282288, 0.9456166625022888]"
            ]
          },
          "metadata": {},
          "execution_count": 26
        }
      ]
    },
    {
      "cell_type": "code",
      "source": [
        "evaluater.evaluate(\n",
        "    x=img_test,\n",
        "    y=label_test,\n",
        "    batch_size=BATCH_SIZE,\n",
        ")"
      ],
      "metadata": {
        "colab": {
          "base_uri": "https://localhost:8080/"
        },
        "id": "r3QVISdbqYYs",
        "outputId": "9626a558-96eb-4034-a143-c55fd7976d12"
      },
      "execution_count": 27,
      "outputs": [
        {
          "output_type": "stream",
          "name": "stdout",
          "text": [
            "313/313 [==============================] - 1s 3ms/step - loss: 0.3823 - accuracy: 0.8907\n"
          ]
        },
        {
          "output_type": "execute_result",
          "data": {
            "text/plain": [
              "[0.38228559494018555, 0.8906999826431274]"
            ]
          },
          "metadata": {},
          "execution_count": 27
        }
      ]
    },
    {
      "cell_type": "code",
      "source": [
        ""
      ],
      "metadata": {
        "id": "lXxPwptmyWvm"
      },
      "execution_count": 27,
      "outputs": []
    }
  ]
}