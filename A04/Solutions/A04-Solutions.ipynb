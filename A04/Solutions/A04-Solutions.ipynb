{
  "nbformat": 4,
  "nbformat_minor": 0,
  "metadata": {
    "colab": {
      "name": "HW4.ipynb",
      "provenance": [],
      "collapsed_sections": []
    },
    "kernelspec": {
      "name": "python3",
      "display_name": "Python 3"
    },
    "language_info": {
      "name": "python"
    },
    "accelerator": "GPU",
    "widgets": {
      "application/vnd.jupyter.widget-state+json": {
        "a0bc25e71856433b859a906a707d5b23": {
          "model_module": "@jupyter-widgets/controls",
          "model_name": "HBoxModel",
          "model_module_version": "1.5.0",
          "state": {
            "_view_name": "HBoxView",
            "_dom_classes": [],
            "_model_name": "HBoxModel",
            "_view_module": "@jupyter-widgets/controls",
            "_model_module_version": "1.5.0",
            "_view_count": null,
            "_view_module_version": "1.5.0",
            "box_style": "",
            "layout": "IPY_MODEL_9706a40c1380459d8b68a4a6e0ed3350",
            "_model_module": "@jupyter-widgets/controls",
            "children": [
              "IPY_MODEL_e80d475ecd914c358d80ce3bc3be295c",
              "IPY_MODEL_dd55db01e57e4d069365f4b74f644a80",
              "IPY_MODEL_67eed2782ac84411b6ef9b01b1fb78bc"
            ]
          }
        },
        "9706a40c1380459d8b68a4a6e0ed3350": {
          "model_module": "@jupyter-widgets/base",
          "model_name": "LayoutModel",
          "model_module_version": "1.2.0",
          "state": {
            "_view_name": "LayoutView",
            "grid_template_rows": null,
            "right": null,
            "justify_content": null,
            "_view_module": "@jupyter-widgets/base",
            "overflow": null,
            "_model_module_version": "1.2.0",
            "_view_count": null,
            "flex_flow": null,
            "width": null,
            "min_width": null,
            "border": null,
            "align_items": null,
            "bottom": null,
            "_model_module": "@jupyter-widgets/base",
            "top": null,
            "grid_column": null,
            "overflow_y": null,
            "overflow_x": null,
            "grid_auto_flow": null,
            "grid_area": null,
            "grid_template_columns": null,
            "flex": null,
            "_model_name": "LayoutModel",
            "justify_items": null,
            "grid_row": null,
            "max_height": null,
            "align_content": null,
            "visibility": null,
            "align_self": null,
            "height": null,
            "min_height": null,
            "padding": null,
            "grid_auto_rows": null,
            "grid_gap": null,
            "max_width": null,
            "order": null,
            "_view_module_version": "1.2.0",
            "grid_template_areas": null,
            "object_position": null,
            "object_fit": null,
            "grid_auto_columns": null,
            "margin": null,
            "display": null,
            "left": null
          }
        },
        "e80d475ecd914c358d80ce3bc3be295c": {
          "model_module": "@jupyter-widgets/controls",
          "model_name": "HTMLModel",
          "model_module_version": "1.5.0",
          "state": {
            "_view_name": "HTMLView",
            "style": "IPY_MODEL_ff03e40914c94d09bceb5b44a0d6a013",
            "_dom_classes": [],
            "description": "",
            "_model_name": "HTMLModel",
            "placeholder": "​",
            "_view_module": "@jupyter-widgets/controls",
            "_model_module_version": "1.5.0",
            "value": "",
            "_view_count": null,
            "_view_module_version": "1.5.0",
            "description_tooltip": null,
            "_model_module": "@jupyter-widgets/controls",
            "layout": "IPY_MODEL_e80d11955a1849c6b8537febbee416ae"
          }
        },
        "dd55db01e57e4d069365f4b74f644a80": {
          "model_module": "@jupyter-widgets/controls",
          "model_name": "FloatProgressModel",
          "model_module_version": "1.5.0",
          "state": {
            "_view_name": "ProgressView",
            "style": "IPY_MODEL_3d22195132d24c5da4c1f5b8a15c7a95",
            "_dom_classes": [],
            "description": "",
            "_model_name": "FloatProgressModel",
            "bar_style": "success",
            "max": 170498071,
            "_view_module": "@jupyter-widgets/controls",
            "_model_module_version": "1.5.0",
            "value": 170498071,
            "_view_count": null,
            "_view_module_version": "1.5.0",
            "orientation": "horizontal",
            "min": 0,
            "description_tooltip": null,
            "_model_module": "@jupyter-widgets/controls",
            "layout": "IPY_MODEL_f00d863fb7a549f6b3df4a3f9f638514"
          }
        },
        "67eed2782ac84411b6ef9b01b1fb78bc": {
          "model_module": "@jupyter-widgets/controls",
          "model_name": "HTMLModel",
          "model_module_version": "1.5.0",
          "state": {
            "_view_name": "HTMLView",
            "style": "IPY_MODEL_255dc9cb44c044899b0b753acf318ef6",
            "_dom_classes": [],
            "description": "",
            "_model_name": "HTMLModel",
            "placeholder": "​",
            "_view_module": "@jupyter-widgets/controls",
            "_model_module_version": "1.5.0",
            "value": " 170499072/? [00:05&lt;00:00, 32559413.67it/s]",
            "_view_count": null,
            "_view_module_version": "1.5.0",
            "description_tooltip": null,
            "_model_module": "@jupyter-widgets/controls",
            "layout": "IPY_MODEL_e294b2d5b83f43e6b182bbee468233e8"
          }
        },
        "ff03e40914c94d09bceb5b44a0d6a013": {
          "model_module": "@jupyter-widgets/controls",
          "model_name": "DescriptionStyleModel",
          "model_module_version": "1.5.0",
          "state": {
            "_view_name": "StyleView",
            "_model_name": "DescriptionStyleModel",
            "description_width": "",
            "_view_module": "@jupyter-widgets/base",
            "_model_module_version": "1.5.0",
            "_view_count": null,
            "_view_module_version": "1.2.0",
            "_model_module": "@jupyter-widgets/controls"
          }
        },
        "e80d11955a1849c6b8537febbee416ae": {
          "model_module": "@jupyter-widgets/base",
          "model_name": "LayoutModel",
          "model_module_version": "1.2.0",
          "state": {
            "_view_name": "LayoutView",
            "grid_template_rows": null,
            "right": null,
            "justify_content": null,
            "_view_module": "@jupyter-widgets/base",
            "overflow": null,
            "_model_module_version": "1.2.0",
            "_view_count": null,
            "flex_flow": null,
            "width": null,
            "min_width": null,
            "border": null,
            "align_items": null,
            "bottom": null,
            "_model_module": "@jupyter-widgets/base",
            "top": null,
            "grid_column": null,
            "overflow_y": null,
            "overflow_x": null,
            "grid_auto_flow": null,
            "grid_area": null,
            "grid_template_columns": null,
            "flex": null,
            "_model_name": "LayoutModel",
            "justify_items": null,
            "grid_row": null,
            "max_height": null,
            "align_content": null,
            "visibility": null,
            "align_self": null,
            "height": null,
            "min_height": null,
            "padding": null,
            "grid_auto_rows": null,
            "grid_gap": null,
            "max_width": null,
            "order": null,
            "_view_module_version": "1.2.0",
            "grid_template_areas": null,
            "object_position": null,
            "object_fit": null,
            "grid_auto_columns": null,
            "margin": null,
            "display": null,
            "left": null
          }
        },
        "3d22195132d24c5da4c1f5b8a15c7a95": {
          "model_module": "@jupyter-widgets/controls",
          "model_name": "ProgressStyleModel",
          "model_module_version": "1.5.0",
          "state": {
            "_view_name": "StyleView",
            "_model_name": "ProgressStyleModel",
            "description_width": "",
            "_view_module": "@jupyter-widgets/base",
            "_model_module_version": "1.5.0",
            "_view_count": null,
            "_view_module_version": "1.2.0",
            "bar_color": null,
            "_model_module": "@jupyter-widgets/controls"
          }
        },
        "f00d863fb7a549f6b3df4a3f9f638514": {
          "model_module": "@jupyter-widgets/base",
          "model_name": "LayoutModel",
          "model_module_version": "1.2.0",
          "state": {
            "_view_name": "LayoutView",
            "grid_template_rows": null,
            "right": null,
            "justify_content": null,
            "_view_module": "@jupyter-widgets/base",
            "overflow": null,
            "_model_module_version": "1.2.0",
            "_view_count": null,
            "flex_flow": null,
            "width": null,
            "min_width": null,
            "border": null,
            "align_items": null,
            "bottom": null,
            "_model_module": "@jupyter-widgets/base",
            "top": null,
            "grid_column": null,
            "overflow_y": null,
            "overflow_x": null,
            "grid_auto_flow": null,
            "grid_area": null,
            "grid_template_columns": null,
            "flex": null,
            "_model_name": "LayoutModel",
            "justify_items": null,
            "grid_row": null,
            "max_height": null,
            "align_content": null,
            "visibility": null,
            "align_self": null,
            "height": null,
            "min_height": null,
            "padding": null,
            "grid_auto_rows": null,
            "grid_gap": null,
            "max_width": null,
            "order": null,
            "_view_module_version": "1.2.0",
            "grid_template_areas": null,
            "object_position": null,
            "object_fit": null,
            "grid_auto_columns": null,
            "margin": null,
            "display": null,
            "left": null
          }
        },
        "255dc9cb44c044899b0b753acf318ef6": {
          "model_module": "@jupyter-widgets/controls",
          "model_name": "DescriptionStyleModel",
          "model_module_version": "1.5.0",
          "state": {
            "_view_name": "StyleView",
            "_model_name": "DescriptionStyleModel",
            "description_width": "",
            "_view_module": "@jupyter-widgets/base",
            "_model_module_version": "1.5.0",
            "_view_count": null,
            "_view_module_version": "1.2.0",
            "_model_module": "@jupyter-widgets/controls"
          }
        },
        "e294b2d5b83f43e6b182bbee468233e8": {
          "model_module": "@jupyter-widgets/base",
          "model_name": "LayoutModel",
          "model_module_version": "1.2.0",
          "state": {
            "_view_name": "LayoutView",
            "grid_template_rows": null,
            "right": null,
            "justify_content": null,
            "_view_module": "@jupyter-widgets/base",
            "overflow": null,
            "_model_module_version": "1.2.0",
            "_view_count": null,
            "flex_flow": null,
            "width": null,
            "min_width": null,
            "border": null,
            "align_items": null,
            "bottom": null,
            "_model_module": "@jupyter-widgets/base",
            "top": null,
            "grid_column": null,
            "overflow_y": null,
            "overflow_x": null,
            "grid_auto_flow": null,
            "grid_area": null,
            "grid_template_columns": null,
            "flex": null,
            "_model_name": "LayoutModel",
            "justify_items": null,
            "grid_row": null,
            "max_height": null,
            "align_content": null,
            "visibility": null,
            "align_self": null,
            "height": null,
            "min_height": null,
            "padding": null,
            "grid_auto_rows": null,
            "grid_gap": null,
            "max_width": null,
            "order": null,
            "_view_module_version": "1.2.0",
            "grid_template_areas": null,
            "object_position": null,
            "object_fit": null,
            "grid_auto_columns": null,
            "margin": null,
            "display": null,
            "left": null
          }
        }
      }
    }
  },
  "cells": [
    {
      "cell_type": "markdown",
      "metadata": {
        "id": "e0XsDwJ4W_dL"
      },
      "source": [
        "## Q3"
      ]
    },
    {
      "cell_type": "code",
      "metadata": {
        "id": "YOl4RW8fWv7V"
      },
      "source": [
        "import torch\n",
        "import torchvision\n",
        "import torchvision.transforms as transforms\n",
        "import torch.nn as nn\n",
        "import torch.nn.functional as F\n",
        "import torch.optim as optim"
      ],
      "execution_count": 1,
      "outputs": []
    },
    {
      "cell_type": "code",
      "metadata": {
        "id": "gq1p29Q0Y2yn"
      },
      "source": [
        "BATCH_SIZE = 4\n",
        "LEARNING_RATE = 0.001\n",
        "EPOCHS = 2\n",
        "PATH = './cifar_net.pth'"
      ],
      "execution_count": 2,
      "outputs": []
    },
    {
      "cell_type": "markdown",
      "metadata": {
        "id": "vpLAUxeFb8r8"
      },
      "source": [
        "### Dataset"
      ]
    },
    {
      "cell_type": "code",
      "metadata": {
        "id": "uOyAKvKGbtwL"
      },
      "source": [
        "classes = (\n",
        "  'plane',\n",
        "  'car',\n",
        "  'bird',\n",
        "  'cat',\n",
        "  'deer',\n",
        "  'dog',\n",
        "  'frog',\n",
        "  'horse',\n",
        "  'ship',\n",
        "  'truck'\n",
        ")"
      ],
      "execution_count": 3,
      "outputs": []
    },
    {
      "cell_type": "code",
      "metadata": {
        "colab": {
          "base_uri": "https://localhost:8080/",
          "height": 82,
          "referenced_widgets": [
            "a0bc25e71856433b859a906a707d5b23",
            "9706a40c1380459d8b68a4a6e0ed3350",
            "e80d475ecd914c358d80ce3bc3be295c",
            "dd55db01e57e4d069365f4b74f644a80",
            "67eed2782ac84411b6ef9b01b1fb78bc",
            "ff03e40914c94d09bceb5b44a0d6a013",
            "e80d11955a1849c6b8537febbee416ae",
            "3d22195132d24c5da4c1f5b8a15c7a95",
            "f00d863fb7a549f6b3df4a3f9f638514",
            "255dc9cb44c044899b0b753acf318ef6",
            "e294b2d5b83f43e6b182bbee468233e8"
          ]
        },
        "id": "W3NcixR5bzYY",
        "outputId": "2a9d7034-31d5-42a8-c302-411a63fbf42c"
      },
      "source": [
        "# Train\n",
        "# Augmentation on train set is implemented\n",
        "train_transform = transforms.Compose([\n",
        "  transforms.ToTensor(),\n",
        "  transforms.Normalize((0.5, 0.5, 0.5), (0.5, 0.5, 0.5)),\n",
        "  transforms.RandomHorizontalFlip(p=0.5),\n",
        "  transforms.RandomVerticalFlip(p=0.5),\n",
        "  transforms.RandomRotation(degrees=(0, 180)),\n",
        "  transforms.RandomGrayscale(p=0.1),\n",
        "])\n",
        "\n",
        "trainset = torchvision.datasets.CIFAR10(\n",
        "  root='./data',\n",
        "  train=True,\n",
        "  download=True,\n",
        "  transform=train_transform\n",
        ")\n",
        "\n",
        "trainloader = torch.utils.data.DataLoader(\n",
        "  trainset,\n",
        "  batch_size=BATCH_SIZE,\n",
        "  shuffle=True,\n",
        "  num_workers=2\n",
        ")"
      ],
      "execution_count": 4,
      "outputs": [
        {
          "output_type": "stream",
          "name": "stdout",
          "text": [
            "Downloading https://www.cs.toronto.edu/~kriz/cifar-10-python.tar.gz to ./data/cifar-10-python.tar.gz\n"
          ]
        },
        {
          "output_type": "display_data",
          "data": {
            "application/vnd.jupyter.widget-view+json": {
              "model_id": "a0bc25e71856433b859a906a707d5b23",
              "version_minor": 0,
              "version_major": 2
            },
            "text/plain": [
              "  0%|          | 0/170498071 [00:00<?, ?it/s]"
            ]
          },
          "metadata": {}
        },
        {
          "output_type": "stream",
          "name": "stdout",
          "text": [
            "Extracting ./data/cifar-10-python.tar.gz to ./data\n"
          ]
        }
      ]
    },
    {
      "cell_type": "code",
      "metadata": {
        "colab": {
          "base_uri": "https://localhost:8080/"
        },
        "id": "1wECyWUoYSjo",
        "outputId": "f68fb07f-71de-4012-c1d5-0f350397a9e4"
      },
      "source": [
        "# Test\n",
        "# Test set does not have augmentation\n",
        "test_transform = transforms.Compose([\n",
        "  transforms.ToTensor(),\n",
        "  transforms.Normalize((0.5, 0.5, 0.5), (0.5, 0.5, 0.5)),\n",
        "])\n",
        "\n",
        "testset = torchvision.datasets.CIFAR10(\n",
        "  root='./data',\n",
        "  train=False,\n",
        "  download=True,\n",
        "  transform=test_transform\n",
        ")\n",
        "\n",
        "testloader = torch.utils.data.DataLoader(\n",
        "  testset,\n",
        "  batch_size=BATCH_SIZE,\n",
        "  shuffle=False,\n",
        "  num_workers=2\n",
        ")"
      ],
      "execution_count": 5,
      "outputs": [
        {
          "output_type": "stream",
          "name": "stdout",
          "text": [
            "Files already downloaded and verified\n"
          ]
        }
      ]
    },
    {
      "cell_type": "markdown",
      "metadata": {
        "id": "E9m98YU_cK2o"
      },
      "source": [
        "### Model"
      ]
    },
    {
      "cell_type": "code",
      "metadata": {
        "id": "H96H2vq8bgf5"
      },
      "source": [
        "class Net(nn.Module):\n",
        "  def __init__(self):\n",
        "    super().__init__()\n",
        "    # All Conv2d layers has the same arguments\n",
        "    self.KERNEL_SIZE = 3\n",
        "    self.STRIDE = 1\n",
        "    self.PADDING = 1\n",
        "\n",
        "    self.conv_layer = nn.Sequential(\n",
        "      # 3*32*32 => 8*32*32\n",
        "      nn.Conv2d(\n",
        "        in_channels=3,\n",
        "        out_channels=8,\n",
        "        kernel_size=self.KERNEL_SIZE,\n",
        "        stride=self.STRIDE,\n",
        "        padding=self.PADDING\n",
        "      ),\n",
        "      nn.BatchNorm2d(8),\n",
        "      nn.ReLU(),\n",
        "\n",
        "      # 8*32*32 => 16*32*32\n",
        "      nn.Conv2d(\n",
        "        in_channels=8,\n",
        "        out_channels=16,\n",
        "        kernel_size=self.KERNEL_SIZE,\n",
        "        stride=self.STRIDE,\n",
        "        padding=self.PADDING\n",
        "      ),\n",
        "      nn.ReLU(),\n",
        "\n",
        "      # 16*32*32 => 16*16*16\n",
        "      nn.MaxPool2d(kernel_size=2, stride=2),\n",
        "\n",
        "      # 16*16*16 => 32*16*16\n",
        "      nn.Conv2d(\n",
        "        in_channels=16,\n",
        "        out_channels=32,\n",
        "        kernel_size=self.KERNEL_SIZE,\n",
        "        stride=self.STRIDE,\n",
        "        padding=self.PADDING\n",
        "      ),\n",
        "      nn.BatchNorm2d(32),\n",
        "      nn.ReLU(),\n",
        "\n",
        "      # 32*16*16 => 64*16*16\n",
        "      nn.Conv2d(\n",
        "        in_channels=32,\n",
        "        out_channels=64,\n",
        "        kernel_size=self.KERNEL_SIZE,\n",
        "        stride=self.STRIDE,\n",
        "        padding=self.PADDING\n",
        "      ),\n",
        "      nn.ReLU(),\n",
        "\n",
        "      # 64*16*16 => 64*8*8\n",
        "      nn.MaxPool2d(kernel_size=2, stride=2),\n",
        "\n",
        "      nn.Dropout2d(p=0.05),\n",
        "\n",
        "      # 64*8*8 => 128*8*8\n",
        "      nn.Conv2d(\n",
        "        in_channels=64,\n",
        "        out_channels=128,\n",
        "        kernel_size=self.KERNEL_SIZE,\n",
        "        stride=self.STRIDE,\n",
        "        padding=self.PADDING\n",
        "      ),\n",
        "      nn.BatchNorm2d(128),\n",
        "      nn.ReLU(),\n",
        "\n",
        "      # 128*8*8 => 256*8*8\n",
        "      nn.Conv2d(\n",
        "        in_channels=128,\n",
        "        out_channels=256,\n",
        "        kernel_size=self.KERNEL_SIZE,\n",
        "        stride=self.STRIDE,\n",
        "        padding=self.PADDING\n",
        "      ),\n",
        "      nn.ReLU(),\n",
        "\n",
        "      # 256*8*8 => 256*4*4\n",
        "      nn.MaxPool2d(kernel_size=2, stride=2),\n",
        "    )\n",
        "\n",
        "    self.fc_layer = nn.Sequential(\n",
        "      nn.Dropout2d(p=0.05),\n",
        "\n",
        "      nn.Linear(in_features=256*4*4, out_features=512),\n",
        "      nn.ReLU(),\n",
        "\n",
        "      nn.Linear(in_features=512, out_features=256),\n",
        "      nn.ReLU(),\n",
        "\n",
        "      nn.Dropout(p=0.05),\n",
        "\n",
        "      nn.Linear(in_features=256, out_features=10)\n",
        "    )\n",
        "\n",
        "\n",
        "  def forward(self, x):\n",
        "    x = self.conv_layer(x)\n",
        "    x = x.view(x.size(0), -1)\n",
        "    x = self.fc_layer(x)\n",
        "    return x"
      ],
      "execution_count": 6,
      "outputs": []
    },
    {
      "cell_type": "code",
      "metadata": {
        "id": "6fqWBdAGcfY8"
      },
      "source": [
        "net = Net()\n",
        "\n",
        "criterion = nn.CrossEntropyLoss()\n",
        "\n",
        "optimizer = optim.Adam(\n",
        "  net.parameters(),\n",
        "  lr=LEARNING_RATE,\n",
        "  betas=(0.9, 0.999),\n",
        "  eps=1e-08,\n",
        "  weight_decay=0,\n",
        "  amsgrad=False\n",
        ")"
      ],
      "execution_count": 7,
      "outputs": []
    },
    {
      "cell_type": "code",
      "metadata": {
        "colab": {
          "base_uri": "https://localhost:8080/"
        },
        "id": "KWGHd7V7grXl",
        "outputId": "d02eaee5-b9c9-4b10-a860-92a8fd9bae55"
      },
      "source": [
        "GPU = torch.cuda.is_available()\n",
        "if GPU:\n",
        "  net.cuda()\n",
        "  print(\"GPU Enabled\")"
      ],
      "execution_count": 8,
      "outputs": [
        {
          "output_type": "stream",
          "name": "stdout",
          "text": [
            "GPU Enabled\n"
          ]
        }
      ]
    },
    {
      "cell_type": "markdown",
      "metadata": {
        "id": "Gj8cFk2mffJe"
      },
      "source": [
        "### Train"
      ]
    },
    {
      "cell_type": "code",
      "metadata": {
        "colab": {
          "base_uri": "https://localhost:8080/"
        },
        "id": "iLEHzDa-cpYw",
        "outputId": "83e47e2f-96cb-4f9e-9dfe-6c486ab4926a"
      },
      "source": [
        "for epoch in range(EPOCHS):\n",
        "  running_loss = 0.0\n",
        "\n",
        "  for i, data in enumerate(trainloader, 0):\n",
        "    # get the inputs; data is a list of [inputs, labels]\n",
        "    inputs, labels = data\n",
        "\n",
        "    # GPU support\n",
        "    if GPU:\n",
        "      inputs = inputs.cuda()\n",
        "      labels = labels.cuda()\n",
        "\n",
        "    # zero the parameter gradients\n",
        "    optimizer.zero_grad()\n",
        "\n",
        "    # forward + backward + optimize\n",
        "    outputs = net(inputs)\n",
        "    loss = criterion(outputs, labels)\n",
        "    loss.backward()\n",
        "    running_loss += loss.item()\n",
        "    optimizer.step()\n",
        "\n",
        "    # print statistics every 2000 mini-batches\n",
        "    if i % 2000 == 1999:\n",
        "      print('[%d, %5d] loss: %.3f' %\n",
        "            (epoch + 1, i + 1, running_loss / 2000))\n",
        "      running_loss = 0.0"
      ],
      "execution_count": 9,
      "outputs": [
        {
          "output_type": "stream",
          "name": "stderr",
          "text": [
            "/usr/local/lib/python3.7/dist-packages/torch/nn/functional.py:718: UserWarning: Named tensors and all their associated APIs are an experimental feature and subject to change. Please do not use them for anything important until they are released as stable. (Triggered internally at  /pytorch/c10/core/TensorImpl.h:1156.)\n",
            "  return torch.max_pool2d(input, kernel_size, stride, padding, dilation, ceil_mode)\n"
          ]
        },
        {
          "output_type": "stream",
          "name": "stdout",
          "text": [
            "[1,  2000] loss: 2.207\n",
            "[1,  4000] loss: 2.140\n",
            "[1,  6000] loss: 2.094\n",
            "[1,  8000] loss: 2.061\n",
            "[1, 10000] loss: 2.024\n",
            "[1, 12000] loss: 1.977\n",
            "[2,  2000] loss: 1.964\n",
            "[2,  4000] loss: 1.947\n",
            "[2,  6000] loss: 1.929\n",
            "[2,  8000] loss: 1.912\n",
            "[2, 10000] loss: 1.907\n",
            "[2, 12000] loss: 1.873\n"
          ]
        }
      ]
    },
    {
      "cell_type": "code",
      "metadata": {
        "id": "qK--CnFcdOhX"
      },
      "source": [
        "torch.save(net.state_dict(), PATH)"
      ],
      "execution_count": 10,
      "outputs": []
    },
    {
      "cell_type": "markdown",
      "metadata": {
        "id": "ZMYXUPxpfh04"
      },
      "source": [
        "### Evaluation on test set"
      ]
    },
    {
      "cell_type": "code",
      "metadata": {
        "id": "-sUohrUOdSC2"
      },
      "source": [
        "net = Net()\n",
        "net.load_state_dict(torch.load(PATH))\n",
        "\n",
        "if GPU:\n",
        "  net.cuda()"
      ],
      "execution_count": 11,
      "outputs": []
    },
    {
      "cell_type": "code",
      "metadata": {
        "colab": {
          "base_uri": "https://localhost:8080/"
        },
        "id": "Do0cGlLydUWz",
        "outputId": "e168f2a2-ff02-4747-b6b3-f04fe31cf7ab"
      },
      "source": [
        "correct = 0\n",
        "total = 0\n",
        "\n",
        "with torch.no_grad():\n",
        "  for data in testloader:\n",
        "    inputs, labels = data\n",
        "\n",
        "    if GPU:\n",
        "      inputs = inputs.cuda()\n",
        "      labels = labels.cuda()\n",
        "\n",
        "    outputs = net(inputs)\n",
        "    _, predicted = torch.max(outputs.data, 1)\n",
        "    total += labels.size(0)\n",
        "    correct += (predicted == labels).sum().item()\n",
        "    \n",
        "acc = correct / total * 100\n",
        "print(f'Accuracy: {acc:2f}%')"
      ],
      "execution_count": 12,
      "outputs": [
        {
          "output_type": "stream",
          "name": "stdout",
          "text": [
            "Accuracy: 33.360000%\n"
          ]
        }
      ]
    },
    {
      "cell_type": "code",
      "metadata": {
        "colab": {
          "base_uri": "https://localhost:8080/"
        },
        "id": "EWsmOl0adgJa",
        "outputId": "3dec828e-7d61-4a19-8ac5-cc0400bcd14c"
      },
      "source": [
        "correct_pred = {classname: 0 for classname in classes}\n",
        "total_pred = {classname: 0 for classname in classes}\n",
        "\n",
        "with torch.no_grad():\n",
        "  for data in testloader:\n",
        "    inputs, labels = data\n",
        "\n",
        "    if GPU:\n",
        "      inputs = inputs.cuda()\n",
        "      labels = labels.cuda()\n",
        "\n",
        "    outputs = net(inputs)\n",
        "    _, predictions = torch.max(outputs, 1)\n",
        "    for label, prediction in zip(labels, predictions):\n",
        "      if label == prediction:\n",
        "        correct_pred[classes[label]] += 1\n",
        "      total_pred[classes[label]] += 1\n",
        "\n",
        "for classname, correct_count in correct_pred.items():\n",
        "  accuracy = 100 * float(correct_count) / total_pred[classname]\n",
        "  print(f\"Accuracy for class {classname:5s} is: {accuracy:.1f}\")"
      ],
      "execution_count": 13,
      "outputs": [
        {
          "output_type": "stream",
          "name": "stdout",
          "text": [
            "Accuracy for class plane is: 23.2\n",
            "Accuracy for class car   is: 36.6\n",
            "Accuracy for class bird  is: 19.9\n",
            "Accuracy for class cat   is: 15.0\n",
            "Accuracy for class deer  is: 33.8\n",
            "Accuracy for class dog   is: 12.9\n",
            "Accuracy for class frog  is: 51.8\n",
            "Accuracy for class horse is: 38.2\n",
            "Accuracy for class ship  is: 51.0\n",
            "Accuracy for class truck is: 52.4\n"
          ]
        }
      ]
    },
    {
      "cell_type": "code",
      "metadata": {
        "id": "56vUE_4yei5m"
      },
      "source": [
        ""
      ],
      "execution_count": 13,
      "outputs": []
    }
  ]
}